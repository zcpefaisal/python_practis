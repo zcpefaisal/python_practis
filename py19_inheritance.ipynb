{
 "cells": [
  {
   "cell_type": "code",
   "execution_count": 8,
   "id": "32a00353",
   "metadata": {},
   "outputs": [
    {
     "name": "stdout",
     "output_type": "stream",
     "text": [
      "Feature 1 working\n",
      "Feature 2 working\n",
      "Feature 1 working\n",
      "Feature 2 working\n",
      "Feature 3 working\n",
      "Feature 4 working\n"
     ]
    }
   ],
   "source": [
    "# Python Inheritance\n",
    "# Inheritance allows us to define a class that inherits all the methods and properties from another class.\n",
    "# Parent class is the class being inherited from, also called base class.\n",
    "# Child class is the class that inherits from another class, also called derived class.\n",
    "\n",
    "class A:\n",
    "    def feature1(self):\n",
    "        print('Feature 1 working')\n",
    "        \n",
    "    def feature2(self):\n",
    "        print('Feature 2 working')\n",
    "# Singlelevel inheritance       \n",
    "class B(A):\n",
    "    def feature3(self):\n",
    "        print('Feature 3 working')\n",
    "        \n",
    "    def feature4(self):\n",
    "        print('Feature 4 working')\n",
    "\n",
    "        \n",
    "# here A is super/parent class B is sub / child class\n",
    "# this example is single level inheritance\n",
    "a1 = A()\n",
    "a1.feature1()\n",
    "a1.feature2()\n",
    "\n",
    "b1 = B()\n",
    "b1.feature1()\n",
    "b1.feature2()\n",
    "b1.feature3()\n",
    "b1.feature4()"
   ]
  },
  {
   "cell_type": "code",
   "execution_count": 14,
   "id": "c78fe0cf",
   "metadata": {},
   "outputs": [
    {
     "name": "stdout",
     "output_type": "stream",
     "text": [
      "Feature 1 working\n",
      "Feature 2 working\n",
      "Feature 3 working\n",
      "Feature 4 working\n",
      "Feature 5 working\n"
     ]
    }
   ],
   "source": [
    "# Multilevel inheritance\n",
    "class C(B):\n",
    "    def feature5(self):\n",
    "        print('Feature 5 working')\n",
    "\n",
    "c1 = C()\n",
    "c1.feature1()\n",
    "c1.feature2()\n",
    "c1.feature3()\n",
    "c1.feature4()\n",
    "c1.feature5()"
   ]
  },
  {
   "cell_type": "code",
   "execution_count": 17,
   "id": "c15353e9",
   "metadata": {},
   "outputs": [
    {
     "name": "stdout",
     "output_type": "stream",
     "text": [
      "Feature 1 working\n",
      "Feature 2 working\n",
      "Feature 3 working\n",
      "Feature 4 working\n",
      "Feature 1 working\n",
      "Feature 2 working\n",
      "Feature 3 working\n",
      "Feature 4 working\n",
      "Feature 5 working\n"
     ]
    }
   ],
   "source": [
    "# Multiple inheritance\n",
    "class AA:\n",
    "    def feature1(self):\n",
    "        print('Feature 1 working')\n",
    "        \n",
    "    def feature2(self):\n",
    "        print('Feature 2 working')\n",
    "        \n",
    "class BB():\n",
    "    def feature3(self):\n",
    "        print('Feature 3 working')\n",
    "        \n",
    "    def feature4(self):\n",
    "        print('Feature 4 working')\n",
    "\n",
    "# CC is inheriting AA and BB class\n",
    "class CC(AA,BB):\n",
    "    def feature5(self):\n",
    "        print('Feature 5 working')\n",
    "        \n",
    "aa = AA()\n",
    "aa.feature1()\n",
    "aa.feature2()\n",
    "bb = BB()\n",
    "bb.feature3()\n",
    "bb.feature4()\n",
    "c1 = CC()\n",
    "c1.feature1()\n",
    "c1.feature2()\n",
    "c1.feature3()\n",
    "c1.feature4()\n",
    "c1.feature5()"
   ]
  },
  {
   "cell_type": "code",
   "execution_count": 7,
   "id": "04b4dedd",
   "metadata": {},
   "outputs": [
    {
     "name": "stdout",
     "output_type": "stream",
     "text": [
      "in A init\n",
      "in A init\n",
      "in B init\n",
      "in A init\n",
      "in BBB init\n"
     ]
    }
   ],
   "source": [
    "# Constructor (__init__, super)inheritance\n",
    "class AAA:\n",
    "    def __init__(self):\n",
    "        print(\"in A init\")\n",
    "        \n",
    "    def feature1(self):\n",
    "        print('Feature 1 working')\n",
    "        \n",
    "    def feature2(self):\n",
    "        print('Feature 2 working')\n",
    "        \n",
    "class BBB(AAA):\n",
    "    \n",
    "    def __init__(self):\n",
    "        super().__init__() # call super/parent class init\n",
    "        print(\"in B init\")\n",
    "        \n",
    "    def feature3(self):\n",
    "        print('Feature 3 working')\n",
    "        \n",
    "    def feature4(self):\n",
    "        print('Feature 4 working')\n",
    "\n",
    "        \n",
    "# if you crate object of sub class, it will first try to find init of sub class\n",
    "# if it is not found in sub class then it will call init of super class\n",
    "# if you have call super then it will first call init of super class then call init of sub class\n",
    "aaa = AAA()\n",
    "aaa = BBB()"
   ]
  },
  {
   "cell_type": "code",
   "execution_count": 20,
   "id": "a6884ab2",
   "metadata": {},
   "outputs": [
    {
     "name": "stdout",
     "output_type": "stream",
     "text": [
      "in A init\n",
      "in C init\n",
      "common Feature working Form A\n",
      "Feature 1 working\n",
      "in A init\n",
      "in C init\n"
     ]
    }
   ],
   "source": [
    "# Constructor inheritance\n",
    "class AAAA:\n",
    "    def __init__(self):\n",
    "        print(\"in A init\")\n",
    "        \n",
    "    def conmmnFeature(self):\n",
    "        print('common Feature working Form A')\n",
    "        \n",
    "    def feature1(self):\n",
    "        print('Feature 1 working')\n",
    "        \n",
    "    def feature2(self):\n",
    "        print('Feature 2 working')\n",
    "        \n",
    "class BBBB():\n",
    "    \n",
    "    def __init__(self):\n",
    "        super().__init__() # call super/parent class init\n",
    "        print(\"in B init\")\n",
    "    \n",
    "    def conmmnFeature(self):\n",
    "        print('wcommon Feature working form B')\n",
    "        \n",
    "    def feature3(self):\n",
    "        print('Feature 3 working')\n",
    "        \n",
    "    def feature4(self):\n",
    "        print('Feature 4 working')\n",
    "\n",
    "        \n",
    "class CCCC(AAAA, BBBB):\n",
    "    \n",
    "    def __init__(self):\n",
    "        super().__init__() # here follow MRO(Method Relational Order) -> always left to right\n",
    "        print(\"in C init\")\n",
    "    \n",
    "    def callFeature(self):\n",
    "        super().feature1()\n",
    "        \n",
    "        \n",
    "class DDDD(CCCC):\n",
    "    def __init__(self):\n",
    "        CCCC.__init__(self) # __init__ call by\n",
    "        \n",
    "aaa = CCCC()\n",
    "aaa.conmmnFeature() # here follow MRO(Method Relational Order) -> always left to right\n",
    "aaa.callFeature()\n",
    "dddd = DDDD()"
   ]
  },
  {
   "cell_type": "code",
   "execution_count": null,
   "id": "b6614871",
   "metadata": {},
   "outputs": [],
   "source": []
  }
 ],
 "metadata": {
  "kernelspec": {
   "display_name": "Python 3 (ipykernel)",
   "language": "python",
   "name": "python3"
  },
  "language_info": {
   "codemirror_mode": {
    "name": "ipython",
    "version": 3
   },
   "file_extension": ".py",
   "mimetype": "text/x-python",
   "name": "python",
   "nbconvert_exporter": "python",
   "pygments_lexer": "ipython3",
   "version": "3.8.10"
  },
  "varInspector": {
   "cols": {
    "lenName": 16,
    "lenType": 16,
    "lenVar": 40
   },
   "kernels_config": {
    "python": {
     "delete_cmd_postfix": "",
     "delete_cmd_prefix": "del ",
     "library": "var_list.py",
     "varRefreshCmd": "print(var_dic_list())"
    },
    "r": {
     "delete_cmd_postfix": ") ",
     "delete_cmd_prefix": "rm(",
     "library": "var_list.r",
     "varRefreshCmd": "cat(var_dic_list()) "
    }
   },
   "types_to_exclude": [
    "module",
    "function",
    "builtin_function_or_method",
    "instance",
    "_Feature"
   ],
   "window_display": false
  }
 },
 "nbformat": 4,
 "nbformat_minor": 5
}
