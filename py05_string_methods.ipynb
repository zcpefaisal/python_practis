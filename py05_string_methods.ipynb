{
 "cells": [
  {
   "cell_type": "code",
   "execution_count": 7,
   "id": "8477fcb6",
   "metadata": {},
   "outputs": [
    {
     "name": "stdout",
     "output_type": "stream",
     "text": [
      "31 is my age\n"
     ]
    }
   ],
   "source": [
    "# Note: All string methods return new values. Do not change the original string\n",
    "# txt = \"hello, And welcome to my world. this is test\"\n",
    "# txt = '31 is my age'\n",
    "a = txt.capitalize() # The first character is converted to upper case, and the rest are converted to lower case:\n",
    "print(a)\n"
   ]
  },
  {
   "cell_type": "code",
   "execution_count": 9,
   "id": "cef2244d",
   "metadata": {},
   "outputs": [
    {
     "name": "stdout",
     "output_type": "stream",
     "text": [
      "hello, and welcome to my world!\n"
     ]
    }
   ],
   "source": [
    "txt = \"Hello, And Welcome To My World!\"\n",
    "a = txt.casefold() # casefold() is similar to the lower(). but casefold() method is stronger, more aggressive meaning that it will convert more characters into lower case, and will find more matches when comparing two strings and both are converted using the casefold() method.\n",
    "print(a)"
   ]
  },
  {
   "cell_type": "code",
   "execution_count": 13,
   "id": "e88c6ba5",
   "metadata": {},
   "outputs": [
    {
     "name": "stdout",
     "output_type": "stream",
     "text": [
      "       faisal       \n"
     ]
    }
   ],
   "source": [
    "txt = \"faisal\"\n",
    "a = txt.center(20) # Print the word \"faisal\", taking up the space of 20 characters, with \"faisal\" in the middle\n",
    "print(a)"
   ]
  },
  {
   "cell_type": "code",
   "execution_count": 14,
   "id": "6ea222e5",
   "metadata": {},
   "outputs": [
    {
     "name": "stdout",
     "output_type": "stream",
     "text": [
      "*******faisal*******\n"
     ]
    }
   ],
   "source": [
    "b = txt.center(20, '*') # paramater (length, character)\n",
    "# length = Required. The length of the returned string\n",
    "# character = Optional. The character to fill the missing space on each side. Default is \" \" (space)\n",
    "\n",
    "print(b)"
   ]
  },
  {
   "cell_type": "code",
   "execution_count": 6,
   "id": "cd27d351",
   "metadata": {},
   "outputs": [
    {
     "name": "stdout",
     "output_type": "stream",
     "text": [
      "3\n"
     ]
    }
   ],
   "source": [
    "# Return the number of times the value \"search string\" appears in the string:\n",
    "txt = \"I love mango, mango is my favorite fruitå\"\n",
    "c = txt.count('m', 0, 25) # txt.count('search string', (opt)start position, (opt)end position)\n",
    "print(c)"
   ]
  },
  {
   "cell_type": "code",
   "execution_count": 8,
   "id": "c9c450d2",
   "metadata": {},
   "outputs": [
    {
     "name": "stdout",
     "output_type": "stream",
     "text": [
      "b'I love mango, mango is my favorite fruit\\xc3\\xa5'\n"
     ]
    }
   ],
   "source": [
    "d = txt.encode()\n",
    "print(d)"
   ]
  },
  {
   "cell_type": "code",
   "execution_count": 19,
   "id": "ee796875",
   "metadata": {},
   "outputs": [
    {
     "name": "stdout",
     "output_type": "stream",
     "text": [
      "b'I love mango, mango is my favorite fruit'\n",
      "b'I love mango, mango is my favorite fruit\\\\xe5'\n",
      "b'I love mango, mango is my favorite fruit\\\\N{LATIN SMALL LETTER A WITH RING ABOVE}'\n",
      "b'I love mango, mango is my favorite fruit?'\n",
      "b'I love mango, mango is my favorite fruit&#229;'\n"
     ]
    }
   ],
   "source": [
    "dd = txt.encode(encoding='ascii', errors='ignore')\n",
    "print(dd)\n",
    "print(txt.encode(encoding=\"ascii\", errors=\"backslashreplace\"))\n",
    "print(txt.encode(encoding=\"ascii\", errors='namereplace'))\n",
    "print(txt.encode(encoding=\"ascii\", errors='replace'))\n",
    "print(txt.encode(encoding=\"ascii\", errors='xmlcharrefreplace'))"
   ]
  },
  {
   "cell_type": "code",
   "execution_count": 32,
   "id": "20fbb3c3",
   "metadata": {
    "scrolled": true
   },
   "outputs": [
    {
     "name": "stdout",
     "output_type": "stream",
     "text": [
      "True\n",
      "True\n",
      "False\n"
     ]
    }
   ],
   "source": [
    "txt = \"Hello, welcome to my world...\"\n",
    "print(txt.endswith('.')) # \n",
    "print(txt.endswith('world...', ))\n",
    "print(txt.endswith('.', 2, 15))"
   ]
  },
  {
   "cell_type": "code",
   "execution_count": 34,
   "id": "a3c09b75",
   "metadata": {},
   "outputs": [
    {
     "name": "stdout",
     "output_type": "stream",
     "text": [
      "H   e   l   l   o\n"
     ]
    }
   ],
   "source": [
    "txt = \"H\\te\\tl\\tl\\to\"\n",
    "print(txt.expandtabs(4)) # Set the tab size with whitespaces"
   ]
  },
  {
   "cell_type": "code",
   "execution_count": 14,
   "id": "693f5638",
   "metadata": {},
   "outputs": [
    {
     "name": "stdout",
     "output_type": "stream",
     "text": [
      "7\n",
      "-1\n",
      "21\n",
      "-1\n",
      "7\n"
     ]
    }
   ],
   "source": [
    "txt = \"Hello, welcome to my world.\"\n",
    "# find() getting the first occurrence of the specified value otherwise return -1\n",
    "print(txt.find('w'))\n",
    "print(txt.find('z'))\n",
    "print(txt.find('w', 10))\n",
    "print(txt.find('w', 10, 20))\n",
    "\n",
    "\n",
    "\n",
    "# index() almost same as find(), getting the first occurrence of the specified value otherwise return ValueError: substring not found\n",
    "print(txt.index('w'))\n",
    "# print(txt.index('z')) # ValueError: substring not found"
   ]
  },
  {
   "cell_type": "code",
   "execution_count": 28,
   "id": "dbc2c9aa",
   "metadata": {},
   "outputs": [
    {
     "name": "stdout",
     "output_type": "stream",
     "text": [
      "Mina have  20.00 and Rina have  5.00 and Tina have  5.00\n",
      "My name is Faisal, I'm 31\n",
      "My name is Faisal, I'm 31\n"
     ]
    }
   ],
   "source": [
    "txt = \"Mina have {pen: .2f} and Rina have {pencil: .2f} and Tina have {pencil: .2f}\"\n",
    "print(txt.format(pencil=5, pen=20)) # insert value inside the string placeholder\n",
    "\n",
    "txt1 = \"My name is {name}, I'm {age}\".format(name = \"Faisal\", age = 31)\n",
    "txt2 = \"My name is {0}, I'm {1}\".format(\"Faisal\", 31)\n",
    "print(txt1)\n",
    "print(txt2)\n",
    "\n",
    "# Formatting Types\n",
    "# ----------------\n",
    "# :< = Left aligns the result (within the available space)\n",
    "# :> = Right aligns the result (within the available space)\n",
    "# :^ = Center aligns the result (within the available space)\n",
    "# := = Places the sign to the left most position\n",
    "# :+ = Use a plus sign to indicate if the result is positive or negative\n",
    "# :- = Use a minus sign for negative values only\n",
    "# :  = Use a space to insert an extra space before positive numbers (and a minus sign before negative numbers)\n",
    "# :, = Use a comma as a thousand separator\n",
    "# :_ = Use a underscore as a thousand separator\n",
    "# :b = Binary format\n",
    "# :c = Converts the value into the corresponding unicode character\n",
    "# :d = Decimal format\n",
    "# :e = Scientific format, with a lower case e\n",
    "# :E = Scientific format, with an upper case E\n",
    "# :f = Fix point number format\n",
    "# :F = Fix point number format, in uppercase format (show inf and nan as INF and NAN)\n",
    "# :g = General format\n",
    "# :G = General format (using a upper case E for scientific notations)\n",
    "# :o = Octal format\n",
    "# :x = Hex format, lower case\n",
    "# :X = Hex format, upper case\n",
    "# :n = Number format\n",
    "# :% = Percentage format"
   ]
  },
  {
   "cell_type": "code",
   "execution_count": 45,
   "id": "accd6277",
   "metadata": {},
   "outputs": [
    {
     "name": "stdout",
     "output_type": "stream",
     "text": [
      "True\n",
      "False\n",
      "True\n",
      "False\n",
      "True\n"
     ]
    }
   ],
   "source": [
    "txt = \"Apple12max\"\n",
    "print(txt.isalnum()) # True\n",
    "txt2 = \"Apple 12 max\"\n",
    "print(txt2.isalnum()) # False\n",
    "txt3 = 'Apple'\n",
    "print(txt3.isalpha())\n",
    "print(txt3.isnumeric())\n",
    "txt4 = '123456'\n",
    "print(txt4.isdigit())\n",
    "# print(txt4.isdecimale())"
   ]
  },
  {
   "cell_type": "code",
   "execution_count": 48,
   "id": "09d6a797",
   "metadata": {},
   "outputs": [
    {
     "name": "stdout",
     "output_type": "stream",
     "text": [
      "True\n",
      "True\n",
      "False\n",
      "False\n"
     ]
    }
   ],
   "source": [
    "# valid identifier contains alphanumeric letters (a-z),(0-9),(_). A valid identifier cannot start with a number, or contain any spaces.\n",
    "a = \"MyFolder\"\n",
    "b = \"Demo002\"\n",
    "c = \"2bring\"\n",
    "d = \"my demo\"\n",
    "print(a.isidentifier())\n",
    "print(b.isidentifier())\n",
    "print(c.isidentifier())\n",
    "print(d.isidentifier())\n"
   ]
  },
  {
   "cell_type": "code",
   "execution_count": 50,
   "id": "48bb40d1",
   "metadata": {},
   "outputs": [
    {
     "name": "stdout",
     "output_type": "stream",
     "text": [
      "True\n"
     ]
    }
   ],
   "source": [
    "txt = 'hello world'\n",
    "print(txt.islower())"
   ]
  },
  {
   "cell_type": "code",
   "execution_count": 60,
   "id": "1e0c4733",
   "metadata": {},
   "outputs": [
    {
     "name": "stdout",
     "output_type": "stream",
     "text": [
      "True\n",
      "False\n"
     ]
    }
   ],
   "source": [
    "txt = \"Hello! Are you #1?\"\n",
    "print(txt.isprintable()) # True\n",
    "txt = \"Hello! \\n Are you #1?\"\n",
    "print(txt.isprintable()) # False"
   ]
  },
  {
   "cell_type": "code",
   "execution_count": 61,
   "id": "4a74e5f8",
   "metadata": {},
   "outputs": [
    {
     "name": "stdout",
     "output_type": "stream",
     "text": [
      "False\n",
      "True\n",
      "True\n",
      "True\n"
     ]
    }
   ],
   "source": [
    "# istitle() method returns True if text start with a upper case letter, AND the rest of the word are lower case, otherwise False.\n",
    "# Symbols and numbers are ignored.\n",
    "a = \"HELLO, AND WELCOME TO MY WORLD\"\n",
    "b = \"Hello\"\n",
    "c = \"22 Names\"\n",
    "d = \"This Is %'!?\"\n",
    "\n",
    "print(a.istitle())\n",
    "print(b.istitle())\n",
    "print(c.istitle())\n",
    "print(d.istitle())"
   ]
  },
  {
   "cell_type": "code",
   "execution_count": 65,
   "id": "3371827d",
   "metadata": {},
   "outputs": [
    {
     "name": "stdout",
     "output_type": "stream",
     "text": [
      "one*two*three\n",
      "one-two-three\n",
      "name--country\n"
     ]
    }
   ],
   "source": [
    "# join() method takes all items in an iterable and joins them into one string.\n",
    "myList = ['one', 'two', 'three']\n",
    "print('*'.join(myList))\n",
    "myTuple = ('one', 'two', 'three')\n",
    "print('-'.join(myTuple))\n",
    "myDict = {\"name\": \"John\", \"country\": \"Norway\"}\n",
    "print('--'.join(myDict)) # When using a dictionary as an iterable, the returned values are the keys, not the values."
   ]
  },
  {
   "cell_type": "code",
   "execution_count": 68,
   "id": "35ce1c86",
   "metadata": {},
   "outputs": [
    {
     "name": "stdout",
     "output_type": "stream",
     "text": [
      "bananaxxxxxxxxxxxxxx is my favorite fruit.\n"
     ]
    }
   ],
   "source": [
    "txt = \"banana\"\n",
    "x = txt.ljust(20, 'x')\n",
    "print(x, \"is my favorite fruit.\")"
   ]
  },
  {
   "cell_type": "code",
   "execution_count": 7,
   "id": "1b3c9e5d",
   "metadata": {},
   "outputs": [
    {
     "name": "stdout",
     "output_type": "stream",
     "text": [
      "{83: 80}\n",
      "Hello this is Pam!\n"
     ]
    }
   ],
   "source": [
    "txt = \"Hello this is Sam!\"\n",
    "myTable = txt.maketrans(\"S\", \"P\") # Create a mapping table\n",
    "print(myTable)\n",
    "print(txt.translate(myTable)) # replace any \"S\" characters with a \"P\""
   ]
  },
  {
   "cell_type": "code",
   "execution_count": 12,
   "id": "098d45a8",
   "metadata": {},
   "outputs": [
    {
     "name": "stdout",
     "output_type": "stream",
     "text": [
      "{109: 101, 83: 74, 97: 111, 111: None, 100: None, 110: None, 103: None, 104: None, 116: None}\n",
      "G i Joe!\n"
     ]
    }
   ],
   "source": [
    "txt = \"Good night Sam!\"\n",
    "x = \"mSa\"\n",
    "y = \"eJo\"\n",
    "z = \"odnght\"\n",
    "mytable = txt.maketrans(x, y, z)\n",
    "print(txt.maketrans(x, y, z))\n",
    "print(txt.translate(mytable))"
   ]
  },
  {
   "cell_type": "code",
   "execution_count": 17,
   "id": "f71d0ac3",
   "metadata": {},
   "outputs": [
    {
     "name": "stdout",
     "output_type": "stream",
     "text": [
      "('I could ', 'eat', ' bananas all day')\n",
      "('I could eat bananas all day', '', '')\n"
     ]
    }
   ],
   "source": [
    "# partition searches for a specified string, and splits the string into a tuple containing three elements.\n",
    "# 1 - everything before the \"match\"\n",
    "# 2 - the \"match\"\n",
    "# 3 - everything after the \"match\"\n",
    "txt = \"I could eat bananas all day\"\n",
    "x = txt.partition('eat')\n",
    "print(x) \n",
    "print(txt.partition('apple')) # If the specified value is not found, returns a tuple containing: 1-whole string, 2-empty string, 3-empty string:"
   ]
  },
  {
   "cell_type": "code",
   "execution_count": 21,
   "id": "9bcd8953",
   "metadata": {},
   "outputs": [
    {
     "name": "stdout",
     "output_type": "stream",
     "text": [
      "False\n"
     ]
    }
   ],
   "source": [
    "txt = \" a \"\n",
    "print(txt.isspace()) # returns True if all the characters in whitespaces, otherwise False."
   ]
  },
  {
   "cell_type": "code",
   "execution_count": 31,
   "id": "3f3f36fe",
   "metadata": {},
   "outputs": [
    {
     "name": "stdout",
     "output_type": "stream",
     "text": [
      "I like apple also john like apple\n",
      "I like apple also john like banana\n"
     ]
    }
   ],
   "source": [
    "# replaces a specified phrase with another specified phrase\n",
    "txt = \"I like banana also john like banana\"\n",
    "print(txt.replace(\"banana\", \"apple\")) # replace all occurrences\n",
    "print(txt.replace(\"banana\", \"apple\", 1)) # replace count occurrences"
   ]
  },
  {
   "cell_type": "code",
   "execution_count": 37,
   "id": "9ed21ff3",
   "metadata": {},
   "outputs": [
    {
     "name": "stdout",
     "output_type": "stream",
     "text": [
      "12\n",
      "13\n",
      "8\n",
      "-1\n"
     ]
    }
   ],
   "source": [
    "# finds the last occurrence of the specified value.\n",
    "# returns -1 if the value is not found.\n",
    "# almost the same as the rindex()\n",
    "# If value is not found, rfind() returns -1, but rindex() will raise an exception:\n",
    "txt = \"Mi casa, su casa.\"\n",
    "print(txt.rfind(\"casa\")) \n",
    "txt = \"Hello, welcome to my world.\"\n",
    "print(txt.rfind(\"e\"))\n",
    "txt = \"Hello, welcome to my world.\"\n",
    "print(txt.rfind(\"e\", 5, 10))\n",
    "txt = \"Hello, welcome to my world.\"\n",
    "print(txt.rfind(\"q\"))\n",
    "# print(txt.rindex(\"q\")) # ValueError: substring not found"
   ]
  },
  {
   "cell_type": "code",
   "execution_count": 43,
   "id": "813c588f",
   "metadata": {},
   "outputs": [
    {
     "name": "stdout",
     "output_type": "stream",
     "text": [
      "['welcome', 'to', 'the', 'jungle']\n",
      "['apple', 'banana', 'cherry#orange']\n"
     ]
    }
   ],
   "source": [
    "# Splits the string at the specified separator, and returns a list\n",
    "txt = \"welcome to the jungle\"\n",
    "print(txt.split())\n",
    "txt = \"apple#banana#cherry#orange\"\n",
    "print(txt.split('#', 2))"
   ]
  },
  {
   "cell_type": "code",
   "execution_count": 46,
   "id": "f4a35fb2",
   "metadata": {},
   "outputs": [
    {
     "name": "stdout",
     "output_type": "stream",
     "text": [
      "['Thank you for the music', 'Welcome to the jungle']\n",
      "['Thank you for the music\\n', 'Welcome to the jungle']\n"
     ]
    }
   ],
   "source": [
    "# Split the string with new line\n",
    "txt = \"Thank you for the music\\nWelcome to the jungle\"\n",
    "print(txt.splitlines())\n",
    "print(txt.splitlines(True))"
   ]
  },
  {
   "cell_type": "code",
   "execution_count": 49,
   "id": "4839affb",
   "metadata": {},
   "outputs": [
    {
     "name": "stdout",
     "output_type": "stream",
     "text": [
      "True\n",
      "True\n"
     ]
    }
   ],
   "source": [
    "# returns True if the string starts with the specified value, otherwise False.\n",
    "txt = \"Hello, welcome to my world.\"\n",
    "print(txt.startswith(\"Hello\"))\n",
    "txt = \"Hello, welcome to my world.\"\n",
    "print(txt.startswith(\"wel\", 7, 20))"
   ]
  },
  {
   "cell_type": "code",
   "execution_count": 54,
   "id": "3fc48e31",
   "metadata": {},
   "outputs": [
    {
     "name": "stdout",
     "output_type": "stream",
     "text": [
      "of all fruits banana is my favorite\n",
      "banana\n"
     ]
    }
   ],
   "source": [
    "# Remove spaces at the beginning and at the end of the string:\n",
    "txt = \"     banana     \"\n",
    "x = txt.strip()\n",
    "print(\"of all fruits\", x, \"is my favorite\")\n",
    "txt = \",,,,,rrttgg.....banana....rrr\"\n",
    "print(txt.strip(\",.grt\")) # Remove the leading and trailing characters"
   ]
  },
  {
   "cell_type": "code",
   "execution_count": 56,
   "id": "afeb14d3",
   "metadata": {},
   "outputs": [
    {
     "name": "stdout",
     "output_type": "stream",
     "text": [
      "hELLO mY nAME iS peter\n"
     ]
    }
   ],
   "source": [
    "# Make the lower case letters upper case and the upper case letters lower case:\n",
    "txt = \"Hello My Name Is PETER\"\n",
    "print(txt.swapcase())"
   ]
  },
  {
   "cell_type": "code",
   "execution_count": 60,
   "id": "0597e5e5",
   "metadata": {},
   "outputs": [
    {
     "name": "stdout",
     "output_type": "stream",
     "text": [
      "Welcome To My World\n",
      "Hello B2B2B2 And 3G3G3G\n"
     ]
    }
   ],
   "source": [
    "txt = \"welcome to my world\"\n",
    "print(txt.title())\n",
    "txt = \"hello b2b2b2 and 3g3g3g\"\n",
    "print(txt.title()) # first letter after a non-alphabet letter is converted into a upper case letter"
   ]
  },
  {
   "cell_type": "code",
   "execution_count": 64,
   "id": "66f03ee4",
   "metadata": {},
   "outputs": [
    {
     "name": "stdout",
     "output_type": "stream",
     "text": [
      "0050\n",
      "00000hello\n",
      "welcome to the jungle\n",
      "000010.000\n"
     ]
    }
   ],
   "source": [
    "txt = \"50\"\n",
    "print(txt.zfill(4)) # Fill the string with zeros until it is x characters long\n",
    "\n",
    "a = \"hello\"\n",
    "b = \"welcome to the jungle\"\n",
    "c = \"10.000\"\n",
    "\n",
    "print(a.zfill(10))\n",
    "print(b.zfill(10))\n",
    "print(c.zfill(10))"
   ]
  },
  {
   "cell_type": "code",
   "execution_count": null,
   "id": "3df35abb",
   "metadata": {},
   "outputs": [],
   "source": [
    "# Note: All string methods returns new values. They do not change the original string."
   ]
  }
 ],
 "metadata": {
  "kernelspec": {
   "display_name": "Python 3 (ipykernel)",
   "language": "python",
   "name": "python3"
  },
  "language_info": {
   "codemirror_mode": {
    "name": "ipython",
    "version": 3
   },
   "file_extension": ".py",
   "mimetype": "text/x-python",
   "name": "python",
   "nbconvert_exporter": "python",
   "pygments_lexer": "ipython3",
   "version": "3.8.10"
  },
  "varInspector": {
   "cols": {
    "lenName": 16,
    "lenType": 16,
    "lenVar": 40
   },
   "kernels_config": {
    "python": {
     "delete_cmd_postfix": "",
     "delete_cmd_prefix": "del ",
     "library": "var_list.py",
     "varRefreshCmd": "print(var_dic_list())"
    },
    "r": {
     "delete_cmd_postfix": ") ",
     "delete_cmd_prefix": "rm(",
     "library": "var_list.r",
     "varRefreshCmd": "cat(var_dic_list()) "
    }
   },
   "types_to_exclude": [
    "module",
    "function",
    "builtin_function_or_method",
    "instance",
    "_Feature"
   ],
   "window_display": false
  }
 },
 "nbformat": 4,
 "nbformat_minor": 5
}
