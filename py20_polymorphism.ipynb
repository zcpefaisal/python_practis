{
 "cells": [
  {
   "cell_type": "code",
   "execution_count": 7,
   "id": "dfe782b1",
   "metadata": {},
   "outputs": [
    {
     "name": "stdout",
     "output_type": "stream",
     "text": [
      "variable checker\n",
      "syntex error checker\n",
      "compile\n",
      "running\n"
     ]
    }
   ],
   "source": [
    "# Duck typing\n",
    "class Vscode:\n",
    "    def execute(self):\n",
    "        print('compile')        \n",
    "        print('running')\n",
    "\n",
    "class Myeditor:\n",
    "    def execute(self):\n",
    "        print('variable checker')        \n",
    "        print('syntex error checker')        \n",
    "        print('compile')        \n",
    "        print('running')\n",
    "        \n",
    "class Laptop:\n",
    "    def code(self, ide):\n",
    "        ide.execute()\n",
    "        \n",
    "# editor = Vscode()\n",
    "editor = Myeditor()\n",
    "\n",
    "obj = Laptop()\n",
    "obj.code(editor)"
   ]
  },
  {
   "cell_type": "code",
   "execution_count": 10,
   "id": "cc7fdf92",
   "metadata": {},
   "outputs": [
    {
     "name": "stdout",
     "output_type": "stream",
     "text": [
      "5faisla\n",
      "15\n",
      "-5\n",
      "50\n"
     ]
    }
   ],
   "source": [
    "# operator overloading\n",
    "# magic methods\n",
    "a = '5'\n",
    "b = 'faisla'\n",
    "print(str.__add__(a,b))\n",
    "\n",
    "a = 5\n",
    "b = 10\n",
    "print(int.__add__(a,b))\n",
    "print(int.__sub__(a,b))\n",
    "print(int.__mul__(a,b))\n"
   ]
  },
  {
   "cell_type": "code",
   "execution_count": 39,
   "id": "84c1b211",
   "metadata": {},
   "outputs": [
    {
     "name": "stdout",
     "output_type": "stream",
     "text": [
      "40\n",
      "70\n",
      "30\n",
      "80\n",
      "num2 is gretter\n"
     ]
    }
   ],
   "source": [
    "# operator overloading example\n",
    "class Student:\n",
    "    def __init__(self, m1, m2):\n",
    "        self.m1 = m1\n",
    "        self.m2 = m2\n",
    "        \n",
    "    def __add__(self, other):\n",
    "        m1 = self.m1 + other.m1 # 10 + 30\n",
    "        m2 = self.m2 + other.m2 # 20 + 50\n",
    "        result  = Student(m1, m2)\n",
    "        return result\n",
    "    \n",
    "    def __gt__(self, other):\n",
    "        num1 = self.m1 + self.m2 # 10 + 20\n",
    "        num2 = other.m1 + other.m2 # 30 + 50\n",
    "        print(num1)\n",
    "        print(num2)\n",
    "        if(num1 > num2):\n",
    "            print(\"num1 is gretter\")\n",
    "        else:\n",
    "            print(\"num2 is gretter\")\n",
    "            \n",
    "            \n",
    "    def __str__(self):\n",
    "#         return self.m1, self.m2 # returning string value (10, 20)\n",
    "        return '{} {}'.format(self.m1, self.m2) # 10 20\n",
    "        \n",
    "s1 = Student(10,20)\n",
    "s2 = Student(30,50)\n",
    "\n",
    "x = s1 + s2 # note behiend the seen -> Student.__add__(s1, s2)\n",
    "print(x.m1)\n",
    "print(x.m2)\n",
    "# print(x) # print addredd of x\n",
    "\n",
    "\n",
    "s1 > s2"
   ]
  },
  {
   "cell_type": "code",
   "execution_count": 40,
   "id": "ac5f6c17",
   "metadata": {},
   "outputs": [
    {
     "name": "stdout",
     "output_type": "stream",
     "text": [
      "5\n",
      "5\n",
      "(10, 20)\n"
     ]
    }
   ],
   "source": [
    "a = 5\n",
    "print(a)\n",
    "print(a.__str__()) # call behiend the sean\n",
    "print(s1.__str__()) # before  def __str__(self): funtion define showing address"
   ]
  },
  {
   "cell_type": "code",
   "execution_count": 48,
   "id": "3f80691b",
   "metadata": {},
   "outputs": [
    {
     "data": {
      "text/plain": [
       "9"
      ]
     },
     "execution_count": 48,
     "metadata": {},
     "output_type": "execute_result"
    }
   ],
   "source": [
    "# Method overloading\n",
    "class Student:\n",
    "#     def __init__(self, m1, m2):\n",
    "#         self.m1 = m1\n",
    "#         self.m2 = m2\n",
    "    def sum(self, a=None, b=None, c=None):\n",
    "        result = 0\n",
    "        if a != None and b !=None and c != None:\n",
    "            result = a+b+c\n",
    "        elif a != None and b !=None:\n",
    "            result = a+b\n",
    "        else:\n",
    "            result = a\n",
    "            \n",
    "        return result\n",
    "    \n",
    "s1 = Student()\n",
    "s1.sum(5,4)\n"
   ]
  },
  {
   "cell_type": "code",
   "execution_count": 55,
   "id": "e640a70c",
   "metadata": {},
   "outputs": [
    {
     "name": "stdout",
     "output_type": "stream",
     "text": [
      "show b\n"
     ]
    }
   ],
   "source": [
    "# Method overriding\n",
    "class A:\n",
    "    def show(self):\n",
    "        print('show a')\n",
    "        \n",
    "class B(A):\n",
    "    def show(self):\n",
    "        print('show b')\n",
    "        \n",
    "# a1 = A()\n",
    "# a1.show() # show a\n",
    "\n",
    "a1 = B()\n",
    "a1.show() # show b"
   ]
  },
  {
   "cell_type": "code",
   "execution_count": null,
   "id": "15525ae3",
   "metadata": {},
   "outputs": [],
   "source": []
  }
 ],
 "metadata": {
  "kernelspec": {
   "display_name": "Python 3 (ipykernel)",
   "language": "python",
   "name": "python3"
  },
  "language_info": {
   "codemirror_mode": {
    "name": "ipython",
    "version": 3
   },
   "file_extension": ".py",
   "mimetype": "text/x-python",
   "name": "python",
   "nbconvert_exporter": "python",
   "pygments_lexer": "ipython3",
   "version": "3.8.10"
  },
  "varInspector": {
   "cols": {
    "lenName": 16,
    "lenType": 16,
    "lenVar": 40
   },
   "kernels_config": {
    "python": {
     "delete_cmd_postfix": "",
     "delete_cmd_prefix": "del ",
     "library": "var_list.py",
     "varRefreshCmd": "print(var_dic_list())"
    },
    "r": {
     "delete_cmd_postfix": ") ",
     "delete_cmd_prefix": "rm(",
     "library": "var_list.r",
     "varRefreshCmd": "cat(var_dic_list()) "
    }
   },
   "types_to_exclude": [
    "module",
    "function",
    "builtin_function_or_method",
    "instance",
    "_Feature"
   ],
   "window_display": false
  }
 },
 "nbformat": 4,
 "nbformat_minor": 5
}
