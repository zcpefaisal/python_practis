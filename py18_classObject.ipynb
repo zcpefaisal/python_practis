{
 "cells": [
  {
   "cell_type": "code",
   "execution_count": 1,
   "id": "6f731c55",
   "metadata": {},
   "outputs": [],
   "source": [
    "# Python Classes/Objects\n",
    "# Python is an object oriented programming language.\n",
    "# Almost everything in Python is an object, with its properties and methods.\n",
    "# A Class is like an object constructor, or a \"blueprint\" for creating objects.\n",
    "# To create a class, use the keyword class:\n",
    "# Create a class named MyClass, with a property named x:\n",
    "class MyClass:\n",
    "  x = 5"
   ]
  },
  {
   "cell_type": "code",
   "execution_count": 2,
   "id": "7c91605e",
   "metadata": {},
   "outputs": [
    {
     "name": "stdout",
     "output_type": "stream",
     "text": [
      "5\n"
     ]
    }
   ],
   "source": [
    "# Create Object\n",
    "# Now we can use the class named MyClass to create objects:\n",
    "p1 = MyClass()\n",
    "print(p1.x)"
   ]
  },
  {
   "cell_type": "code",
   "execution_count": 4,
   "id": "54625ae9",
   "metadata": {},
   "outputs": [
    {
     "name": "stdout",
     "output_type": "stream",
     "text": [
      "John\n",
      "36\n"
     ]
    }
   ],
   "source": [
    "# The __init__() Function\n",
    "# The examples above are classes and objects in their simplest form, and are not really useful in real life applications.\n",
    "# To understand the meaning of classes we have to understand the built-in __init__() function.\n",
    "# All classes have a function called __init__(), which is always executed when the class is being initiated.\n",
    "# Use the __init__() function to assign values to object properties, or other operations that are necessary to do when the object is being created:\n",
    "# Create a class named Person, use the __init__() function to assign values for name and age:\n",
    "class Person:\n",
    "# Note: The __init__() function is called automatically every time the class is being used to create a new object.\n",
    "  def __init__(self, name, age):\n",
    "    self.name = name\n",
    "    self.age = age\n",
    "\n",
    "p1 = Person(\"John\", 36)\n",
    "\n",
    "print(p1.name)\n",
    "print(p1.age)"
   ]
  },
  {
   "cell_type": "code",
   "execution_count": 6,
   "id": "b23b9c2d",
   "metadata": {},
   "outputs": [
    {
     "name": "stdout",
     "output_type": "stream",
     "text": [
      "Hello my name is John\n"
     ]
    }
   ],
   "source": [
    "# Object Methods\n",
    "# Objects can also contain methods. Methods in objects are functions that belong to the object.\n",
    "# Note: The self parameter is a reference to the current instance of the class, and is used to access variables that belong to the class.\n",
    "class Person:\n",
    "    def __init__(self, name, age):\n",
    "        self.name = name\n",
    "        self.age = age\n",
    "\n",
    "    def myfunc(self):\n",
    "        print(\"Hello my name is \" + self.name)\n",
    "\n",
    "p1 = Person(\"John\", 36)\n",
    "p1.myfunc()"
   ]
  },
  {
   "cell_type": "code",
   "execution_count": 18,
   "id": "799072cb",
   "metadata": {},
   "outputs": [
    {
     "name": "stdout",
     "output_type": "stream",
     "text": [
      "hello my name is faisal\n",
      "hello my name is faisal\n",
      "30\n",
      "40\n",
      "01761770797\n"
     ]
    }
   ],
   "source": [
    "# The self Parameter\n",
    "# The self parameter is a reference to the current instance of the class, and is used to access variables that belongs to the class.\n",
    "# It does not have to be named self , you can call it whatever you like, but it has to be the first parameter of any function in the class:\n",
    "class Person:\n",
    "    def __init__(selfObject, name, age, phone):\n",
    "        selfObject.name = name\n",
    "        selfObject.age = age\n",
    "        selfObject.phone = phone\n",
    "        \n",
    "    def myfunc1(selfObject):\n",
    "        print('hello my name is ' + selfObject.name)\n",
    "        \n",
    "    def myfunc2(obj):\n",
    "        print('hello my name is ' + obj.name)\n",
    "\n",
    "obj1 = Person('faisal', 30, '01761770797')\n",
    "obj1.myfunc1()\n",
    "obj1.myfunc2()\n",
    "print(obj1.age)\n",
    "obj1.age = 40\n",
    "print(obj1.age)\n",
    "print(obj1.phone)\n"
   ]
  },
  {
   "cell_type": "code",
   "execution_count": 20,
   "id": "c66d2214",
   "metadata": {},
   "outputs": [],
   "source": [
    "# Delete Object Properties\n",
    "# You can delete properties on objects by using the del keyword:\n",
    "del obj1.phone "
   ]
  },
  {
   "cell_type": "code",
   "execution_count": 22,
   "id": "e24c3a89",
   "metadata": {},
   "outputs": [],
   "source": [
    "# print(obj1.phone) # AttributeError: 'Person' object has no attribute 'phone'"
   ]
  },
  {
   "cell_type": "code",
   "execution_count": 26,
   "id": "4d8fe496",
   "metadata": {},
   "outputs": [
    {
     "name": "stdout",
     "output_type": "stream",
     "text": [
      "hello my name is faisal\n"
     ]
    }
   ],
   "source": [
    "# Delete Objects\n",
    "# You can delete objects by using the del keyword:\n",
    "p1 = Person('faisal', 30, '01761770797')\n",
    "p1.myfunc1()\n",
    "del p1\n",
    "# p1.myfunc1() # NameError: name 'p1' is not defined"
   ]
  },
  {
   "cell_type": "code",
   "execution_count": 27,
   "id": "436cfcb0",
   "metadata": {},
   "outputs": [],
   "source": [
    "# The pass Statement\n",
    "# class definitions cannot be empty, but if you for some reason have a class definition with no content, put in the pass statement to avoid getting an error.\n",
    "class Car:\n",
    "    pass\n"
   ]
  },
  {
   "cell_type": "code",
   "execution_count": null,
   "id": "9170715e",
   "metadata": {},
   "outputs": [],
   "source": []
  }
 ],
 "metadata": {
  "kernelspec": {
   "display_name": "Python 3 (ipykernel)",
   "language": "python",
   "name": "python3"
  },
  "language_info": {
   "codemirror_mode": {
    "name": "ipython",
    "version": 3
   },
   "file_extension": ".py",
   "mimetype": "text/x-python",
   "name": "python",
   "nbconvert_exporter": "python",
   "pygments_lexer": "ipython3",
   "version": "3.8.10"
  },
  "varInspector": {
   "cols": {
    "lenName": 16,
    "lenType": 16,
    "lenVar": 40
   },
   "kernels_config": {
    "python": {
     "delete_cmd_postfix": "",
     "delete_cmd_prefix": "del ",
     "library": "var_list.py",
     "varRefreshCmd": "print(var_dic_list())"
    },
    "r": {
     "delete_cmd_postfix": ") ",
     "delete_cmd_prefix": "rm(",
     "library": "var_list.r",
     "varRefreshCmd": "cat(var_dic_list()) "
    }
   },
   "types_to_exclude": [
    "module",
    "function",
    "builtin_function_or_method",
    "instance",
    "_Feature"
   ],
   "window_display": false
  }
 },
 "nbformat": 4,
 "nbformat_minor": 5
}
