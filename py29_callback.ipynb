{
 "cells": [
  {
   "cell_type": "code",
   "execution_count": 8,
   "id": "bc89ecf6",
   "metadata": {},
   "outputs": [
    {
     "name": "stdout",
     "output_type": "stream",
     "text": [
      "The string lenth is: 14\n"
     ]
    }
   ],
   "source": [
    "# Callback Functions are generally used with asynchronous functions.\n",
    "# A callback is a function that is passed as an argument to other function. This other function is expected to call this callback function in its definition. \n",
    "# The point at which other function calls our callback function depends on the requirement and nature of other function.\n",
    "\n",
    "def callbackFunc(param):\n",
    "    print('The string lenth is:', param)\n",
    "    \n",
    "def printLength(string, callbackf):\n",
    "    length = len(string)\n",
    "    callbackf(length)\n",
    "\n",
    "    \n",
    "printLength('Hello callback', callbackFunc)"
   ]
  },
  {
   "cell_type": "code",
   "execution_count": 12,
   "id": "aa4235fe",
   "metadata": {},
   "outputs": [
    {
     "name": "stdout",
     "output_type": "stream",
     "text": [
      "Function 1 string lenth is: 14\n",
      "Function 2 string lenth is: 14\n"
     ]
    }
   ],
   "source": [
    "# we may pass different callback function as required.\n",
    "def callbackFunc1(param):\n",
    "    print('Function 1 string lenth is:', param)\n",
    "def callbackFunc2(param):\n",
    "    print('Function 2 string lenth is:', param)\n",
    "    \n",
    "def printStringLength(string, callbackf):\n",
    "    length = len(string)\n",
    "    callbackf(length)\n",
    "\n",
    "    \n",
    "printStringLength('Hello callback', callbackFunc1)\n",
    "printStringLength('Hello callback', callbackFunc2)\n"
   ]
  },
  {
   "cell_type": "code",
   "execution_count": null,
   "id": "c582612e",
   "metadata": {},
   "outputs": [],
   "source": []
  }
 ],
 "metadata": {
  "kernelspec": {
   "display_name": "Python 3 (ipykernel)",
   "language": "python",
   "name": "python3"
  },
  "language_info": {
   "codemirror_mode": {
    "name": "ipython",
    "version": 3
   },
   "file_extension": ".py",
   "mimetype": "text/x-python",
   "name": "python",
   "nbconvert_exporter": "python",
   "pygments_lexer": "ipython3",
   "version": "3.8.10"
  },
  "varInspector": {
   "cols": {
    "lenName": 16,
    "lenType": 16,
    "lenVar": 40
   },
   "kernels_config": {
    "python": {
     "delete_cmd_postfix": "",
     "delete_cmd_prefix": "del ",
     "library": "var_list.py",
     "varRefreshCmd": "print(var_dic_list())"
    },
    "r": {
     "delete_cmd_postfix": ") ",
     "delete_cmd_prefix": "rm(",
     "library": "var_list.r",
     "varRefreshCmd": "cat(var_dic_list()) "
    }
   },
   "types_to_exclude": [
    "module",
    "function",
    "builtin_function_or_method",
    "instance",
    "_Feature"
   ],
   "window_display": false
  }
 },
 "nbformat": 4,
 "nbformat_minor": 5
}
