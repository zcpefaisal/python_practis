{
 "cells": [
  {
   "cell_type": "code",
   "execution_count": 15,
   "id": "bfd3da6b",
   "metadata": {},
   "outputs": [
    {
     "name": "stdout",
     "output_type": "stream",
     "text": [
      "process running\n"
     ]
    }
   ],
   "source": [
    "# python don't have abstract in-built, for abstract use need import abc module\n",
    "# abc -> Abstract Base Classes\n",
    "from abc import ABC, abstractmethod\n",
    "\n",
    "class Computer(ABC): ## extend form abc\n",
    "    \n",
    "    # for define a method as abstract use keyword \"@abstractmethod\"\n",
    "    # for abstract class need to define at least one abstract method\n",
    "    # abstract method is method which dose not have defination\n",
    "    @abstractmethod\n",
    "    def process(self):\n",
    "        pass\n",
    "\n",
    "    @abstractmethod \n",
    "    def execute(self):\n",
    "        pass\n",
    "        \n",
    "# cannot create object instance of abstract class \n",
    "# com = Computer()\n",
    "# com.process()\n",
    "\n",
    "# for abstract class access need to write a class and implement the abstract class into the class\n",
    "# all the abstract method must need to be implement (use)  \n",
    "class Laptop(Computer):\n",
    "    \n",
    "    def process(self):\n",
    "        print('process running')\n",
    "        \n",
    "    def execute(self):\n",
    "        pass\n",
    "        \n",
    "lap = Laptop()\n",
    "lap.process()"
   ]
  },
  {
   "cell_type": "code",
   "execution_count": null,
   "id": "37e1c231",
   "metadata": {},
   "outputs": [],
   "source": []
  }
 ],
 "metadata": {
  "kernelspec": {
   "display_name": "Python 3 (ipykernel)",
   "language": "python",
   "name": "python3"
  },
  "language_info": {
   "codemirror_mode": {
    "name": "ipython",
    "version": 3
   },
   "file_extension": ".py",
   "mimetype": "text/x-python",
   "name": "python",
   "nbconvert_exporter": "python",
   "pygments_lexer": "ipython3",
   "version": "3.8.10"
  },
  "varInspector": {
   "cols": {
    "lenName": 16,
    "lenType": 16,
    "lenVar": 40
   },
   "kernels_config": {
    "python": {
     "delete_cmd_postfix": "",
     "delete_cmd_prefix": "del ",
     "library": "var_list.py",
     "varRefreshCmd": "print(var_dic_list())"
    },
    "r": {
     "delete_cmd_postfix": ") ",
     "delete_cmd_prefix": "rm(",
     "library": "var_list.r",
     "varRefreshCmd": "cat(var_dic_list()) "
    }
   },
   "types_to_exclude": [
    "module",
    "function",
    "builtin_function_or_method",
    "instance",
    "_Feature"
   ],
   "window_display": false
  }
 },
 "nbformat": 4,
 "nbformat_minor": 5
}
