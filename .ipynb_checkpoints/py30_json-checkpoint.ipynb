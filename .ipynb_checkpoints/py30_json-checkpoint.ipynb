{
 "cells": [
  {
   "cell_type": "code",
   "execution_count": 4,
   "id": "0d7630df",
   "metadata": {},
   "outputs": [
    {
     "name": "stdout",
     "output_type": "stream",
     "text": [
      "<class 'str'>\n",
      "<class 'dict'>\n",
      "New York\n"
     ]
    }
   ],
   "source": [
    "# JSON is a syntax for storing and exchanging data.\n",
    "# JSON is text, written with JavaScript object notation.\n",
    "# Python has a built-in package called json, which can be used to work with JSON data.\n",
    "import json\n",
    "\n",
    "# If you have a JSON string, you can parse it by using the json.loads() method.\n",
    "data =  '{ \"name\":\"Faisal Alam\", \"age\":30, \"city\":\"Dhaka\"}'\n",
    "print(type(data)) # str\n",
    "parseData = json.loads(data)\n",
    "\n",
    "print(type(parseData)) # dict\n",
    "print(parseData['city'])"
   ]
  },
  {
   "cell_type": "code",
   "execution_count": 10,
   "id": "5dba807c",
   "metadata": {},
   "outputs": [
    {
     "name": "stdout",
     "output_type": "stream",
     "text": [
      "<class 'dict'>\n",
      "<class 'str'>\n",
      "{\"name\": \"Faisal\", \"age\": 30, \"city\": \"Kushtia\"}\n",
      "<class 'dict'>\n",
      "Faisal\n"
     ]
    }
   ],
   "source": [
    "# If you have a Python object, you can convert it into a JSON string by using the json.dumps() method.\n",
    "\n",
    "dictInfo = {\n",
    "  \"name\": \"Faisal\",\n",
    "  \"age\": 30,\n",
    "  \"city\": \"Kushtia\"\n",
    "}\n",
    "print(type(dictInfo))\n",
    "jsonData = json.dumps(dictInfo)\n",
    "print(type(jsonData))\n",
    "print(jsonData)\n",
    "\n",
    "rebackDIct = json.loads(jsonData)\n",
    "print(type(rebackDIct))\n",
    "print(rebackDIct['name'])"
   ]
  },
  {
   "cell_type": "code",
   "execution_count": 11,
   "id": "d21dcbee",
   "metadata": {},
   "outputs": [
    {
     "name": "stdout",
     "output_type": "stream",
     "text": [
      "{\"name\": \"John\", \"age\": 30}\n",
      "[\"apple\", \"bananas\"]\n",
      "[\"apple\", \"bananas\"]\n",
      "\"hello\"\n",
      "42\n",
      "31.76\n",
      "true\n",
      "false\n",
      "null\n"
     ]
    }
   ],
   "source": [
    "# We can convert Python objects of the following types, into JSON strings:\n",
    "\n",
    "# dict\n",
    "# list\n",
    "# tuple\n",
    "# string\n",
    "# int\n",
    "# float\n",
    "# True\n",
    "# False\n",
    "# None\n",
    "print(json.dumps({\"name\": \"John\", \"age\": 30}))\n",
    "print(json.dumps([\"apple\", \"bananas\"]))\n",
    "print(json.dumps((\"apple\", \"bananas\")))\n",
    "print(json.dumps(\"hello\"))\n",
    "print(json.dumps(42))\n",
    "print(json.dumps(31.76))\n",
    "print(json.dumps(True))\n",
    "print(json.dumps(False))\n",
    "print(json.dumps(None))\n",
    "\n",
    "# When you convert from Python to JSON, Python objects are converted into the JSON (JavaScript) equivalent:\n",
    "# Python type --->  JSON type\n",
    "# dict  --->  Object\n",
    "# list  --->  Array\n",
    "# tuple  --->  Array\n",
    "# str  --->  String\n",
    "# int  --->  Number\n",
    "# float  --->  Number\n",
    "# True  --->  true\n",
    "# False  --->  false\n",
    "# None  --->  null\n"
   ]
  },
  {
   "cell_type": "code",
   "execution_count": 16,
   "id": "0f2b2ba3",
   "metadata": {},
   "outputs": [
    {
     "name": "stdout",
     "output_type": "stream",
     "text": [
      "{\"name\": \"John\", \"age\": 30, \"married\": true, \"divorced\": false, \"children\": [\"Ann\", \"Billy\"], \"pets\": null, \"cars\": [{\"model\": \"BMW 230\", \"mpg\": 27.5}, {\"model\": \"Ford Edge\", \"mpg\": 24.1}]}\n",
      "{\n",
      "    \"name\": \"John\",\n",
      "    \"age\": 30,\n",
      "    \"married\": true,\n",
      "    \"divorced\": false,\n",
      "    \"children\": [\n",
      "        \"Ann\",\n",
      "        \"Billy\"\n",
      "    ],\n",
      "    \"pets\": null,\n",
      "    \"cars\": [\n",
      "        {\n",
      "            \"model\": \"BMW 230\",\n",
      "            \"mpg\": 27.5\n",
      "        },\n",
      "        {\n",
      "            \"model\": \"Ford Edge\",\n",
      "            \"mpg\": 24.1\n",
      "        }\n",
      "    ]\n",
      "}\n"
     ]
    }
   ],
   "source": [
    "# Convert a Python object containing all the legal data types:\n",
    "x = {\n",
    "  \"name\": \"John\",\n",
    "  \"age\": 30,\n",
    "  \"married\": True,\n",
    "  \"divorced\": False,\n",
    "  \"children\": (\"Ann\",\"Billy\"),\n",
    "  \"pets\": None,\n",
    "  \"cars\": [\n",
    "    {\"model\": \"BMW 230\", \"mpg\": 27.5},\n",
    "    {\"model\": \"Ford Edge\", \"mpg\": 24.1}\n",
    "  ]\n",
    "}\n",
    "\n",
    "print(json.dumps(x))\n",
    "\n",
    "# use four indents to make it easier to read the result:\n",
    "print(json.dumps(x, indent=4)) # indents is formating with number of space, here 4 = tab size (4 space)"
   ]
  },
  {
   "cell_type": "code",
   "execution_count": 25,
   "id": "8140be98",
   "metadata": {},
   "outputs": [
    {
     "name": "stdout",
     "output_type": "stream",
     "text": [
      "{\n",
      "    \"name\" = \"John\"* \n",
      "    \"age\" = 30* \n",
      "    \"married\" = true* \n",
      "    \"divorced\" = false* \n",
      "    \"children\" = [\n",
      "        \"Ann\"* \n",
      "        \"Billy\"\n",
      "    ]* \n",
      "    \"pets\" = null* \n",
      "    \"cars\" = [\n",
      "        {\n",
      "            \"model\" = \"BMW 230\"* \n",
      "            \"mpg\" = 27.5\n",
      "        }* \n",
      "        {\n",
      "            \"model\" = \"Ford Edge\"* \n",
      "            \"mpg\" = 24.1\n",
      "        }\n",
      "    ]\n",
      "}\n"
     ]
    }
   ],
   "source": [
    "# You can also define the separators, default value is (\", \", \": \"), \n",
    "# which means using a comma and a space to separate each object, and a colon and a space to separate keys from values:\n",
    "print(json.dumps(x, indent=4, separators=(\"* \", \" = \")))\n"
   ]
  },
  {
   "cell_type": "code",
   "execution_count": 24,
   "id": "c00fa79b",
   "metadata": {},
   "outputs": [
    {
     "name": "stdout",
     "output_type": "stream",
     "text": [
      "{\n",
      "    \"age\": 30,\n",
      "    \"cars\": [\n",
      "        {\n",
      "            \"model\": \"BMW 230\",\n",
      "            \"mpg\": 27.5\n",
      "        },\n",
      "        {\n",
      "            \"model\": \"Ford Edge\",\n",
      "            \"mpg\": 24.1\n",
      "        }\n",
      "    ],\n",
      "    \"children\": [\n",
      "        \"Ann\",\n",
      "        \"Billy\"\n",
      "    ],\n",
      "    \"divorced\": false,\n",
      "    \"married\": true,\n",
      "    \"name\": \"John\",\n",
      "    \"pets\": null\n",
      "}\n"
     ]
    }
   ],
   "source": [
    "print(json.dumps(x, indent=4, sort_keys=True))\n"
   ]
  },
  {
   "cell_type": "code",
   "execution_count": null,
   "id": "a4159ea9",
   "metadata": {},
   "outputs": [],
   "source": []
  }
 ],
 "metadata": {
  "kernelspec": {
   "display_name": "Python 3 (ipykernel)",
   "language": "python",
   "name": "python3"
  },
  "language_info": {
   "codemirror_mode": {
    "name": "ipython",
    "version": 3
   },
   "file_extension": ".py",
   "mimetype": "text/x-python",
   "name": "python",
   "nbconvert_exporter": "python",
   "pygments_lexer": "ipython3",
   "version": "3.8.10"
  },
  "varInspector": {
   "cols": {
    "lenName": 16,
    "lenType": 16,
    "lenVar": 40
   },
   "kernels_config": {
    "python": {
     "delete_cmd_postfix": "",
     "delete_cmd_prefix": "del ",
     "library": "var_list.py",
     "varRefreshCmd": "print(var_dic_list())"
    },
    "r": {
     "delete_cmd_postfix": ") ",
     "delete_cmd_prefix": "rm(",
     "library": "var_list.r",
     "varRefreshCmd": "cat(var_dic_list()) "
    }
   },
   "types_to_exclude": [
    "module",
    "function",
    "builtin_function_or_method",
    "instance",
    "_Feature"
   ],
   "window_display": false
  }
 },
 "nbformat": 4,
 "nbformat_minor": 5
}
