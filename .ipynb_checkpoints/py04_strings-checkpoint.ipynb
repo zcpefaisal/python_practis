{
 "cells": [
  {
   "cell_type": "code",
   "execution_count": 2,
   "id": "63d1ffd5",
   "metadata": {},
   "outputs": [
    {
     "name": "stdout",
     "output_type": "stream",
     "text": [
      "hello hello\n"
     ]
    }
   ],
   "source": [
    "a = \"hello\" # assign string in variable\n",
    "b = 'hello'\n",
    "print(a, b) # String in python are surrounded by either single quote to double quote"
   ]
  },
  {
   "cell_type": "code",
   "execution_count": 6,
   "id": "136f03d3",
   "metadata": {},
   "outputs": [],
   "source": [
    "# multi line stirng (\"\"\"asdf\"\"\" or '''asdf''')\n",
    "c = \"\"\"Lorem Ipsum is simply dummy text of the printing and typesetting industry. \n",
    "Lorem Ipsum has been the industry's standard dummy text ever since the 1500s, \n",
    "when an unknown printer took a galley of type and scrambled it to make a type specimen book. \n",
    "It has survived not only five centuries, but also the leap into electronic typesetting, \n",
    "remaining essentially unchanged. \n",
    "It was popularised in the 1960s with the release of Letraset sheets containing Lorem Ipsum passages, \n",
    "and more recently with desktop publishing software like Aldus PageMaker including versions of Lorem Ipsum.\"\"\""
   ]
  },
  {
   "cell_type": "code",
   "execution_count": 8,
   "id": "df97be42",
   "metadata": {},
   "outputs": [
    {
     "name": "stdout",
     "output_type": "stream",
     "text": [
      "Lorem Ipsum is simply dummy text of the printing and typesetting industry. \n",
      "Lorem Ipsum has been the industry's standard dummy text ever since the 1500s, \n",
      "when an unknown printer took a galley of type and scrambled it to make a type specimen book. \n",
      "It has survived not only five centuries, but also the leap into electronic typesetting, \n",
      "remaining essentially unchanged. \n",
      "It was popularised in the 1960s with the release of Letraset sheets containing Lorem Ipsum passages, \n",
      "and more recently with desktop publishing software like Aldus PageMaker including versions of Lorem Ipsum.\n"
     ]
    }
   ],
   "source": [
    "print(c) # line break are inserted at the same position as in the code"
   ]
  },
  {
   "cell_type": "code",
   "execution_count": 11,
   "id": "d8b6f605",
   "metadata": {},
   "outputs": [
    {
     "name": "stdout",
     "output_type": "stream",
     "text": [
      "F A\n"
     ]
    }
   ],
   "source": [
    "name = 'Faisal Alam' # python dosenot have character data type, a single character is a string with lingth of 1\n",
    "print(name[0], name[7])"
   ]
  },
  {
   "cell_type": "code",
   "execution_count": 12,
   "id": "45e0c72c",
   "metadata": {},
   "outputs": [
    {
     "name": "stdout",
     "output_type": "stream",
     "text": [
      "F\n",
      "a\n",
      "i\n",
      "s\n",
      "a\n",
      "l\n",
      " \n",
      "A\n",
      "l\n",
      "a\n",
      "m\n"
     ]
    }
   ],
   "source": [
    "for x in name:\n",
    "    print(x)"
   ]
  },
  {
   "cell_type": "code",
   "execution_count": 14,
   "id": "bcb2aa77",
   "metadata": {},
   "outputs": [
    {
     "name": "stdout",
     "output_type": "stream",
     "text": [
      "11\n"
     ]
    }
   ],
   "source": [
    "print(len(name)) # getting the lenght of the string"
   ]
  },
  {
   "cell_type": "code",
   "execution_count": 17,
   "id": "0f57167f",
   "metadata": {},
   "outputs": [
    {
     "name": "stdout",
     "output_type": "stream",
     "text": [
      "True\n"
     ]
    }
   ],
   "source": [
    "print('sa' in name) # check if \"sa\" is present in then string, return True, other wise False"
   ]
  },
  {
   "cell_type": "code",
   "execution_count": 19,
   "id": "2d2c041b",
   "metadata": {},
   "outputs": [
    {
     "name": "stdout",
     "output_type": "stream",
     "text": [
      "Yes \"sa\" is present\n"
     ]
    }
   ],
   "source": [
    "if 'sa' in name:\n",
    "    print('Yes \"sa\" is present')"
   ]
  },
  {
   "cell_type": "code",
   "execution_count": 22,
   "id": "4874e0c7",
   "metadata": {
    "scrolled": true
   },
   "outputs": [
    {
     "name": "stdout",
     "output_type": "stream",
     "text": [
      "No \"test not present\"\n"
     ]
    }
   ],
   "source": [
    "if 'ra' not in name:\n",
    "    print('No \"test not present\"')"
   ]
  },
  {
   "cell_type": "code",
   "execution_count": 24,
   "id": "f73347dc",
   "metadata": {},
   "outputs": [
    {
     "name": "stdout",
     "output_type": "stream",
     "text": [
      "Faisa\n"
     ]
    }
   ],
   "source": [
    "# slice from the starting position\n",
    "print(name[:5]) # start 0 and end 4 (5 not included, that means position not included)"
   ]
  },
  {
   "cell_type": "code",
   "execution_count": 27,
   "id": "c949a16b",
   "metadata": {},
   "outputs": [
    {
     "name": "stdout",
     "output_type": "stream",
     "text": [
      "sal Alam\n"
     ]
    }
   ],
   "source": [
    "# slice form the ending position\n",
    "print(name[3:]) # start 3 to end of the string"
   ]
  },
  {
   "cell_type": "code",
   "execution_count": 29,
   "id": "3ff0c7cd",
   "metadata": {},
   "outputs": [
    {
     "name": "stdout",
     "output_type": "stream",
     "text": [
      "Al\n"
     ]
    }
   ],
   "source": [
    "# Negative indexing\n",
    "print(name[-4:-2])"
   ]
  },
  {
   "cell_type": "code",
   "execution_count": 31,
   "id": "e07f132f",
   "metadata": {},
   "outputs": [
    {
     "name": "stdout",
     "output_type": "stream",
     "text": [
      "FAISAL ALAM\n"
     ]
    }
   ],
   "source": [
    "print(name.upper())"
   ]
  },
  {
   "cell_type": "code",
   "execution_count": 32,
   "id": "478b0167",
   "metadata": {},
   "outputs": [
    {
     "name": "stdout",
     "output_type": "stream",
     "text": [
      "faisal alam\n"
     ]
    }
   ],
   "source": [
    "print(name.lower())"
   ]
  },
  {
   "cell_type": "code",
   "execution_count": 34,
   "id": "94e25398",
   "metadata": {},
   "outputs": [
    {
     "name": "stdout",
     "output_type": "stream",
     "text": [
      "Faisal Alam\n"
     ]
    }
   ],
   "source": [
    "print(name.strip()) # remove any whitespace form the beginning to the end"
   ]
  },
  {
   "cell_type": "code",
   "execution_count": 37,
   "id": "8aaafc64",
   "metadata": {},
   "outputs": [
    {
     "name": "stdout",
     "output_type": "stream",
     "text": [
      "Faisal-Alam\n"
     ]
    }
   ],
   "source": [
    "# replace string\n",
    "print(name.replace(' ', '-'))\n",
    "# name[6] = '-' # Python string data type are immutable # Can not reassign. # TypeError: 'str' object does not support item assignment\n",
    "# print(name)"
   ]
  },
  {
   "cell_type": "code",
   "execution_count": 40,
   "id": "25ffd2dd",
   "metadata": {},
   "outputs": [
    {
     "name": "stdout",
     "output_type": "stream",
     "text": [
      "F = 140507172877104\n",
      "a = 140507172850224\n",
      "i = 140507173624688\n",
      "s = 140507173621808\n",
      "a = 140507172850224\n",
      "l = 140507172692400\n",
      "  = 140507171995568\n",
      "A = 140507172357424\n",
      "l = 140507172692400\n",
      "a = 140507172850224\n"
     ]
    }
   ],
   "source": [
    "for idIndex in range(0, 10):\n",
    "    print(name[idIndex], '=', id(name[idIndex])) # checking memory location address of the position of the letters"
   ]
  },
  {
   "cell_type": "code",
   "execution_count": 45,
   "id": "75d9d7ba",
   "metadata": {},
   "outputs": [
    {
     "name": "stdout",
     "output_type": "stream",
     "text": [
      "Faisal Alam\n",
      "['Faisal', 'Alam']\n",
      "Faisal Alam\n"
     ]
    }
   ],
   "source": [
    "# String Split\n",
    "print(name)\n",
    "print(name.split(\" \"))\n",
    "print(name)"
   ]
  },
  {
   "cell_type": "code",
   "execution_count": 46,
   "id": "07d6f8be",
   "metadata": {},
   "outputs": [
    {
     "name": "stdout",
     "output_type": "stream",
     "text": [
      "['Faisal', 'Alam']\n"
     ]
    }
   ],
   "source": [
    "# split with new variable and concatenate practis\n",
    "newName = name.split(' ')\n",
    "print(newName)"
   ]
  },
  {
   "cell_type": "code",
   "execution_count": 49,
   "id": "b3528912",
   "metadata": {},
   "outputs": [
    {
     "name": "stdout",
     "output_type": "stream",
     "text": [
      "Faisal ** Alam\n"
     ]
    }
   ],
   "source": [
    "print(newName[0] + ' ** ' + newName[1]) # concate with ( ** )"
   ]
  },
  {
   "cell_type": "code",
   "execution_count": 52,
   "id": "232e4802",
   "metadata": {},
   "outputs": [
    {
     "ename": "TypeError",
     "evalue": "can only concatenate str (not \"int\") to str",
     "output_type": "error",
     "traceback": [
      "\u001b[0;31m---------------------------------------------------------------------------\u001b[0m",
      "\u001b[0;31mTypeError\u001b[0m                                 Traceback (most recent call last)",
      "Input \u001b[0;32mIn [52]\u001b[0m, in \u001b[0;36m<cell line: 3>\u001b[0;34m()\u001b[0m\n\u001b[1;32m      1\u001b[0m \u001b[38;5;66;03m# String Format\u001b[39;00m\n\u001b[1;32m      2\u001b[0m age \u001b[38;5;241m=\u001b[39m \u001b[38;5;241m31\u001b[39m\n\u001b[0;32m----> 3\u001b[0m text \u001b[38;5;241m=\u001b[39m \u001b[38;5;124;43m\"\u001b[39;49m\u001b[38;5;124;43mMy name is Faisal, I am \u001b[39;49m\u001b[38;5;124;43m\"\u001b[39;49m\u001b[43m \u001b[49m\u001b[38;5;241;43m+\u001b[39;49m\u001b[43m \u001b[49m\u001b[43mage\u001b[49m\n\u001b[1;32m      4\u001b[0m \u001b[38;5;28mprint\u001b[39m(text)\n",
      "\u001b[0;31mTypeError\u001b[0m: can only concatenate str (not \"int\") to str"
     ]
    }
   ],
   "source": [
    "# String Format\n",
    "age = 31\n",
    "text = \"My name is Faisal, I am \"\n",
    "newTest = text + age  # TypeError: can only concatenate str (not \"int\") to str\n",
    "\n",
    "print(newTest)"
   ]
  },
  {
   "cell_type": "code",
   "execution_count": null,
   "id": "c9c37402",
   "metadata": {},
   "outputs": [],
   "source": []
  }
 ],
 "metadata": {
  "kernelspec": {
   "display_name": "Python 3 (ipykernel)",
   "language": "python",
   "name": "python3"
  },
  "language_info": {
   "codemirror_mode": {
    "name": "ipython",
    "version": 3
   },
   "file_extension": ".py",
   "mimetype": "text/x-python",
   "name": "python",
   "nbconvert_exporter": "python",
   "pygments_lexer": "ipython3",
   "version": "3.8.10"
  }
 },
 "nbformat": 4,
 "nbformat_minor": 5
}
