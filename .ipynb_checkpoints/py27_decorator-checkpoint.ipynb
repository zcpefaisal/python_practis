{
 "cells": [
  {
   "cell_type": "code",
   "execution_count": 2,
   "id": "e903f314",
   "metadata": {},
   "outputs": [
    {
     "name": "stdout",
     "output_type": "stream",
     "text": [
      "test\n"
     ]
    }
   ],
   "source": [
    "# Python Decorator\n",
    "# Decorators are one of the most helpful and powerful tools of Python. \n",
    "# These are used to modify the behavior of the function. \n",
    "# Decorators provide the flexibility to wrap another function to expand the working of wrapped function, without permanently modifying it.\n",
    "def func1(param):\n",
    "    print(param)\n",
    "    \n",
    "func1('test')"
   ]
  },
  {
   "cell_type": "code",
   "execution_count": 6,
   "id": "82156dd5",
   "metadata": {},
   "outputs": [
    {
     "name": "stdout",
     "output_type": "stream",
     "text": [
      "2.0\n"
     ]
    }
   ],
   "source": [
    "# Inner Function\n",
    "# Python provides the facility to define the function inside another function. \n",
    "# These types of functions are called inner functions\n",
    "def division(a,b):\n",
    "    print(a/b)\n",
    "    \n",
    "    \n",
    "def smart_division(func):\n",
    "    \n",
    "    def change_division(a,b):\n",
    "        if a<b:\n",
    "            a,b = b,a\n",
    "        return func(a,b)\n",
    "    \n",
    "    return change_division\n",
    "\n",
    "\n",
    "my_division = smart_division(division)\n",
    "    \n",
    "my_division(5,10)"
   ]
  },
  {
   "cell_type": "code",
   "execution_count": null,
   "id": "9db5f4e8",
   "metadata": {},
   "outputs": [],
   "source": []
  }
 ],
 "metadata": {
  "kernelspec": {
   "display_name": "Python 3 (ipykernel)",
   "language": "python",
   "name": "python3"
  },
  "language_info": {
   "codemirror_mode": {
    "name": "ipython",
    "version": 3
   },
   "file_extension": ".py",
   "mimetype": "text/x-python",
   "name": "python",
   "nbconvert_exporter": "python",
   "pygments_lexer": "ipython3",
   "version": "3.8.10"
  },
  "varInspector": {
   "cols": {
    "lenName": 16,
    "lenType": 16,
    "lenVar": 40
   },
   "kernels_config": {
    "python": {
     "delete_cmd_postfix": "",
     "delete_cmd_prefix": "del ",
     "library": "var_list.py",
     "varRefreshCmd": "print(var_dic_list())"
    },
    "r": {
     "delete_cmd_postfix": ") ",
     "delete_cmd_prefix": "rm(",
     "library": "var_list.r",
     "varRefreshCmd": "cat(var_dic_list()) "
    }
   },
   "types_to_exclude": [
    "module",
    "function",
    "builtin_function_or_method",
    "instance",
    "_Feature"
   ],
   "window_display": false
  }
 },
 "nbformat": 4,
 "nbformat_minor": 5
}
