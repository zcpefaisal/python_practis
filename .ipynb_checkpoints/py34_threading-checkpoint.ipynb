{
 "cells": [
  {
   "cell_type": "code",
   "execution_count": null,
   "id": "ee9a8b60",
   "metadata": {},
   "outputs": [],
   "source": [
    "# Running several threads is similar to running several different programs concurrently\n",
    "# Multiple threads within a process share the same data space with the main thread and can therefore share information or communicate with each other more easily than if they were separate processes.\n",
    "# Threads sometimes called light-weight processes and they do not require much memory overhead; they are cheaper than processes.\n",
    "\n",
    "from time import sleep\n",
    "from threading import *\n",
    "\n",
    "\n",
    "class Thread1(Thread):\n",
    "    def run(self): # run() method is the entry point for a thread.\n",
    "        for i in range(100):\n",
    "            print(' print thread 1')\n",
    "            sleep(1)\n",
    "            \n",
    "            \n",
    "class Thread2(Thread):\n",
    "    def run(self): # run() method is the entry point for a thread.\n",
    "        for i in range(100):\n",
    "            print(' print thread 2')\n",
    "            sleep(1)\n",
    "            \n",
    "            \n",
    "t1 = Thread1()\n",
    "t2 = Thread2()\n",
    "\n",
    "\n",
    "\n",
    "# t1.run()\n",
    "# t2.run()\n",
    "t1.start() # start() method starts a thread by calling the run method.\n",
    "t2.start() # start() method starts a thread by calling the run method.\n",
    "\n",
    "\n",
    "t1.join()\n",
    "t2.join()\n",
    "\n",
    "print('Exit Form Main Thread')"
   ]
  },
  {
   "cell_type": "code",
   "execution_count": null,
   "id": "6103c096",
   "metadata": {},
   "outputs": [],
   "source": []
  }
 ],
 "metadata": {
  "kernelspec": {
   "display_name": "Python 3 (ipykernel)",
   "language": "python",
   "name": "python3"
  },
  "language_info": {
   "codemirror_mode": {
    "name": "ipython",
    "version": 3
   },
   "file_extension": ".py",
   "mimetype": "text/x-python",
   "name": "python",
   "nbconvert_exporter": "python",
   "pygments_lexer": "ipython3",
   "version": "3.8.10"
  },
  "varInspector": {
   "cols": {
    "lenName": 16,
    "lenType": 16,
    "lenVar": 40
   },
   "kernels_config": {
    "python": {
     "delete_cmd_postfix": "",
     "delete_cmd_prefix": "del ",
     "library": "var_list.py",
     "varRefreshCmd": "print(var_dic_list())"
    },
    "r": {
     "delete_cmd_postfix": ") ",
     "delete_cmd_prefix": "rm(",
     "library": "var_list.r",
     "varRefreshCmd": "cat(var_dic_list()) "
    }
   },
   "types_to_exclude": [
    "module",
    "function",
    "builtin_function_or_method",
    "instance",
    "_Feature"
   ],
   "window_display": false
  }
 },
 "nbformat": 4,
 "nbformat_minor": 5
}
