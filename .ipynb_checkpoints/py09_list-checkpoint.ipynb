{
 "cells": [
  {
   "cell_type": "code",
   "execution_count": 1,
   "id": "3b253582",
   "metadata": {},
   "outputs": [
    {
     "name": "stdout",
     "output_type": "stream",
     "text": [
      "['apple', 'banana', 'cherry']\n"
     ]
    }
   ],
   "source": [
    "# Create a List:\n",
    "mylist = [\"apple\", \"banana\", \"cherry\"]\n",
    "print(mylist)"
   ]
  },
  {
   "cell_type": "code",
   "execution_count": 3,
   "id": "049e3e70",
   "metadata": {},
   "outputs": [
    {
     "name": "stdout",
     "output_type": "stream",
     "text": [
      "['apple', 'banana', 'cherry', 'apple', 'cherry']\n",
      "5\n"
     ]
    }
   ],
   "source": [
    "# Lists allow duplicate values:\n",
    "thislist = [\"apple\", \"banana\", \"cherry\", \"apple\", \"cherry\"]\n",
    "print(thislist)\n",
    "# Print the number of items in the list:\n",
    "print(len(thislist))"
   ]
  },
  {
   "cell_type": "code",
   "execution_count": 7,
   "id": "3b629f21",
   "metadata": {},
   "outputs": [
    {
     "name": "stdout",
     "output_type": "stream",
     "text": [
      "['abc', 34, True, 40, 'male']\n",
      "[1, 5, 7, 9, 3]\n",
      "[True, False, False]\n",
      "['abc', 34, True, 40, 'male']\n",
      "<class 'list'>\n"
     ]
    }
   ],
   "source": [
    "# allwo string, int and boolean data types\n",
    "ist1 = [\"apple\", \"banana\", \"cherry\"]\n",
    "list2 = [1, 5, 7, 9, 3]\n",
    "list3 = [True, False, False]\n",
    "print(list1)\n",
    "print(list2)\n",
    "print(list3)\n",
    "# list with strings, integers and boolean values\n",
    "list1 = [\"abc\", 34, True, 40, \"male\"]\n",
    "print(list1)\n",
    "print(type(list1))"
   ]
  },
  {
   "cell_type": "code",
   "execution_count": 9,
   "id": "0a39c166",
   "metadata": {},
   "outputs": [
    {
     "name": "stdout",
     "output_type": "stream",
     "text": [
      "<class 'list'>\n",
      "['apple', 'banana', 'mango']\n"
     ]
    }
   ],
   "source": [
    "# The list() Constructor\n",
    "myList = list((\"apple\", \"banana\", \"mango\"))\n",
    "print(type(myList))\n",
    "print(myList)"
   ]
  },
  {
   "cell_type": "code",
   "execution_count": null,
   "id": "2cc61cb0",
   "metadata": {},
   "outputs": [],
   "source": [
    "# Important note of Python Collections\n",
    "# ---------------------------------------\n",
    "# There are four collection data types in Python\n",
    "# * List is ordered and changeable. Allows duplicate members.\n",
    "# * Tuple is rdered and unchangeable. Allows duplicate members.\n",
    "# * Set is unordered, unchangeable*, and unindexed. No duplicate members.\n",
    "# * Dictionary is ordered** and changeable. No duplicate members.\n",
    "\n",
    "# List items are indexed, the first item has index [0], the second item has index [1] etc.\n",
    "# lists are ordered means items have a defined order, and order will not change.\n",
    "# If add new items to a list, new items will be placed at the end of the list.\n",
    "# list is changeable, we can change, add & remove items in a list after it has been created.\n",
    "# *** Set items are unchangeable, but you can remove and/or add items whenever you like.\n",
    "# *** Python version 3.7, dictionaries are ordered. In Python 3.6 and earlier, dictionaries are unordered."
   ]
  },
  {
   "cell_type": "code",
   "execution_count": 12,
   "id": "f1b1c3c3",
   "metadata": {},
   "outputs": [
    {
     "name": "stdout",
     "output_type": "stream",
     "text": [
      "banana\n",
      "cherry\n",
      "apple\n"
     ]
    }
   ],
   "source": [
    "myList = [\"apple\", \"banana\", \"cherry\"]\n",
    "print(myList[1]) # banana\n",
    "print(myList[-1]) # cherry\n",
    "print(myList[-3]) # apple"
   ]
  },
  {
   "cell_type": "code",
   "execution_count": 19,
   "id": "3ab8f169",
   "metadata": {},
   "outputs": [
    {
     "name": "stdout",
     "output_type": "stream",
     "text": [
      "['banana', 'cherry', 'orange', 'kiwi']\n",
      "['apple', 'banana', 'cherry', 'orange']\n",
      "['orange', 'kiwi', 'melon', 'mango']\n",
      "['mango']\n",
      "['cherry', 'orange', 'kiwi']\n"
     ]
    }
   ],
   "source": [
    "thislist = [\"apple\", \"banana\", \"cherry\", \"orange\", \"kiwi\", \"melon\", \"mango\"]\n",
    "print(thislist[1:5]) # ['banana', 'cherry', 'orange', 'kiwi']\n",
    "print(thislist[:4]) # ['apple', 'banana', 'cherry', 'orange']\n",
    "print(thislist[3:]) # ['orange', 'kiwi', 'melon', 'mango']\n",
    "print(thislist[-1:]) # ['mango']\n",
    "print(thislist[-5:-2]) # ['cherry', 'orange', 'kiwi']"
   ]
  },
  {
   "cell_type": "code",
   "execution_count": 25,
   "id": "ecbb9c2f",
   "metadata": {},
   "outputs": [
    {
     "name": "stdout",
     "output_type": "stream",
     "text": [
      "banana exist\n"
     ]
    }
   ],
   "source": [
    "thislist = [\"apple\", \"banana\", \"cherry\"]\n",
    "# To determine if a specified item is present in a list use the in keyword:\n",
    "if 'banana' in thislist:\n",
    "    print('banana exist')\n",
    "else:\n",
    "    print('banana not exist')\n",
    "\n"
   ]
  },
  {
   "cell_type": "code",
   "execution_count": 26,
   "id": "3ef4f104",
   "metadata": {},
   "outputs": [
    {
     "name": "stdout",
     "output_type": "stream",
     "text": [
      "['apple', 'banana', 'mango']\n"
     ]
    }
   ],
   "source": [
    "# Change List Items\n",
    "thislist = [\"apple\", \"banana\", \"cherry\"]\n",
    "thislist[2] = 'mango'\n",
    "print(thislist) # ['apple', 'banana', 'mango']"
   ]
  },
  {
   "cell_type": "code",
   "execution_count": 27,
   "id": "45fea425",
   "metadata": {},
   "outputs": [
    {
     "name": "stdout",
     "output_type": "stream",
     "text": [
      "['apple', 'item 1', 'item 2', 'item 3', 'kiwi', 'mango']\n"
     ]
    }
   ],
   "source": [
    "# change the values \"banana\", \"cherry\" and \"orange\" with the values \"item 1\" 'item 2' and 'item 3'\n",
    "thislist = [\"apple\", \"banana\", \"cherry\", \"orange\", \"kiwi\", \"mango\"]\n",
    "thislist[1:4] = ['item 1', 'item 2', 'item 3']\n",
    "print(thislist) # ['apple', 'item 1', 'item 2', 'item 3', 'kiwi', 'mango']"
   ]
  },
  {
   "cell_type": "code",
   "execution_count": 29,
   "id": "3f7e00cd",
   "metadata": {},
   "outputs": [
    {
     "name": "stdout",
     "output_type": "stream",
     "text": [
      "['apple', 'test 1', 'test 2', 'test 3', 'cherry']\n"
     ]
    }
   ],
   "source": [
    "# Change the second value by replacing with two new values\n",
    "thislist = [\"apple\", \"banana\", \"cherry\"]\n",
    "thislist[1:2] = ['test 1', 'test 2', 'test 3']\n",
    "print(thislist) # ['apple', 'test 1', 'test 2', 'test 3', 'cherry']"
   ]
  },
  {
   "cell_type": "code",
   "execution_count": 34,
   "id": "a83ce765",
   "metadata": {},
   "outputs": [
    {
     "name": "stdout",
     "output_type": "stream",
     "text": [
      "['apple', 'item1']\n",
      "['apple', 'i', 't', 'e', 'm', '1']\n"
     ]
    }
   ],
   "source": [
    "thislist = [\"apple\", \"banana\", \"cherry\"]\n",
    "thislist[1:3] = ['item1']\n",
    "print(thislist) # ['apple', 'item1']\n",
    "thislist[1:2] = 'item1'\n",
    "print(thislist) # ['apple', 'i', 't', 'e', 'm', '1'] # note: each character is an array item when string pass as value"
   ]
  },
  {
   "cell_type": "code",
   "execution_count": 38,
   "id": "9e9e3b24",
   "metadata": {},
   "outputs": [
    {
     "name": "stdout",
     "output_type": "stream",
     "text": [
      "['apple', 'banana', 'test', 'cherry']\n"
     ]
    }
   ],
   "source": [
    "thislist = [\"apple\", \"banana\", \"cherry\"]\n",
    "thislist.insert(2, 'test')\n",
    "print(thislist) # ['apple', 'banana', 'test', 'cherry']"
   ]
  },
  {
   "cell_type": "code",
   "execution_count": 39,
   "id": "02f66ed3",
   "metadata": {},
   "outputs": [
    {
     "name": "stdout",
     "output_type": "stream",
     "text": [
      "['apple', 'banana', 'cherry', 'orange']\n"
     ]
    }
   ],
   "source": [
    "# To add a new item to the end of the list, use the append() method\n",
    "thislist = [\"apple\", \"banana\", \"cherry\"]\n",
    "thislist.append('orange')\n",
    "print(thislist)"
   ]
  },
  {
   "cell_type": "code",
   "execution_count": 40,
   "id": "d94df4df",
   "metadata": {},
   "outputs": [
    {
     "name": "stdout",
     "output_type": "stream",
     "text": [
      "['apple', 'banana', 'orange', 'cherry']\n"
     ]
    }
   ],
   "source": [
    "# To insert a new item at a specified index, use the insert() method.\n",
    "thislist = [\"apple\", \"banana\", \"cherry\"]\n",
    "thislist.insert(2, 'orange')\n",
    "print(thislist)"
   ]
  },
  {
   "cell_type": "code",
   "execution_count": 43,
   "id": "79577fb5",
   "metadata": {},
   "outputs": [
    {
     "name": "stdout",
     "output_type": "stream",
     "text": [
      "['apple', 'banana', 'cherry', 'mango', 'pineapple', 'papaya']\n",
      "['apple', 'banana', 'cherry', 'mango', 'pineapple', 'papaya', 'kiwi', 'orange']\n"
     ]
    }
   ],
   "source": [
    "# To append elements from another list to the current list, use the extend() method.\n",
    "# extend() method not only append lists, you can also add any iterable object (tuples, sets, dictionaries).\n",
    "thislist1 = [\"apple\", \"banana\", \"cherry\"]\n",
    "thislist2 = [\"mango\", \"pineapple\", \"papaya\"]\n",
    "thislist3 = (\"kiwi\", \"orange\")\n",
    "thislist1.extend(thislist2)\n",
    "print(thislist1) # ['apple', 'banana', 'cherry', 'mango', 'pineapple', 'papaya']\n",
    "thislist1.extend(thislist3)\n",
    "print(thislist1) # ['apple', 'banana', 'cherry', 'mango', 'pineapple', 'papaya', 'kiwi', 'orange']"
   ]
  },
  {
   "cell_type": "code",
   "execution_count": 48,
   "id": "de39b340",
   "metadata": {},
   "outputs": [
    {
     "name": "stdout",
     "output_type": "stream",
     "text": [
      "['apple', 'cherry']\n"
     ]
    }
   ],
   "source": [
    "# remove() method removes the specified item\n",
    "thislist = [\"apple\", \"banana\", \"cherry\"]\n",
    "thislist.remove('banana')\n",
    "print(thislist)"
   ]
  },
  {
   "cell_type": "code",
   "execution_count": 50,
   "id": "c360aacc",
   "metadata": {},
   "outputs": [
    {
     "name": "stdout",
     "output_type": "stream",
     "text": [
      "['apple', 'banana']\n"
     ]
    }
   ],
   "source": [
    "# pop() method removes the specified index\n",
    "thislist = [\"apple\", \"banana\", \"cherry\"]\n",
    "thislist.pop(2)\n",
    "print(thislist)"
   ]
  },
  {
   "cell_type": "code",
   "execution_count": 52,
   "id": "eb17137c",
   "metadata": {},
   "outputs": [
    {
     "name": "stdout",
     "output_type": "stream",
     "text": [
      "['apple', 'banana']\n"
     ]
    }
   ],
   "source": [
    "# If you do not specify the index, the pop() method removes the last item\n",
    "thislist = [\"apple\", \"banana\", \"cherry\"]\n",
    "thislist.pop()\n",
    "print(thislist)"
   ]
  },
  {
   "cell_type": "code",
   "execution_count": 53,
   "id": "95c7c04c",
   "metadata": {},
   "outputs": [
    {
     "name": "stdout",
     "output_type": "stream",
     "text": [
      "['apple', 'cherry']\n"
     ]
    }
   ],
   "source": [
    "# del keyword also removes the specified index\n",
    "thislist = [\"apple\", \"banana\", \"cherry\"]\n",
    "del thislist[1]\n",
    "print(thislist)"
   ]
  },
  {
   "cell_type": "code",
   "execution_count": null,
   "id": "0a032a8e",
   "metadata": {},
   "outputs": [],
   "source": []
  }
 ],
 "metadata": {
  "kernelspec": {
   "display_name": "Python 3 (ipykernel)",
   "language": "python",
   "name": "python3"
  },
  "language_info": {
   "codemirror_mode": {
    "name": "ipython",
    "version": 3
   },
   "file_extension": ".py",
   "mimetype": "text/x-python",
   "name": "python",
   "nbconvert_exporter": "python",
   "pygments_lexer": "ipython3",
   "version": "3.8.10"
  },
  "varInspector": {
   "cols": {
    "lenName": 16,
    "lenType": 16,
    "lenVar": 40
   },
   "kernels_config": {
    "python": {
     "delete_cmd_postfix": "",
     "delete_cmd_prefix": "del ",
     "library": "var_list.py",
     "varRefreshCmd": "print(var_dic_list())"
    },
    "r": {
     "delete_cmd_postfix": ") ",
     "delete_cmd_prefix": "rm(",
     "library": "var_list.r",
     "varRefreshCmd": "cat(var_dic_list()) "
    }
   },
   "types_to_exclude": [
    "module",
    "function",
    "builtin_function_or_method",
    "instance",
    "_Feature"
   ],
   "window_display": false
  }
 },
 "nbformat": 4,
 "nbformat_minor": 5
}
