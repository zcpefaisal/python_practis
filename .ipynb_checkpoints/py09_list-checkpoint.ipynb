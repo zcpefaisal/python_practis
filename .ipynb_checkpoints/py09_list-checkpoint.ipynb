{
 "cells": [
  {
   "cell_type": "code",
   "execution_count": 1,
   "id": "e48fa4e4",
   "metadata": {},
   "outputs": [
    {
     "name": "stdout",
     "output_type": "stream",
     "text": [
      "['apple', 'banana', 'cherry']\n"
     ]
    }
   ],
   "source": [
    "# Create a List:\n",
    "mylist = [\"apple\", \"banana\", \"cherry\"]\n",
    "print(mylist)"
   ]
  },
  {
   "cell_type": "code",
   "execution_count": 3,
   "id": "9315e89c",
   "metadata": {},
   "outputs": [
    {
     "name": "stdout",
     "output_type": "stream",
     "text": [
      "['apple', 'banana', 'cherry', 'apple', 'cherry']\n",
      "5\n"
     ]
    }
   ],
   "source": [
    "# Lists allow duplicate values:\n",
    "thislist = [\"apple\", \"banana\", \"cherry\", \"apple\", \"cherry\"]\n",
    "print(thislist)\n",
    "# Print the number of items in the list:\n",
    "print(len(thislist))"
   ]
  },
  {
   "cell_type": "code",
   "execution_count": 7,
   "id": "18de909f",
   "metadata": {},
   "outputs": [
    {
     "name": "stdout",
     "output_type": "stream",
     "text": [
      "['abc', 34, True, 40, 'male']\n",
      "[1, 5, 7, 9, 3]\n",
      "[True, False, False]\n",
      "['abc', 34, True, 40, 'male']\n",
      "<class 'list'>\n"
     ]
    }
   ],
   "source": [
    "# allwo string, int and boolean data types\n",
    "ist1 = [\"apple\", \"banana\", \"cherry\"]\n",
    "list2 = [1, 5, 7, 9, 3]\n",
    "list3 = [True, False, False]\n",
    "print(list1)\n",
    "print(list2)\n",
    "print(list3)\n",
    "# list with strings, integers and boolean values\n",
    "list1 = [\"abc\", 34, True, 40, \"male\"]\n",
    "print(list1)\n",
    "print(type(list1))"
   ]
  },
  {
   "cell_type": "code",
   "execution_count": 9,
   "id": "3439fb23",
   "metadata": {},
   "outputs": [
    {
     "name": "stdout",
     "output_type": "stream",
     "text": [
      "<class 'list'>\n",
      "['apple', 'banana', 'mango']\n"
     ]
    }
   ],
   "source": [
    "# The list() Constructor\n",
    "myList = list((\"apple\", \"banana\", \"mango\"))\n",
    "print(type(myList))\n",
    "print(myList)"
   ]
  },
  {
   "cell_type": "code",
   "execution_count": null,
   "id": "9c359da1",
   "metadata": {},
   "outputs": [],
   "source": [
    "# Important note of Python Collections\n",
    "# ---------------------------------------\n",
    "# There are four collection data types in Python\n",
    "# * List is ordered and changeable. Allows duplicate members.\n",
    "# * Tuple is rdered and unchangeable. Allows duplicate members.\n",
    "# * Set is unordered, unchangeable*, and unindexed. No duplicate members.\n",
    "# * Dictionary is ordered** and changeable. No duplicate members.\n",
    "\n",
    "# List items are indexed, the first item has index [0], the second item has index [1] etc.\n",
    "# lists are ordered means items have a defined order, and order will not change.\n",
    "# If add new items to a list, new items will be placed at the end of the list.\n",
    "# list is changeable, we can change, add & remove items in a list after it has been created.\n",
    "# *** Set items are unchangeable, but you can remove and/or add items whenever you like.\n",
    "# *** Python version 3.7, dictionaries are ordered. In Python 3.6 and earlier, dictionaries are unordered."
   ]
  },
  {
   "cell_type": "code",
   "execution_count": 12,
   "id": "95227dc0",
   "metadata": {},
   "outputs": [
    {
     "name": "stdout",
     "output_type": "stream",
     "text": [
      "banana\n",
      "cherry\n",
      "apple\n"
     ]
    }
   ],
   "source": [
    "myList = [\"apple\", \"banana\", \"cherry\"]\n",
    "print(myList[1]) # banana\n",
    "print(myList[-1]) # cherry\n",
    "print(myList[-3]) # apple"
   ]
  },
  {
   "cell_type": "code",
   "execution_count": 19,
   "id": "40320b20",
   "metadata": {},
   "outputs": [
    {
     "name": "stdout",
     "output_type": "stream",
     "text": [
      "['banana', 'cherry', 'orange', 'kiwi']\n",
      "['apple', 'banana', 'cherry', 'orange']\n",
      "['orange', 'kiwi', 'melon', 'mango']\n",
      "['mango']\n",
      "['cherry', 'orange', 'kiwi']\n"
     ]
    }
   ],
   "source": [
    "thislist = [\"apple\", \"banana\", \"cherry\", \"orange\", \"kiwi\", \"melon\", \"mango\"]\n",
    "print(thislist[1:5]) # ['banana', 'cherry', 'orange', 'kiwi']\n",
    "print(thislist[:4]) # ['apple', 'banana', 'cherry', 'orange']\n",
    "print(thislist[3:]) # ['orange', 'kiwi', 'melon', 'mango']\n",
    "print(thislist[-1:]) # ['mango']\n",
    "print(thislist[-5:-2]) # ['cherry', 'orange', 'kiwi']"
   ]
  },
  {
   "cell_type": "code",
   "execution_count": 25,
   "id": "fa4c09c3",
   "metadata": {},
   "outputs": [
    {
     "name": "stdout",
     "output_type": "stream",
     "text": [
      "banana exist\n"
     ]
    }
   ],
   "source": [
    "thislist = [\"apple\", \"banana\", \"cherry\"]\n",
    "# To determine if a specified item is present in a list use the in keyword:\n",
    "if 'banana' in thislist:\n",
    "    print('banana exist')\n",
    "else:\n",
    "    print('banana not exist')\n",
    "\n"
   ]
  },
  {
   "cell_type": "code",
   "execution_count": 26,
   "id": "57b820fe",
   "metadata": {},
   "outputs": [
    {
     "name": "stdout",
     "output_type": "stream",
     "text": [
      "['apple', 'banana', 'mango']\n"
     ]
    }
   ],
   "source": [
    "# Change List Items\n",
    "thislist = [\"apple\", \"banana\", \"cherry\"]\n",
    "thislist[2] = 'mango'\n",
    "print(thislist) # ['apple', 'banana', 'mango']"
   ]
  },
  {
   "cell_type": "code",
   "execution_count": 27,
   "id": "3622fd60",
   "metadata": {},
   "outputs": [
    {
     "name": "stdout",
     "output_type": "stream",
     "text": [
      "['apple', 'item 1', 'item 2', 'item 3', 'kiwi', 'mango']\n"
     ]
    }
   ],
   "source": [
    "# change the values \"banana\", \"cherry\" and \"orange\" with the values \"item 1\" 'item 2' and 'item 3'\n",
    "thislist = [\"apple\", \"banana\", \"cherry\", \"orange\", \"kiwi\", \"mango\"]\n",
    "thislist[1:4] = ['item 1', 'item 2', 'item 3']\n",
    "print(thislist) # ['apple', 'item 1', 'item 2', 'item 3', 'kiwi', 'mango']"
   ]
  },
  {
   "cell_type": "code",
   "execution_count": 29,
   "id": "c947201b",
   "metadata": {},
   "outputs": [
    {
     "name": "stdout",
     "output_type": "stream",
     "text": [
      "['apple', 'test 1', 'test 2', 'test 3', 'cherry']\n"
     ]
    }
   ],
   "source": [
    "# Change the second value by replacing with two new values\n",
    "thislist = [\"apple\", \"banana\", \"cherry\"]\n",
    "thislist[1:2] = ['test 1', 'test 2', 'test 3']\n",
    "print(thislist) # ['apple', 'test 1', 'test 2', 'test 3', 'cherry']"
   ]
  },
  {
   "cell_type": "code",
   "execution_count": 34,
   "id": "f4de5355",
   "metadata": {},
   "outputs": [
    {
     "name": "stdout",
     "output_type": "stream",
     "text": [
      "['apple', 'item1']\n",
      "['apple', 'i', 't', 'e', 'm', '1']\n"
     ]
    }
   ],
   "source": [
    "thislist = [\"apple\", \"banana\", \"cherry\"]\n",
    "thislist[1:3] = ['item1']\n",
    "print(thislist) # ['apple', 'item1']\n",
    "thislist[1:2] = 'item1'\n",
    "print(thislist) # ['apple', 'i', 't', 'e', 'm', '1'] # note: each character is an array item when string pass as value"
   ]
  },
  {
   "cell_type": "code",
   "execution_count": 38,
   "id": "7d1bb495",
   "metadata": {},
   "outputs": [
    {
     "name": "stdout",
     "output_type": "stream",
     "text": [
      "['apple', 'banana', 'test', 'cherry']\n"
     ]
    }
   ],
   "source": [
    "thislist = [\"apple\", \"banana\", \"cherry\"]\n",
    "thislist.insert(2, 'test')\n",
    "print(thislist) # ['apple', 'banana', 'test', 'cherry']"
   ]
  },
  {
   "cell_type": "code",
   "execution_count": 39,
   "id": "69052982",
   "metadata": {},
   "outputs": [
    {
     "name": "stdout",
     "output_type": "stream",
     "text": [
      "['apple', 'banana', 'cherry', 'orange']\n"
     ]
    }
   ],
   "source": [
    "# To add a new item to the end of the list, use the append() method\n",
    "thislist = [\"apple\", \"banana\", \"cherry\"]\n",
    "thislist.append('orange')\n",
    "print(thislist)"
   ]
  },
  {
   "cell_type": "code",
   "execution_count": 40,
   "id": "1ac18b2e",
   "metadata": {},
   "outputs": [
    {
     "name": "stdout",
     "output_type": "stream",
     "text": [
      "['apple', 'banana', 'orange', 'cherry']\n"
     ]
    }
   ],
   "source": [
    "# To insert a new item at a specified index, use the insert() method.\n",
    "thislist = [\"apple\", \"banana\", \"cherry\"]\n",
    "thislist.insert(2, 'orange')\n",
    "print(thislist)"
   ]
  },
  {
   "cell_type": "code",
   "execution_count": 43,
   "id": "953a9f2d",
   "metadata": {},
   "outputs": [
    {
     "name": "stdout",
     "output_type": "stream",
     "text": [
      "['apple', 'banana', 'cherry', 'mango', 'pineapple', 'papaya']\n",
      "['apple', 'banana', 'cherry', 'mango', 'pineapple', 'papaya', 'kiwi', 'orange']\n"
     ]
    }
   ],
   "source": [
    "# To append elements from another list to the current list, use the extend() method.\n",
    "# extend() method not only append lists, you can also add any iterable object (tuples, sets, dictionaries).\n",
    "thislist1 = [\"apple\", \"banana\", \"cherry\"]\n",
    "thislist2 = [\"mango\", \"pineapple\", \"papaya\"]\n",
    "thislist3 = (\"kiwi\", \"orange\")\n",
    "thislist1.extend(thislist2)\n",
    "print(thislist1) # ['apple', 'banana', 'cherry', 'mango', 'pineapple', 'papaya']\n",
    "thislist1.extend(thislist3)\n",
    "print(thislist1) # ['apple', 'banana', 'cherry', 'mango', 'pineapple', 'papaya', 'kiwi', 'orange']"
   ]
  },
  {
   "cell_type": "code",
   "execution_count": 48,
   "id": "e3d42ed9",
   "metadata": {},
   "outputs": [
    {
     "name": "stdout",
     "output_type": "stream",
     "text": [
      "['apple', 'cherry']\n"
     ]
    }
   ],
   "source": [
    "# remove() method removes the specified item\n",
    "thislist = [\"apple\", \"banana\", \"cherry\"]\n",
    "thislist.remove('banana')\n",
    "print(thislist)"
   ]
  },
  {
   "cell_type": "code",
   "execution_count": 50,
   "id": "0df64979",
   "metadata": {},
   "outputs": [
    {
     "name": "stdout",
     "output_type": "stream",
     "text": [
      "['apple', 'banana']\n"
     ]
    }
   ],
   "source": [
    "# pop() method removes the specified index\n",
    "thislist = [\"apple\", \"banana\", \"cherry\"]\n",
    "thislist.pop(2)\n",
    "print(thislist)"
   ]
  },
  {
   "cell_type": "code",
   "execution_count": 52,
   "id": "9b0bddc3",
   "metadata": {},
   "outputs": [
    {
     "name": "stdout",
     "output_type": "stream",
     "text": [
      "['apple', 'banana']\n"
     ]
    }
   ],
   "source": [
    "# If you do not specify the index, the pop() method removes the last item\n",
    "thislist = [\"apple\", \"banana\", \"cherry\"]\n",
    "thislist.pop()\n",
    "print(thislist)"
   ]
  },
  {
   "cell_type": "code",
   "execution_count": 53,
   "id": "1cc9943d",
   "metadata": {},
   "outputs": [
    {
     "name": "stdout",
     "output_type": "stream",
     "text": [
      "['apple', 'cherry']\n"
     ]
    }
   ],
   "source": [
    "# del keyword also removes the specified index\n",
    "thislist = [\"apple\", \"banana\", \"cherry\"]\n",
    "del thislist[1]\n",
    "print(thislist)"
   ]
  },
  {
   "cell_type": "code",
   "execution_count": 58,
   "id": "fdaddff6",
   "metadata": {},
   "outputs": [],
   "source": [
    "thislist = [\"apple\", \"banana\", \"cherry\"]\n",
    "del thislist\n",
    "# print(thislist) # NameError: name 'thislist' is not defined"
   ]
  },
  {
   "cell_type": "code",
   "execution_count": 62,
   "id": "7f5c0aa8",
   "metadata": {},
   "outputs": [
    {
     "name": "stdout",
     "output_type": "stream",
     "text": [
      "[]\n"
     ]
    }
   ],
   "source": [
    "# clear() method empties the list.\n",
    "thislist = [\"apple\", \"banana\", \"cherry\"]\n",
    "thislist.clear()\n",
    "print(thislist) # The list still remains, but it has no content."
   ]
  },
  {
   "cell_type": "code",
   "execution_count": 2,
   "id": "3afa49b9",
   "metadata": {},
   "outputs": [
    {
     "name": "stdout",
     "output_type": "stream",
     "text": [
      "apple\n",
      "banana\n",
      "cherry\n"
     ]
    }
   ],
   "source": [
    "# Print all items in the list, one by one:\n",
    "thislist = [\"apple\", \"banana\", \"cherry\"]\n",
    "for list in thislist:\n",
    "    print(list)"
   ]
  },
  {
   "cell_type": "code",
   "execution_count": 3,
   "id": "d1ddfefd",
   "metadata": {},
   "outputs": [
    {
     "name": "stdout",
     "output_type": "stream",
     "text": [
      "apple\n",
      "banana\n",
      "cherry\n"
     ]
    }
   ],
   "source": [
    "# can also loop through the list items by referring to their index number.\n",
    "thislist = [\"apple\", \"banana\", \"cherry\"]\n",
    "# range() and len() functions to create a suitable iterable.\n",
    "for index in range(len(thislist)):\n",
    "    print(thislist[index])"
   ]
  },
  {
   "cell_type": "code",
   "execution_count": 10,
   "id": "911da6b5",
   "metadata": {},
   "outputs": [
    {
     "name": "stdout",
     "output_type": "stream",
     "text": [
      "apple\n",
      "banana\n",
      "cherry\n"
     ]
    }
   ],
   "source": [
    "# can loop through the list items by using a while loop. Remember to increase the index by 1 after each iteration.\n",
    "thislist = [\"apple\", \"banana\", \"cherry\"]\n",
    "i = 0\n",
    "while i < len(thislist):\n",
    "    print(thislist[i])\n",
    "    i += 1"
   ]
  },
  {
   "cell_type": "code",
   "execution_count": 12,
   "id": "b724721c",
   "metadata": {},
   "outputs": [
    {
     "name": "stdout",
     "output_type": "stream",
     "text": [
      "apple\n",
      "banana\n",
      "cherry\n"
     ]
    },
    {
     "data": {
      "text/plain": [
       "[None, None, None]"
      ]
     },
     "execution_count": 12,
     "metadata": {},
     "output_type": "execute_result"
    }
   ],
   "source": [
    "# Looping Using List Comprehension\n",
    "thislist = [\"apple\", \"banana\", \"cherry\"]\n",
    "[print(x) for x in thislist]"
   ]
  },
  {
   "cell_type": "code",
   "execution_count": 13,
   "id": "c278e567",
   "metadata": {},
   "outputs": [
    {
     "name": "stdout",
     "output_type": "stream",
     "text": [
      "['apple', 'banana', 'mango']\n"
     ]
    }
   ],
   "source": [
    "# List Comprehension offers a shorter syntax when you want to create a new list based on the values of an existing list.\n",
    "# Example: Based on a list of fruits, you want a new list, containing only the fruits with the letter \"a\" in the name.\n",
    "# Without list comprehension you will have to write a for statement with a conditional test inside:\n",
    "fruits = [\"apple\", \"banana\", \"cherry\", \"kiwi\", \"mango\"]\n",
    "newlist = []\n",
    "for x in fruits:\n",
    "    if 'a' in x:\n",
    "        newlist.append(x)\n",
    "        \n",
    "print(newlist)"
   ]
  },
  {
   "cell_type": "code",
   "execution_count": 24,
   "id": "4e7383a2",
   "metadata": {},
   "outputs": [
    {
     "name": "stdout",
     "output_type": "stream",
     "text": [
      "['apple', 'banana', 'mango']\n",
      "['apple', 'banana', 'mango']\n",
      "['banana', 'cherry', 'kiwi', 'mango']\n",
      "['apple', 'banana', 'cherry', 'kiwi', 'mango']\n",
      "[0, 1, 2, 3, 4, 5, 6, 7, 8, 9]\n",
      "[0, 1, 2, 3, 4]\n",
      "['APPLE', 'BANANA', 'CHERRY', 'KIWI', 'MANGO']\n",
      "['hello', 'hello', 'hello', 'hello', 'hello']\n",
      "['apple', 'orance', 'cherry', 'kiwi', 'mango']\n"
     ]
    }
   ],
   "source": [
    "# With list comprehension can do all that with only one line of code\n",
    "fruits = [\"apple\", \"banana\", \"cherry\", \"kiwi\", \"mango\"]\n",
    "# Syntax-> newlist = [expression for item in iterable if condition == True]\n",
    "newlist = [x for x in fruits if 'a' in x]\n",
    "print(newlist)\n",
    "\n",
    "# only one line of code with another process of list comprehension\n",
    "newlist2 = []\n",
    "# Syntax-> [expression:append for item in iterable if condition == True]\n",
    "[newlist2.append(x) for x in fruits if 'a' in x]\n",
    "print(newlist2)\n",
    "\n",
    "# Only accept items that are not \"apple\"\n",
    "newlist3 = [x for x in fruits if x != 'apple']\n",
    "print(newlist3)\n",
    "\n",
    "# With no if statement\n",
    "newlist4 = [x for x in fruits]\n",
    "print(newlist4)\n",
    "\n",
    "# You can use the range() function to create an iterable:\n",
    "newlist5 = [x for x in range(10)]\n",
    "print(newlist5)\n",
    "\n",
    "# Accept only numbers lower than 5:\n",
    "newlist6 = [x for x in range(10) if x < 5]\n",
    "print(newlist6)\n",
    "\n",
    "# Set the values in the new list to upper case:\n",
    "newlist7 = [x.upper() for x in fruits]\n",
    "print(newlist7)\n",
    "\n",
    "# Set all values in the new list to 'hello':\n",
    "newlist8 = ['hello' for x in fruits]\n",
    "print(newlist8)\n",
    "\n",
    "# Return \"orange\" instead of \"banana\":\n",
    "# Return the item if it is not banana, if it is banana return orange. \n",
    "newlist9 = [x if x != 'banana' else 'orance' for x in fruits]\n",
    "print(newlist9)"
   ]
  },
  {
   "cell_type": "code",
   "execution_count": 28,
   "id": "f69620bf",
   "metadata": {},
   "outputs": [
    {
     "name": "stdout",
     "output_type": "stream",
     "text": [
      "['banana', 'kiwi', 'mango', 'orange', 'pineapple']\n",
      "[23, 50, 65, 82, 100]\n",
      "[100, 82, 65, 50, 23]\n"
     ]
    }
   ],
   "source": [
    "# List Sort \n",
    "thislist = [\"orange\", \"mango\", \"kiwi\", \"pineapple\", \"banana\"]\n",
    "# List objects have a sort() method that will sort the list alphanumerically, ascending, by default:\n",
    "thislist.sort()\n",
    "print(thislist)\n",
    "\n",
    "# Sort the list numerically:\n",
    "thislist = [100, 50, 65, 82, 23]\n",
    "thislist.sort()\n",
    "print(thislist)\n",
    "\n",
    "# Sort the list descending:\n",
    "thislist.sort(reverse=True)\n",
    "print(thislist)"
   ]
  },
  {
   "cell_type": "code",
   "execution_count": 32,
   "id": "d029e0ac",
   "metadata": {},
   "outputs": [
    {
     "name": "stdout",
     "output_type": "stream",
     "text": [
      "[50, 65, 23, 82, 100]\n"
     ]
    }
   ],
   "source": [
    "def myfunc(x):\n",
    "    return abs(x - 50)\n",
    "\n",
    "# Customize Sort Function\n",
    "thislist = [100, 50, 65, 82, 23]\n",
    "thislist.sort(key= myfunc)\n",
    "print(thislist)"
   ]
  },
  {
   "cell_type": "code",
   "execution_count": 35,
   "id": "c8848800",
   "metadata": {},
   "outputs": [
    {
     "name": "stdout",
     "output_type": "stream",
     "text": [
      "['Banana', 'Kiwi', 'cherry', 'orange']\n",
      "['Banana', 'cherry', 'Kiwi', 'orange']\n",
      "['cherry', 'Kiwi', 'Orange', 'banana']\n"
     ]
    }
   ],
   "source": [
    "thislist = [\"Banana\", \"orange\", \"Kiwi\", \"cherry\"]\n",
    "# By default the sort() method is case sensitive, resulting in all capital letters being sorted before lower case letters:\n",
    "thislist.sort()\n",
    "print(thislist)\n",
    "\n",
    "# Perform a case-insensitive sort of the list:\n",
    "thislist.sort(key=str.lower)\n",
    "print(thislist)\n",
    "\n",
    "# Reverse the order of the list items:\n",
    "thislist = [\"banana\", \"Orange\", \"Kiwi\", \"cherry\"]\n",
    "thislist.reverse()\n",
    "print(thislist)\n"
   ]
  },
  {
   "cell_type": "code",
   "execution_count": 44,
   "id": "1f2223b1",
   "metadata": {},
   "outputs": [
    {
     "name": "stdout",
     "output_type": "stream",
     "text": [
      "['apple', 'banana', 'cherry']\n"
     ]
    }
   ],
   "source": [
    "# Copy a List\n",
    "# You cannot copy a list simply by typing list2 = list1, because: \n",
    "# list2 will only be a reference to list1, and changes made in list1 will automatically also be made in list2.\n",
    "# There are ways to make a copy, one way is to use the built-in List method copy().\n",
    "thislist = [\"apple\", \"banana\", \"cherry\"]\n",
    "mylist = thislist.copy()\n",
    "print(mylist)"
   ]
  },
  {
   "cell_type": "code",
   "execution_count": 51,
   "id": "8d916d3e",
   "metadata": {},
   "outputs": [
    {
     "name": "stdout",
     "output_type": "stream",
     "text": [
      "['a', 'b', 'c', 1, 2, 3]\n",
      "[1, 2, 3, 'a', 'b', 'c']\n",
      "['a', 'b', 'c', 1, 2, 3]\n"
     ]
    }
   ],
   "source": [
    "# Join Two Lists\n",
    "# There are several ways to join, or concatenate, two or more lists in Python.\n",
    "# One of the easiest ways are by using the + operator.\n",
    "list1 = [\"a\", \"b\", \"c\"]\n",
    "list2 = [1, 2, 3]\n",
    "list3 = list1 + list2\n",
    "print(list3)\n",
    "\n",
    "\n",
    "# Another way to join two lists is by appending all the items from list1 into list2, one by one:\n",
    "list1 = [\"a\", \"b\", \"c\"]\n",
    "list2 = [1, 2, 3]\n",
    "for i in list1:\n",
    "    list2.append(i)\n",
    "print(list2)\n",
    "\n",
    "\n",
    "# Or can use the extend() method, which purpose is to add elements from one list to another list:\n",
    "list1 = [\"a\", \"b\", \"c\"]\n",
    "list2 = [1, 2, 3]\n",
    "list1.extend(list2)\n",
    "print(list1)"
   ]
  },
  {
   "cell_type": "code",
   "execution_count": null,
   "id": "11b8135a",
   "metadata": {},
   "outputs": [],
   "source": []
  }
 ],
 "metadata": {
  "kernelspec": {
   "display_name": "Python 3 (ipykernel)",
   "language": "python",
   "name": "python3"
  },
  "language_info": {
   "codemirror_mode": {
    "name": "ipython",
    "version": 3
   },
   "file_extension": ".py",
   "mimetype": "text/x-python",
   "name": "python",
   "nbconvert_exporter": "python",
   "pygments_lexer": "ipython3",
   "version": "3.8.10"
  },
  "varInspector": {
   "cols": {
    "lenName": 16,
    "lenType": 16,
    "lenVar": 40
   },
   "kernels_config": {
    "python": {
     "delete_cmd_postfix": "",
     "delete_cmd_prefix": "del ",
     "library": "var_list.py",
     "varRefreshCmd": "print(var_dic_list())"
    },
    "r": {
     "delete_cmd_postfix": ") ",
     "delete_cmd_prefix": "rm(",
     "library": "var_list.r",
     "varRefreshCmd": "cat(var_dic_list()) "
    }
   },
   "types_to_exclude": [
    "module",
    "function",
    "builtin_function_or_method",
    "instance",
    "_Feature"
   ],
   "window_display": false
  }
 },
 "nbformat": 4,
 "nbformat_minor": 5
}
