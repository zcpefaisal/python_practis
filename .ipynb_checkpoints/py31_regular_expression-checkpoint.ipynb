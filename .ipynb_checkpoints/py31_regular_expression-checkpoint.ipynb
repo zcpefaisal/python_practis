{
 "cells": [
  {
   "cell_type": "code",
   "execution_count": 3,
   "id": "19f00e10",
   "metadata": {},
   "outputs": [
    {
     "name": "stdout",
     "output_type": "stream",
     "text": [
      "None\n"
     ]
    }
   ],
   "source": [
    "# Regular Expression, is a sequence of characters that forms a search pattern.\n",
    "# RegEx can be used to check if a string contains the specified search pattern.\n",
    "# Python has a built-in package called re, which can be used to work with Regular Expressions.\n",
    "\n",
    "import re\n",
    "\n",
    "txt = \"The rain in Spain\"\n",
    "# Search the string to see if it starts with \"The\" and ends with \"Spain\":\n",
    "print(re.search('^The.*ra$', txt)) # \"search\" Returns a Match object if there is a match anywhere in the string other wise None\n"
   ]
  },
  {
   "cell_type": "code",
   "execution_count": 29,
   "id": "5e086d4f",
   "metadata": {},
   "outputs": [
    {
     "name": "stdout",
     "output_type": "stream",
     "text": [
      "['hello']\n",
      "['planet']\n",
      "['h', 'e', 'l', 'l', 'l', 'a', 'n', 'e']\n",
      "['That wil']\n",
      "['5', '9', '2', '5']\n",
      "['hello']\n",
      "['pla']\n",
      "[]\n",
      "[]\n",
      "['hello']\n",
      "['dollars', 'cents']\n",
      "['dollars']\n",
      "[]\n"
     ]
    }
   ],
   "source": [
    "txt = \"hello planet\"\n",
    "# ^ --> Starts with  --> \"^hello\"\n",
    "x = re.findall(\"^hello\", txt) #['hello']  # findall Returns a list containing all matches\n",
    "print(x)\n",
    "# $ --> Ends with  --> planet$\"\n",
    "print(re.findall(\"planet$\", txt)) # ['planet']\n",
    "\n",
    "# [] --> A set of characters  --> \"[a-z]\"\n",
    "print(re.findall(\"[a-n]\", txt)) # ['h', 'e', 'l', 'l', 'l', 'a', 'n', 'e']\n",
    "\n",
    "# . --> Any character (except newline character)  --> \"he..o\"\n",
    "string = \"That will be 59 dollars 25 cents\"\n",
    "print(re.findall('Th.....l', string)) # ['That wil']  # Search for a sequence that starts with \"he\", followed by two (any) characters, and an \"o\":\n",
    "# \\ --> Signals a special sequence (can also be used to escape special characters)  --> \"\\d\"\n",
    "print(re.findall('\\d', string)) # ['5', '9'] #Find all digit characters\n",
    "# * --> Zero or more occurrences  --> \"he.*o\"\n",
    "print(re.findall('he.*o', txt)) # Search for a sequence that starts with \"he\", followed by 0 or more  (any) characters, and an \"o\":\n",
    "# + --> One or more occurrences  --> \"he.+o\"\n",
    "print(re.findall('p.+a', txt)) #['pla'] #Search for a sequence that starts with \"he\", followed by 1 or more  (any) characters, and an \"o\":\n",
    "print(re.findall('p.+l', txt)) #[] This time we got no match, because there were not not one more characters between \"p\" and the \"l\"\n",
    "# ? --> Zero or one occurrences  --> \"he.?o\"\n",
    "print(re.findall('he.?o', txt)) #[] This time we got no match, because there were not zero, not one, but two characters between \"he\" and the \"o\"\n",
    "# {} --> Exactly the specified number of occurrences  --> \"he.{2}o\"\n",
    "print(re.findall('he.{2}o', txt)) # ['hello'] #Search for a sequence that starts with \"he\", followed excactly 2 (any) characters, and \"o\":\n",
    "# | --> Either or  --> \"falls|stays\"\n",
    "print(re.findall('dollars|cents', string)) # ['dollars', 'cents']\n",
    "print(re.findall('dollars|pound', string)) # ['dollars']\n",
    "print(re.findall('taka|pound', string)) # []\n",
    "\n",
    "# () --> Capture and group\n"
   ]
  },
  {
   "cell_type": "code",
   "execution_count": 30,
   "id": "9ba0dad5",
   "metadata": {},
   "outputs": [],
   "source": [
    "# Special Sequences\n",
    "# \\A --> Returns a match if the specified characters are at the beginning of the string  --> \"\\AThe\"\n",
    "# \\b --> Returns a match where the specified characters are at the beginning or at the end of a word(the \"r\" in the beginning is making sure that the string is being treated as a \"raw string\")  -->  r\"\\bain\" r\"ai\\b\"\n",
    "# \\B --> Returns a match where the specified characters are present, but NOT at the beginning (or at the end) of a word(the \"r\" in the beginning is making sure that the string is being treated as a \"raw string\") --> r\"\\Bain\"r\"ai\\B\"\n",
    "# \\d --> Returns a match where the string contains digits (numbers from 0-9)  --> \"\\d\"\n",
    "# \\D --> Returns a match where the string DOES NOT contain digits  --> \"\\D\"\n",
    "# \\s --> Returns a match where the string contains a white space character  --> \"\\s\"\n",
    "# \\S --> Returns a match where the string DOES NOT contain a white space character  --> \"\\S\"\n",
    "# \\w --> Returns a match where the string contains any word characters (characters from a to Z, digits from 0-9, and the underscore _ character)  --> \"\\w\"\n",
    "# \\W --> Returns a match where the string DOES NOT contain any word characters  --> \"\\W\"\n",
    "# \\Z --> Returns a match if the specified characters are at the end of the string  -->  \"Spai\\Z\""
   ]
  },
  {
   "cell_type": "code",
   "execution_count": 31,
   "id": "b901c9d1",
   "metadata": {},
   "outputs": [],
   "source": [
    "# Set of characters inside a pair of square brackets [] with a special meaning:\n",
    "# [arn] --> Returns a match where one of the specified characters (a, r, or n) is present\n",
    "# [a-n] --> Returns a match for any lower case character, alphabetically between a and n\n",
    "# [^arn] --> Returns a match for any character EXCEPT a, r, and n\n",
    "# [0123] --> Returns a match where any of the specified digits (0, 1, 2, or 3) are present\n",
    "# [0-9] --> Returns a match for any digit between 0 and 9\n",
    "# [0-5][0-9] --> Returns a match for any two-digit numbers from 00 and 59\n",
    "# [a-zA-Z] --> Returns a match for any character alphabetically between a and z, lower case OR upper case\n",
    "# [+] --> In sets, +, *, ., |, (), $,{} has no special meaning, so [+] means: return a match for any + character in the string"
   ]
  },
  {
   "cell_type": "code",
   "execution_count": 36,
   "id": "e1ce5c61",
   "metadata": {},
   "outputs": [
    {
     "name": "stdout",
     "output_type": "stream",
     "text": [
      "['The', 'rain', 'in', 'Spain']\n",
      "['The', 'rain in Spain']\n"
     ]
    }
   ],
   "source": [
    "# split() function returns a list where the string has been split at each match:\n",
    "txt = \"The rain in Spain\"\n",
    "x = re.split(\"\\s\", txt) # here \\s meaning white space\n",
    "print(x)\n",
    "\n",
    "# You can control the number of occurrences by specifying the maxsplit parameter:\n",
    "txt = \"The rain in Spain\"\n",
    "x = re.split(\"\\s\", txt, 1)\n",
    "print(x)"
   ]
  },
  {
   "cell_type": "code",
   "execution_count": 38,
   "id": "540869e6",
   "metadata": {},
   "outputs": [
    {
     "name": "stdout",
     "output_type": "stream",
     "text": [
      "The**rain**in**Spain\n"
     ]
    }
   ],
   "source": [
    "# sub() function replaces the matches with the text of your choice:\n",
    "txt = \"The rain in Spain\"\n",
    "x = re.sub(\"\\s\", \"**\", txt) # Replace every white-space character with the number **:\n",
    "print(x)"
   ]
  },
  {
   "cell_type": "code",
   "execution_count": null,
   "id": "c15bb0a4",
   "metadata": {},
   "outputs": [],
   "source": []
  }
 ],
 "metadata": {
  "kernelspec": {
   "display_name": "Python 3 (ipykernel)",
   "language": "python",
   "name": "python3"
  },
  "language_info": {
   "codemirror_mode": {
    "name": "ipython",
    "version": 3
   },
   "file_extension": ".py",
   "mimetype": "text/x-python",
   "name": "python",
   "nbconvert_exporter": "python",
   "pygments_lexer": "ipython3",
   "version": "3.8.10"
  },
  "varInspector": {
   "cols": {
    "lenName": 16,
    "lenType": 16,
    "lenVar": 40
   },
   "kernels_config": {
    "python": {
     "delete_cmd_postfix": "",
     "delete_cmd_prefix": "del ",
     "library": "var_list.py",
     "varRefreshCmd": "print(var_dic_list())"
    },
    "r": {
     "delete_cmd_postfix": ") ",
     "delete_cmd_prefix": "rm(",
     "library": "var_list.r",
     "varRefreshCmd": "cat(var_dic_list()) "
    }
   },
   "types_to_exclude": [
    "module",
    "function",
    "builtin_function_or_method",
    "instance",
    "_Feature"
   ],
   "window_display": false
  }
 },
 "nbformat": 4,
 "nbformat_minor": 5
}
