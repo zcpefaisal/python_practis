{
 "cells": [
  {
   "cell_type": "code",
   "execution_count": 18,
   "id": "16a3f578",
   "metadata": {},
   "outputs": [
    {
     "ename": "SyntaxError",
     "evalue": "invalid syntax (1496784855.py, line 28)",
     "output_type": "error",
     "traceback": [
      "\u001b[0;36m  Input \u001b[0;32mIn [18]\u001b[0;36m\u001b[0m\n\u001b[0;31m    finaly:\u001b[0m\n\u001b[0m           ^\u001b[0m\n\u001b[0;31mSyntaxError\u001b[0m\u001b[0;31m:\u001b[0m invalid syntax\n"
     ]
    }
   ],
   "source": [
    "# Basic error types \n",
    "### Compile time (syntextical error), \n",
    "### Logical(wrong output) error, \n",
    "### Runtime error\n",
    "\n",
    "# The try block lets you test a block of code for errors.\n",
    "# The except block lets you handle the error.\n",
    "# The else block lets you execute code when there is no error.\n",
    "# The finally block lets you execute code, regardless of the result of the try- and except blocks.\n",
    "\n",
    "# When an error occurs, or exception as we call it, Python will normally stop and generate an error message.\n",
    "# These exceptions can be handled using the try statement:\n",
    "try:\n",
    "    print(errVariable) # here errVariable not define\n",
    "except:\n",
    "    print('error occurred')\n",
    "    \n",
    "try:\n",
    "    print(errVariable) # here errVariable not define\n",
    "except Exception as e:\n",
    "    print(e)\n",
    "    \n",
    "try:\n",
    "    print('resource open')\n",
    "    print(errVariable) # here errVariable not define\n",
    "except Exception as e:\n",
    "    print(e)\n",
    "finally:\n",
    "    print('resource close')"
   ]
  },
  {
   "cell_type": "code",
   "execution_count": 4,
   "id": "baad950a",
   "metadata": {},
   "outputs": [
    {
     "name": "stdout",
     "output_type": "stream",
     "text": [
      "errVariable is not define\n"
     ]
    }
   ],
   "source": [
    "try:\n",
    "    print(errVariable) # here errVariable not define\n",
    "except NameError:\n",
    "    print('errVariable is not define')\n",
    "except:\n",
    "    print('another error ')"
   ]
  },
  {
   "cell_type": "code",
   "execution_count": 6,
   "id": "76978fa7",
   "metadata": {},
   "outputs": [
    {
     "name": "stdout",
     "output_type": "stream",
     "text": [
      "faisal\n",
      "nothing error\n"
     ]
    }
   ],
   "source": [
    "# You can use the else keyword to define a block of code to be executed if no errors were raised:\n",
    "try:\n",
    "    print('faisal')\n",
    "except NameError:\n",
    "    print('errVariable is not define')\n",
    "else:\n",
    "    print('nothing error')"
   ]
  },
  {
   "cell_type": "code",
   "execution_count": 7,
   "id": "ec382fd0",
   "metadata": {},
   "outputs": [
    {
     "name": "stdout",
     "output_type": "stream",
     "text": [
      "Something went wrong\n",
      "The 'try except' is finished\n"
     ]
    }
   ],
   "source": [
    "# finally block, if specified, will be executed regardless if the try block raises an error or not.\n",
    "try:\n",
    "    print(x)\n",
    "except:\n",
    "    print(\"Something went wrong\")\n",
    "finally:\n",
    "    print(\"The 'try except' is finished\")"
   ]
  },
  {
   "cell_type": "code",
   "execution_count": 11,
   "id": "0b1116f1",
   "metadata": {
    "scrolled": true
   },
   "outputs": [],
   "source": [
    "# Raise an exception\n",
    "# you can choose to throw an exception if a condition occurs.\n",
    "# To throw (or raise) an exception, use the raise keyword.\n",
    "# x = -1\n",
    "# if x<0:\n",
    "#     raise Exception(\"number lessthen zero\")"
   ]
  },
  {
   "cell_type": "code",
   "execution_count": 12,
   "id": "e611f423",
   "metadata": {},
   "outputs": [],
   "source": [
    "x = \"hello\"\n",
    "\n",
    "# if not type(x) is int:\n",
    "#     raise TypeError(\"Only integers are allowed\")"
   ]
  },
  {
   "cell_type": "code",
   "execution_count": null,
   "id": "b37284ae",
   "metadata": {},
   "outputs": [],
   "source": []
  }
 ],
 "metadata": {
  "kernelspec": {
   "display_name": "Python 3 (ipykernel)",
   "language": "python",
   "name": "python3"
  },
  "language_info": {
   "codemirror_mode": {
    "name": "ipython",
    "version": 3
   },
   "file_extension": ".py",
   "mimetype": "text/x-python",
   "name": "python",
   "nbconvert_exporter": "python",
   "pygments_lexer": "ipython3",
   "version": "3.8.10"
  },
  "varInspector": {
   "cols": {
    "lenName": 16,
    "lenType": 16,
    "lenVar": 40
   },
   "kernels_config": {
    "python": {
     "delete_cmd_postfix": "",
     "delete_cmd_prefix": "del ",
     "library": "var_list.py",
     "varRefreshCmd": "print(var_dic_list())"
    },
    "r": {
     "delete_cmd_postfix": ") ",
     "delete_cmd_prefix": "rm(",
     "library": "var_list.r",
     "varRefreshCmd": "cat(var_dic_list()) "
    }
   },
   "types_to_exclude": [
    "module",
    "function",
    "builtin_function_or_method",
    "instance",
    "_Feature"
   ],
   "window_display": false
  }
 },
 "nbformat": 4,
 "nbformat_minor": 5
}
