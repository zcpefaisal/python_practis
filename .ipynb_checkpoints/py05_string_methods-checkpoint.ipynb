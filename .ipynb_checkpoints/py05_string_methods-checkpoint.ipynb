{
 "cells": [
  {
   "cell_type": "code",
   "execution_count": 7,
   "id": "8477fcb6",
   "metadata": {},
   "outputs": [
    {
     "name": "stdout",
     "output_type": "stream",
     "text": [
      "31 is my age\n"
     ]
    }
   ],
   "source": [
    "# Note: All string methods return new values. Do not change the original string\n",
    "# txt = \"hello, And welcome to my world. this is test\"\n",
    "# txt = '31 is my age'\n",
    "a = txt.capitalize() # The first character is converted to upper case, and the rest are converted to lower case:\n",
    "print(a)\n"
   ]
  },
  {
   "cell_type": "code",
   "execution_count": 9,
   "id": "cef2244d",
   "metadata": {},
   "outputs": [
    {
     "name": "stdout",
     "output_type": "stream",
     "text": [
      "hello, and welcome to my world!\n"
     ]
    }
   ],
   "source": [
    "txt = \"Hello, And Welcome To My World!\"\n",
    "a = txt.casefold() # casefold() is similar to the lower(). but casefold() method is stronger, more aggressive meaning that it will convert more characters into lower case, and will find more matches when comparing two strings and both are converted using the casefold() method.\n",
    "print(a)"
   ]
  },
  {
   "cell_type": "code",
   "execution_count": 13,
   "id": "e88c6ba5",
   "metadata": {},
   "outputs": [
    {
     "name": "stdout",
     "output_type": "stream",
     "text": [
      "       faisal       \n"
     ]
    }
   ],
   "source": [
    "txt = \"faisal\"\n",
    "a = txt.center(20) # Print the word \"faisal\", taking up the space of 20 characters, with \"faisal\" in the middle\n",
    "print(a)"
   ]
  },
  {
   "cell_type": "code",
   "execution_count": 14,
   "id": "6ea222e5",
   "metadata": {},
   "outputs": [
    {
     "name": "stdout",
     "output_type": "stream",
     "text": [
      "*******faisal*******\n"
     ]
    }
   ],
   "source": [
    "b = txt.center(20, '*') # paramater (length, character)\n",
    "# length = Required. The length of the returned string\n",
    "# character = Optional. The character to fill the missing space on each side. Default is \" \" (space)\n",
    "\n",
    "print(b)"
   ]
  },
  {
   "cell_type": "code",
   "execution_count": 21,
   "id": "cd27d351",
   "metadata": {},
   "outputs": [
    {
     "name": "stdout",
     "output_type": "stream",
     "text": [
      "3\n"
     ]
    }
   ],
   "source": [
    "# Return the number of times the value \"search string\" appears in the string:\n",
    "txt = \"I love mango, mango is my favorite fruit\"\n",
    "a = txt.count('m', 0, 25) # txt.count('search string', (opt)start position, (opt)end position)\n",
    "print(a)"
   ]
  },
  {
   "cell_type": "code",
   "execution_count": null,
   "id": "c9c450d2",
   "metadata": {},
   "outputs": [],
   "source": []
  }
 ],
 "metadata": {
  "kernelspec": {
   "display_name": "Python 3 (ipykernel)",
   "language": "python",
   "name": "python3"
  },
  "language_info": {
   "codemirror_mode": {
    "name": "ipython",
    "version": 3
   },
   "file_extension": ".py",
   "mimetype": "text/x-python",
   "name": "python",
   "nbconvert_exporter": "python",
   "pygments_lexer": "ipython3",
   "version": "3.8.10"
  }
 },
 "nbformat": 4,
 "nbformat_minor": 5
}
