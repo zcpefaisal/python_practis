{
 "cells": [
  {
   "cell_type": "code",
   "execution_count": 1,
   "id": "979cd545",
   "metadata": {},
   "outputs": [],
   "source": [
    "# Built-in data type\n",
    "# text type  = str\n",
    "# numeric type = int, float, complex, \n",
    "# sequence type = list, tuple, range,\n",
    "# mapping type = dict, \n",
    "# set type = set, frozenset, \n",
    "# boolean type = bool, \n",
    "# binary type = bytes, bytearray, memoryview, \n",
    "# None type = NoneType"
   ]
  },
  {
   "cell_type": "code",
   "execution_count": 2,
   "id": "42e1a978",
   "metadata": {},
   "outputs": [
    {
     "name": "stdout",
     "output_type": "stream",
     "text": [
      "<class 'int'>\n"
     ]
    }
   ],
   "source": [
    "x = 5\n",
    "print(type(x))"
   ]
  },
  {
   "cell_type": "code",
   "execution_count": 22,
   "id": "3f8db07a",
   "metadata": {},
   "outputs": [
    {
     "name": "stdout",
     "output_type": "stream",
     "text": [
      "<class 'NoneType'>\n"
     ]
    }
   ],
   "source": [
    "# Example\n",
    "x = 'Faisal Alam'  # <class 'str'>\n",
    "x = 10 # <class 'int'>\n",
    "x = 10.5 # <class 'float'>\n",
    "x = 4j # <class 'complex'>\n",
    "x = [\"apple\", \"orange\", \"banana\"] # <class 'list'>\n",
    "x = (\"apple\", \"orange\", \"banana\") # <class 'tuple'>\n",
    "x = range(5) # class 'range'>\n",
    "x = {\"name\": \"Faisal\", \"Age\": 30} # <class 'dict'>\n",
    "x = {\"Python\", \"Java Script\", \"PHP\"} # <class 'set'>\n",
    "x = frozenset({\"Java\", \"Go\"}) # <class 'frozenset'>\n",
    "x = True # <class 'bool'>\n",
    "x = b'hello' # <class 'bytes'>\n",
    "x = bytearray(5) # <class 'bytearray'>\n",
    "x = memoryview(bytes(5)) # <class 'memoryview'>\n",
    "x = None # <class 'NoneType'>\n",
    "\n",
    "\n",
    "print(type(x))"
   ]
  },
  {
   "cell_type": "code",
   "execution_count": 29,
   "id": "8b8562af",
   "metadata": {},
   "outputs": [
    {
     "name": "stdout",
     "output_type": "stream",
     "text": [
      "('apple', 'banana', 'orange')\n"
     ]
    }
   ],
   "source": [
    "# Setting the specific data type\n",
    "x = str('Hello Python')\n",
    "x = int(5)\n",
    "x = float(5.2)\n",
    "x = complex(1j)\n",
    "x = list(['apple', 'banana', 'orange'])\n",
    "x = tuple(('apple', 'banana', 'orange'))\n",
    "\n",
    "print(type(x))\n",
    "print(x)"
   ]
  },
  {
   "cell_type": "code",
   "execution_count": null,
   "id": "59b5bd63",
   "metadata": {},
   "outputs": [],
   "source": []
  }
 ],
 "metadata": {
  "kernelspec": {
   "display_name": "Python 3 (ipykernel)",
   "language": "python",
   "name": "python3"
  },
  "language_info": {
   "codemirror_mode": {
    "name": "ipython",
    "version": 3
   },
   "file_extension": ".py",
   "mimetype": "text/x-python",
   "name": "python",
   "nbconvert_exporter": "python",
   "pygments_lexer": "ipython3",
   "version": "3.8.10"
  }
 },
 "nbformat": 4,
 "nbformat_minor": 5
}
