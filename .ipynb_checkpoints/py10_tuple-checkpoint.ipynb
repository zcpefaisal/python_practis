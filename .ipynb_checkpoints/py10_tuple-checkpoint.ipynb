{
 "cells": [
  {
   "cell_type": "code",
   "execution_count": 1,
   "id": "5b093d21",
   "metadata": {},
   "outputs": [],
   "source": [
    "# Important note of Python Collections \n",
    "# ---------------------------------------\n",
    "# There are four collection data types in Python\n",
    "# * List is ordered and changeable. Allows duplicate members.\n",
    "# * Tuple is rdered and unchangeable. Allows duplicate members.\n",
    "# * Set is unordered, unchangeable*, and unindexed. No duplicate members.\n",
    "# * Dictionary is ordered** and changeable. No duplicate members.\n",
    "\n",
    "# Tuple items are ordered, unchangeable, and allow duplicate values.\n",
    "# Tuple items are indexed, the first item has index [0], the second item has index [1] etc\n",
    "# When we say that tuples are ordered, it means that the items have a defined order, and that order will not change.\n",
    "# Tuples are unchangeable, meaning that we cannot change, add or remove items after the tuple has been created.\n",
    "# *** Set items are unchangeable, but you can remove and/or add items whenever you like.\n",
    "# *** Python version 3.7, dictionaries are ordered. In Python 3.6 and earlier, dictionaries are unordered.\n",
    "\n",
    "# only Tuple is practic in the file"
   ]
  },
  {
   "cell_type": "code",
   "execution_count": 5,
   "id": "17ac4cb0",
   "metadata": {},
   "outputs": [
    {
     "name": "stdout",
     "output_type": "stream",
     "text": [
      "('apple', 'banana', 'cherry')\n"
     ]
    }
   ],
   "source": [
    "# A tuple is a collection which is ordered and unchangeable. Tuples are written with round brackets.\n",
    "thistuple = (\"apple\", \"banana\", \"cherry\")\n",
    "print(thistuple)"
   ]
  },
  {
   "cell_type": "code",
   "execution_count": 4,
   "id": "28c93715",
   "metadata": {},
   "outputs": [
    {
     "name": "stdout",
     "output_type": "stream",
     "text": [
      "('apple', 'banana', 'cherry', 'apple', 'cherry')\n"
     ]
    }
   ],
   "source": [
    "thistuple = (\"apple\", \"banana\", \"cherry\", \"apple\", \"cherry\")\n",
    "print(thistuple)"
   ]
  },
  {
   "cell_type": "code",
   "execution_count": 6,
   "id": "6b43d9ad",
   "metadata": {},
   "outputs": [
    {
     "name": "stdout",
     "output_type": "stream",
     "text": [
      "3\n"
     ]
    }
   ],
   "source": [
    "# number of items in the tuple:\n",
    "thistuple = (\"apple\", \"banana\", \"cherry\")\n",
    "print(len(thistuple))"
   ]
  },
  {
   "cell_type": "code",
   "execution_count": 7,
   "id": "18158e69",
   "metadata": {},
   "outputs": [
    {
     "name": "stdout",
     "output_type": "stream",
     "text": [
      "<class 'tuple'>\n",
      "<class 'str'>\n"
     ]
    }
   ],
   "source": [
    "# To create a tuple with only one item, you have to add a comma after the item, \n",
    "# otherwise Python will not recognize it as a tuple.\n",
    "thistuple = (\"apple\",)\n",
    "print(type(thistuple))\n",
    "\n",
    "#NOT a tuple\n",
    "thistuple = (\"apple\")\n",
    "print(type(thistuple))"
   ]
  },
  {
   "cell_type": "code",
   "execution_count": null,
   "id": "fa526793",
   "metadata": {},
   "outputs": [],
   "source": []
  }
 ],
 "metadata": {
  "kernelspec": {
   "display_name": "Python 3 (ipykernel)",
   "language": "python",
   "name": "python3"
  },
  "language_info": {
   "codemirror_mode": {
    "name": "ipython",
    "version": 3
   },
   "file_extension": ".py",
   "mimetype": "text/x-python",
   "name": "python",
   "nbconvert_exporter": "python",
   "pygments_lexer": "ipython3",
   "version": "3.8.10"
  },
  "varInspector": {
   "cols": {
    "lenName": 16,
    "lenType": 16,
    "lenVar": 40
   },
   "kernels_config": {
    "python": {
     "delete_cmd_postfix": "",
     "delete_cmd_prefix": "del ",
     "library": "var_list.py",
     "varRefreshCmd": "print(var_dic_list())"
    },
    "r": {
     "delete_cmd_postfix": ") ",
     "delete_cmd_prefix": "rm(",
     "library": "var_list.r",
     "varRefreshCmd": "cat(var_dic_list()) "
    }
   },
   "types_to_exclude": [
    "module",
    "function",
    "builtin_function_or_method",
    "instance",
    "_Feature"
   ],
   "window_display": false
  }
 },
 "nbformat": 4,
 "nbformat_minor": 5
}
