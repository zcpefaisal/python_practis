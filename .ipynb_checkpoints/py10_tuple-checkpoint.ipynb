{
 "cells": [
  {
   "cell_type": "code",
   "execution_count": 1,
   "id": "81631a89",
   "metadata": {},
   "outputs": [],
   "source": [
    "# Important note of Python Collections \n",
    "# ---------------------------------------\n",
    "# There are four collection data types in Python\n",
    "# * List is ordered and changeable. Allows duplicate members.\n",
    "# * Tuple is rdered and unchangeable. Allows duplicate members.\n",
    "# * Set is unordered, unchangeable*, and unindexed. No duplicate members.\n",
    "# * Dictionary is ordered** and changeable. No duplicate members.\n",
    "\n",
    "# Tuple items are ordered, unchangeable, and allow duplicate values.\n",
    "# Tuple items are indexed, the first item has index [0], the second item has index [1] etc\n",
    "# When we say that tuples are ordered, it means that the items have a defined order, and that order will not change.\n",
    "# Tuples are unchangeable, meaning that we cannot change, add or remove items after the tuple has been created.\n",
    "# *** Set items are unchangeable, but you can remove and/or add items whenever you like.\n",
    "# *** Python version 3.7, dictionaries are ordered. In Python 3.6 and earlier, dictionaries are unordered.\n",
    "\n",
    "# only Tuple is practic in the file"
   ]
  },
  {
   "cell_type": "code",
   "execution_count": 5,
   "id": "6a2d338e",
   "metadata": {},
   "outputs": [
    {
     "name": "stdout",
     "output_type": "stream",
     "text": [
      "('apple', 'banana', 'cherry')\n"
     ]
    }
   ],
   "source": [
    "# A tuple is a collection which is ordered and unchangeable. Tuples are written with round brackets.\n",
    "thistuple = (\"apple\", \"banana\", \"cherry\")\n",
    "print(thistuple)"
   ]
  },
  {
   "cell_type": "code",
   "execution_count": 4,
   "id": "30e1517f",
   "metadata": {},
   "outputs": [
    {
     "name": "stdout",
     "output_type": "stream",
     "text": [
      "('apple', 'banana', 'cherry', 'apple', 'cherry')\n"
     ]
    }
   ],
   "source": [
    "thistuple = (\"apple\", \"banana\", \"cherry\", \"apple\", \"cherry\")\n",
    "print(thistuple)"
   ]
  },
  {
   "cell_type": "code",
   "execution_count": 6,
   "id": "b7bae1f9",
   "metadata": {},
   "outputs": [
    {
     "name": "stdout",
     "output_type": "stream",
     "text": [
      "3\n"
     ]
    }
   ],
   "source": [
    "# number of items in the tuple:\n",
    "thistuple = (\"apple\", \"banana\", \"cherry\")\n",
    "print(len(thistuple))"
   ]
  },
  {
   "cell_type": "code",
   "execution_count": 8,
   "id": "44066161",
   "metadata": {},
   "outputs": [
    {
     "name": "stdout",
     "output_type": "stream",
     "text": [
      "<class 'tuple'>\n",
      "<class 'str'>\n"
     ]
    }
   ],
   "source": [
    "# To create a tuple with only one item, you have to add a comma after the item, \n",
    "# otherwise Python will not recognize it as a tuple.\n",
    "thistuple = (\"apple\",) # <class 'tuple'>\n",
    "print(type(thistuple))\n",
    "\n",
    "#NOT a tuple\n",
    "thistuple = (\"apple\") # <class 'str'>\n",
    "print(type(thistuple))"
   ]
  },
  {
   "cell_type": "code",
   "execution_count": 12,
   "id": "fe299e0d",
   "metadata": {},
   "outputs": [
    {
     "name": "stdout",
     "output_type": "stream",
     "text": [
      "<class 'tuple'>\n",
      "<class 'tuple'>\n",
      "<class 'tuple'>\n",
      "<class 'tuple'>\n"
     ]
    }
   ],
   "source": [
    "# Tuple items can be of any data type (String, int and boolean data types): \n",
    "tuple1 = (\"apple\", \"banana\", \"cherry\")\n",
    "tuple2 = (1, 5, 7, 9, 3)\n",
    "tuple3 = (True, False, False)\n",
    "tuple4 = (\"abc\", 34, True, 40, \"male\")\n",
    "print(type(tuple1))\n",
    "print(type(tuple2))\n",
    "print(type(tuple3))\n",
    "print(type(tuple4))"
   ]
  },
  {
   "cell_type": "code",
   "execution_count": 15,
   "id": "42123748",
   "metadata": {},
   "outputs": [
    {
     "name": "stdout",
     "output_type": "stream",
     "text": [
      "<class 'tuple'>\n",
      "('apple', 'banana', 'cherry')\n"
     ]
    }
   ],
   "source": [
    "# It is also possible to use the tuple() constructor to make a tuple.\n",
    "thistuple = tuple((\"apple\", \"banana\", \"cherry\"))\n",
    "print(type(thistuple))\n",
    "print(thistuple)"
   ]
  },
  {
   "cell_type": "code",
   "execution_count": 17,
   "id": "f56a577d",
   "metadata": {},
   "outputs": [
    {
     "name": "stdout",
     "output_type": "stream",
     "text": [
      "apple\n",
      "banana\n",
      "cherry\n",
      "cherry\n",
      "banana\n"
     ]
    }
   ],
   "source": [
    "print(thistuple[0])\n",
    "print(thistuple[1])\n",
    "print(thistuple[2])\n",
    "print(thistuple[-1])\n",
    "print(thistuple[-2])"
   ]
  },
  {
   "cell_type": "code",
   "execution_count": 21,
   "id": "cd55b5f0",
   "metadata": {},
   "outputs": [
    {
     "name": "stdout",
     "output_type": "stream",
     "text": [
      "('cherry', 'orange', 'kiwi')\n",
      "('apple', 'banana', 'cherry', 'orange')\n",
      "('cherry', 'orange', 'kiwi', 'melon', 'mango')\n"
     ]
    }
   ],
   "source": [
    "thistuple = (\"apple\", \"banana\", \"cherry\", \"orange\", \"kiwi\", \"melon\", \"mango\")\n",
    "print(thistuple[2:5]) # ('cherry', 'orange', 'kiwi')\n",
    "print(thistuple[:4]) # ('apple', 'banana', 'cherry', 'orange')\n",
    "print(thistuple[2:]) # ('cherry', 'orange', 'kiwi', 'melon', 'mango')"
   ]
  },
  {
   "cell_type": "code",
   "execution_count": 23,
   "id": "6f5323a9",
   "metadata": {},
   "outputs": [
    {
     "name": "stdout",
     "output_type": "stream",
     "text": [
      "('apple', 'kiwi', 'cherry')\n"
     ]
    }
   ],
   "source": [
    "# Once a tuple is created, you cannot change its values. Tuples are unchangeable, or immutable as it also is called.\n",
    "# But there is a workaround. You can convert the tuple into a list, change the list, and convert the list back into a tuple.\n",
    "x = (\"apple\", \"banana\", \"cherry\")\n",
    "y = list(x) # Convert the tuple into a list\n",
    "y[1] = \"kiwi\" # Change list value\n",
    "x = tuple(y) # Convert the list into a tuple here again\n",
    "print(x)"
   ]
  },
  {
   "cell_type": "code",
   "execution_count": 27,
   "id": "3645ef3c",
   "metadata": {},
   "outputs": [
    {
     "name": "stdout",
     "output_type": "stream",
     "text": [
      "('apple', 'banana', 'cherry', 'orange')\n",
      "<class 'tuple'>\n",
      "('apple', 'banana', 'cherry', 'orange')\n"
     ]
    }
   ],
   "source": [
    "# Since tuples are immutable, they do not have a build-in append() method, but there are other ways to add items to a tuple.\n",
    "thistuple = (\"apple\", \"banana\", \"cherry\")\n",
    "x = list(thistuple)\n",
    "x.append('orange')\n",
    "thistuple = tuple(x)\n",
    "print(thistuple)\n",
    "print(type(thistuple))\n",
    "\n",
    "# another way to append value in tuple\n",
    "thistuple = (\"apple\", \"banana\", \"cherry\")\n",
    "y = (\"orange\", )\n",
    "thistuple += y\n",
    "print(thistuple)"
   ]
  },
  {
   "cell_type": "code",
   "execution_count": 29,
   "id": "3ea29cf6",
   "metadata": {},
   "outputs": [
    {
     "name": "stdout",
     "output_type": "stream",
     "text": [
      "('apple', 'cherry')\n"
     ]
    }
   ],
   "source": [
    "# Note: You cannot remove items in a tuple.\n",
    "# Convert the tuple into a list, remove \"item\", and convert it back into a tuple:\n",
    "thistuple = (\"apple\", \"banana\", \"cherry\")\n",
    "y = list(thistuple)\n",
    "y.remove('banana')\n",
    "thistuple = tuple(y)\n",
    "print(thistuple)"
   ]
  },
  {
   "cell_type": "code",
   "execution_count": null,
   "id": "7a8a1a62",
   "metadata": {},
   "outputs": [],
   "source": [
    "# del keyword can delete the tuple completely:\n",
    "thistuple = (\"apple\", \"banana\", \"cherry\")\n",
    "del thistuple\n",
    "# print(thistuple) #this will raise an error because the tuple no longer exists"
   ]
  },
  {
   "cell_type": "code",
   "execution_count": 31,
   "id": "2b30b32b",
   "metadata": {},
   "outputs": [
    {
     "name": "stdout",
     "output_type": "stream",
     "text": [
      "apple\n",
      "banana\n",
      "cherry\n"
     ]
    }
   ],
   "source": [
    "# Unpacking a tuple:\n",
    "# When we create a tuple, we normally assign values to it. This is called \"packing\" a tuple:\n",
    "fruits = (\"apple\", \"banana\", \"cherry\")\n",
    "(green, yellow, red) = fruits\n",
    "print(green)\n",
    "print(yellow)\n",
    "print(red)\n"
   ]
  },
  {
   "cell_type": "code",
   "execution_count": 34,
   "id": "023386f9",
   "metadata": {},
   "outputs": [
    {
     "name": "stdout",
     "output_type": "stream",
     "text": [
      "apple\n",
      "banana\n",
      "['cherry', 'strawberry', 'raspberry']\n"
     ]
    }
   ],
   "source": [
    "# Using Asterisk*\n",
    "# If the number of variables is less than the number of values, you can add an * to the variable name and the values will be assigned to the variable as a list:\n",
    "fruits = (\"apple\", \"banana\", \"cherry\", \"strawberry\", \"raspberry\")\n",
    "# Assign the rest of the values as a list called \"red\":\n",
    "(green, yellow, *red) = fruits\n",
    "print(green)\n",
    "print(yellow)\n",
    "print(red)"
   ]
  },
  {
   "cell_type": "code",
   "execution_count": 36,
   "id": "3df2e144",
   "metadata": {},
   "outputs": [
    {
     "name": "stdout",
     "output_type": "stream",
     "text": [
      "apple\n",
      "['banana', 'cherry', 'strawberry']\n",
      "raspberry\n"
     ]
    }
   ],
   "source": [
    "# If the asterisk is added to another variable name than the last, Python will assign values to the variable until the number of values left matches the number of variables left.\n",
    "fruits = (\"apple\", \"banana\", \"cherry\", \"strawberry\", \"raspberry\")\n",
    "(green, *yellow, red) = fruits\n",
    "print(green)\n",
    "print(yellow)\n",
    "print(red)"
   ]
  },
  {
   "cell_type": "code",
   "execution_count": 37,
   "id": "bcae5046",
   "metadata": {},
   "outputs": [
    {
     "name": "stdout",
     "output_type": "stream",
     "text": [
      "apple\n",
      "banana\n",
      "cherry\n"
     ]
    }
   ],
   "source": [
    "thistuple = (\"apple\", \"banana\", \"cherry\")\n",
    "for item in thistuple:\n",
    "    print(item)"
   ]
  },
  {
   "cell_type": "code",
   "execution_count": 38,
   "id": "a8436c39",
   "metadata": {},
   "outputs": [
    {
     "name": "stdout",
     "output_type": "stream",
     "text": [
      "apple\n",
      "banana\n",
      "cherry\n"
     ]
    }
   ],
   "source": [
    "thistuple = (\"apple\", \"banana\", \"cherry\")\n",
    "for i in range(len(thistuple)):\n",
    "    print(thistuple)"
   ]
  },
  {
   "cell_type": "code",
   "execution_count": 40,
   "id": "95f202c4",
   "metadata": {},
   "outputs": [
    {
     "name": "stdout",
     "output_type": "stream",
     "text": [
      "apple\n",
      "banana\n",
      "cherry\n"
     ]
    }
   ],
   "source": [
    "thistuple = (\"apple\", \"banana\", \"cherry\")\n",
    "i = 0\n",
    "while i < len(thistuple):\n",
    "    print(thistuple[i])\n",
    "    i += 1"
   ]
  },
  {
   "cell_type": "code",
   "execution_count": 43,
   "id": "95939ab6",
   "metadata": {},
   "outputs": [
    {
     "name": "stdout",
     "output_type": "stream",
     "text": [
      "('a', 'b', 'c', 1, 2, 3)\n"
     ]
    }
   ],
   "source": [
    "# To join two or more tuples you can use the + operator:\n",
    "tuple1 = (\"a\", \"b\" , \"c\")\n",
    "tuple2 = (1, 2, 3)\n",
    "tuple3 = tuple1 + tuple2\n",
    "print(tuple3)"
   ]
  },
  {
   "cell_type": "code",
   "execution_count": 44,
   "id": "48b355ba",
   "metadata": {},
   "outputs": [
    {
     "name": "stdout",
     "output_type": "stream",
     "text": [
      "('apple', 'banana', 'cherry', 'apple', 'banana', 'cherry')\n"
     ]
    }
   ],
   "source": [
    "# If you want to multiply the content of a tuple a given number of times, you can use the * operator:\n",
    "fruits = (\"apple\", \"banana\", \"cherry\")\n",
    "mytuple = fruits * 2\n",
    "print(mytuple)"
   ]
  },
  {
   "cell_type": "code",
   "execution_count": 45,
   "id": "a36dcd34",
   "metadata": {},
   "outputs": [
    {
     "name": "stdout",
     "output_type": "stream",
     "text": [
      "(10, 54, 12, 45, 10, 54, 12, 45)\n"
     ]
    }
   ],
   "source": [
    "fruits = (10,54,12,45)\n",
    "mytuple = fruits * 2\n",
    "print(mytuple)"
   ]
  },
  {
   "cell_type": "code",
   "execution_count": 47,
   "id": "0a49591b",
   "metadata": {},
   "outputs": [
    {
     "name": "stdout",
     "output_type": "stream",
     "text": [
      "2\n"
     ]
    }
   ],
   "source": [
    "# Return the number of times the value 5 appears in the tuple:\n",
    "thistuple = (1, 3, 7, 8, 7, 5, 4, 6, 8, 5)\n",
    "print(thistuple.count(5))"
   ]
  },
  {
   "cell_type": "code",
   "execution_count": 50,
   "id": "45277908",
   "metadata": {},
   "outputs": [
    {
     "name": "stdout",
     "output_type": "stream",
     "text": [
      "7\n"
     ]
    }
   ],
   "source": [
    "# Search for the first occurrence of the value, and return its position:\n",
    "thistuple = (1, 3, 7, 8, 7, 5, 4, 6, 8, 5)\n",
    "print(thistuple.index(6))"
   ]
  },
  {
   "cell_type": "code",
   "execution_count": null,
   "id": "b2d1d113",
   "metadata": {},
   "outputs": [],
   "source": []
  }
 ],
 "metadata": {
  "kernelspec": {
   "display_name": "Python 3 (ipykernel)",
   "language": "python",
   "name": "python3"
  },
  "language_info": {
   "codemirror_mode": {
    "name": "ipython",
    "version": 3
   },
   "file_extension": ".py",
   "mimetype": "text/x-python",
   "name": "python",
   "nbconvert_exporter": "python",
   "pygments_lexer": "ipython3",
   "version": "3.8.10"
  },
  "varInspector": {
   "cols": {
    "lenName": 16,
    "lenType": 16,
    "lenVar": 40
   },
   "kernels_config": {
    "python": {
     "delete_cmd_postfix": "",
     "delete_cmd_prefix": "del ",
     "library": "var_list.py",
     "varRefreshCmd": "print(var_dic_list())"
    },
    "r": {
     "delete_cmd_postfix": ") ",
     "delete_cmd_prefix": "rm(",
     "library": "var_list.r",
     "varRefreshCmd": "cat(var_dic_list()) "
    }
   },
   "types_to_exclude": [
    "module",
    "function",
    "builtin_function_or_method",
    "instance",
    "_Feature"
   ],
   "window_display": false
  }
 },
 "nbformat": 4,
 "nbformat_minor": 5
}
