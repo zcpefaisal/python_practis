{
 "cells": [
  {
   "cell_type": "code",
   "execution_count": 5,
   "id": "eeedeb93",
   "metadata": {},
   "outputs": [
    {
     "data": {
      "text/plain": [
       "15"
      ]
     },
     "execution_count": 5,
     "metadata": {},
     "output_type": "execute_result"
    }
   ],
   "source": [
    "# Python has a set of built-in math functions, including an extensive math module, that allows you to perform mathematical tasks on numbers.\n",
    "\n",
    "# The min() and max() functions can be used to find the lowest or highest value in an iterable:\n",
    "min(10,15,12) # 10\n",
    "max(10,15,12) # 15\n"
   ]
  },
  {
   "cell_type": "code",
   "execution_count": 16,
   "id": "973bd549",
   "metadata": {},
   "outputs": [
    {
     "name": "stdout",
     "output_type": "stream",
     "text": [
      "15\n",
      "5.6\n",
      "8\n"
     ]
    }
   ],
   "source": [
    "# The abs() function returns the absolute (positive) value of the specified number:\n",
    "print(abs(-15)) # 15\n",
    "print(abs(-5.6)) # 15\n",
    "print(abs(-2**3)) # 8"
   ]
  },
  {
   "cell_type": "code",
   "execution_count": 17,
   "id": "d8f4dab2",
   "metadata": {},
   "outputs": [
    {
     "name": "stdout",
     "output_type": "stream",
     "text": [
      "8\n"
     ]
    }
   ],
   "source": [
    "# The pow(x, y) function returns the value of x to the power of y (xy).\n",
    "print(pow(2,3))"
   ]
  },
  {
   "cell_type": "code",
   "execution_count": null,
   "id": "e7899ffb",
   "metadata": {},
   "outputs": [],
   "source": [
    "# Math Module\n",
    "# Python has also a built-in module called math, which extends the list of mathematical functions.\n",
    "# To use it, you must import the math module:"
   ]
  }
 ],
 "metadata": {
  "kernelspec": {
   "display_name": "Python 3 (ipykernel)",
   "language": "python",
   "name": "python3"
  },
  "language_info": {
   "codemirror_mode": {
    "name": "ipython",
    "version": 3
   },
   "file_extension": ".py",
   "mimetype": "text/x-python",
   "name": "python",
   "nbconvert_exporter": "python",
   "pygments_lexer": "ipython3",
   "version": "3.8.10"
  },
  "varInspector": {
   "cols": {
    "lenName": 16,
    "lenType": 16,
    "lenVar": 40
   },
   "kernels_config": {
    "python": {
     "delete_cmd_postfix": "",
     "delete_cmd_prefix": "del ",
     "library": "var_list.py",
     "varRefreshCmd": "print(var_dic_list())"
    },
    "r": {
     "delete_cmd_postfix": ") ",
     "delete_cmd_prefix": "rm(",
     "library": "var_list.r",
     "varRefreshCmd": "cat(var_dic_list()) "
    }
   },
   "types_to_exclude": [
    "module",
    "function",
    "builtin_function_or_method",
    "instance",
    "_Feature"
   ],
   "window_display": false
  }
 },
 "nbformat": 4,
 "nbformat_minor": 5
}
