{
 "cells": [
  {
   "cell_type": "code",
   "execution_count": 4,
   "id": "14dd809f",
   "metadata": {},
   "outputs": [
    {
     "name": "stdout",
     "output_type": "stream",
     "text": [
      "a is gretter\n"
     ]
    }
   ],
   "source": [
    "a = 330\n",
    "b = 200\n",
    "# basic if else condition\n",
    "if a > b:\n",
    "    print('a is gretter')\n",
    "else:\n",
    "    print(\"b is gretter\")"
   ]
  },
  {
   "cell_type": "code",
   "execution_count": 16,
   "id": "7104d665",
   "metadata": {},
   "outputs": [
    {
     "name": "stdout",
     "output_type": "stream",
     "text": [
      "b is gretter\n"
     ]
    }
   ],
   "source": [
    "a = 30\n",
    "b = 33\n",
    "if a > b:\n",
    "    print('a is getter')\n",
    "elif a == b:\n",
    "    print('a and b is equal')\n",
    "else:\n",
    "    print('b is gretter')"
   ]
  },
  {
   "cell_type": "code",
   "execution_count": 14,
   "id": "f68b8e01",
   "metadata": {},
   "outputs": [
    {
     "name": "stdout",
     "output_type": "stream",
     "text": [
      "a is gretter then b\n"
     ]
    }
   ],
   "source": [
    "# one line if statement\n",
    "# This technique is known as Ternary Operators, or Conditional Expressions\n",
    "if a > b : print('a is gretter then b')"
   ]
  },
  {
   "cell_type": "code",
   "execution_count": 18,
   "id": "7bec44aa",
   "metadata": {},
   "outputs": [
    {
     "name": "stdout",
     "output_type": "stream",
     "text": [
      "b is gretter\n"
     ]
    }
   ],
   "source": [
    "# one line if else statement\n",
    "# This technique is known as Ternary Operators, or Conditional Expressions\n",
    "print('a is gretter') if a > b else print('b is gretter')"
   ]
  },
  {
   "cell_type": "code",
   "execution_count": 23,
   "id": "6f0e1f2d",
   "metadata": {},
   "outputs": [
    {
     "name": "stdout",
     "output_type": "stream",
     "text": [
      "a equal to b\n"
     ]
    }
   ],
   "source": [
    "# One line if else statement, with 3 conditions:\n",
    "a = 302\n",
    "b = 302\n",
    "print(\"a is gretter\") if a > b else print('a equal to b') if a == b else print('b is gretter')"
   ]
  }
 ],
 "metadata": {
  "kernelspec": {
   "display_name": "Python 3 (ipykernel)",
   "language": "python",
   "name": "python3"
  },
  "language_info": {
   "codemirror_mode": {
    "name": "ipython",
    "version": 3
   },
   "file_extension": ".py",
   "mimetype": "text/x-python",
   "name": "python",
   "nbconvert_exporter": "python",
   "pygments_lexer": "ipython3",
   "version": "3.8.10"
  },
  "varInspector": {
   "cols": {
    "lenName": 16,
    "lenType": 16,
    "lenVar": 40
   },
   "kernels_config": {
    "python": {
     "delete_cmd_postfix": "",
     "delete_cmd_prefix": "del ",
     "library": "var_list.py",
     "varRefreshCmd": "print(var_dic_list())"
    },
    "r": {
     "delete_cmd_postfix": ") ",
     "delete_cmd_prefix": "rm(",
     "library": "var_list.r",
     "varRefreshCmd": "cat(var_dic_list()) "
    }
   },
   "types_to_exclude": [
    "module",
    "function",
    "builtin_function_or_method",
    "instance",
    "_Feature"
   ],
   "window_display": false
  }
 },
 "nbformat": 4,
 "nbformat_minor": 5
}
