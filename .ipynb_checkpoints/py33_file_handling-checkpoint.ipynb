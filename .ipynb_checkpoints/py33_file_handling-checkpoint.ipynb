{
 "cells": [
  {
   "cell_type": "code",
   "execution_count": 7,
   "id": "9e83bed8",
   "metadata": {},
   "outputs": [],
   "source": [
    "# File Handling\n",
    "# The key function for working with files in Python is the open() function.\n",
    "# The open() function takes two parameters; filename, and mode.\n",
    "# There are four different methods (modes) for opening a file:\n",
    "# \"r\" - Read - Default value. Opens a file for reading, error if the file does not exist\n",
    "# \"a\" - Append - Opens a file for appending, creates the file if it does not exist\n",
    "# \"w\" - Write - Opens a file for writing, creates the file if it does not exist\n",
    "# \"x\" - Create - Creates the specified file, returns an error if the file exists\n",
    "# In addition you can specify if the file should be handled as binary or text mode\n",
    "# \"t\" - Text - Default value. Text mode\n",
    "# \"b\" - Binary - Binary mode (e.g. images)\n",
    "f = open(\"demofile.txt\", \"x\") # create a text file name demofile"
   ]
  },
  {
   "cell_type": "code",
   "execution_count": 8,
   "id": "d01eca75",
   "metadata": {},
   "outputs": [],
   "source": [
    "f = open(\"demofile.txt\") \n",
    "# f = open(\"demofile.txt\", \"rt\") # both are same Because \"r\" for read, and \"t\" for text are the default values, you do not need to specify them."
   ]
  },
  {
   "cell_type": "code",
   "execution_count": 9,
   "id": "f634ce1f",
   "metadata": {},
   "outputs": [
    {
     "name": "stdout",
     "output_type": "stream",
     "text": [
      "<_io.TextIOWrapper name='demofile.txt' mode='r' encoding='UTF-8'>\n"
     ]
    }
   ],
   "source": [
    "print(f)"
   ]
  },
  {
   "cell_type": "code",
   "execution_count": 11,
   "id": "03f121d5",
   "metadata": {},
   "outputs": [],
   "source": [
    "# To write to an existing file, you must add a parameter to the open() function:\n",
    "# \"a\" - Append - will append to the end of the file\n",
    "# \"w\" - Write - will overwrite any existing content\n",
    "f = open(\"demofile.txt\", 'a')\n",
    "f.write(\"Now the file has more content!\")\n",
    "f.close()"
   ]
  },
  {
   "cell_type": "code",
   "execution_count": 12,
   "id": "c4c6509d",
   "metadata": {},
   "outputs": [
    {
     "name": "stdout",
     "output_type": "stream",
     "text": [
      "Now the file has more content!Now the file has more content!\n"
     ]
    }
   ],
   "source": [
    "f =  open(\"demofile.txt\", \"r\")\n",
    "print(f.read())"
   ]
  },
  {
   "cell_type": "code",
   "execution_count": 13,
   "id": "7c1e4e5b",
   "metadata": {},
   "outputs": [],
   "source": [
    "f = open(\"demofile.txt\", \"w\")\n",
    "f.write(\"this is override test\")\n",
    "f.close()"
   ]
  },
  {
   "cell_type": "code",
   "execution_count": 14,
   "id": "2ae4b896",
   "metadata": {},
   "outputs": [
    {
     "name": "stdout",
     "output_type": "stream",
     "text": [
      "this is override test\n"
     ]
    }
   ],
   "source": [
    "f =  open(\"demofile.txt\", \"r\")\n",
    "print(f.read())"
   ]
  },
  {
   "cell_type": "code",
   "execution_count": 20,
   "id": "05a339d7",
   "metadata": {},
   "outputs": [
    {
     "name": "stdout",
     "output_type": "stream",
     "text": [
      "this is override test\n",
      "\n"
     ]
    }
   ],
   "source": [
    "# Create a New File\n",
    "# To create a new file in Python, use the open() method, with one of the following parameters:\n",
    "# \"x\" - Create - will create a file, returns an error if the file exist\n",
    "# \"a\" - Append - will create a file if the specified file does not exist\n",
    "# \"w\" - Write - will create a file if the specified file does not exist\n",
    "# f = open(\"myfile.txt\", \"x\")\n",
    "f = open(\"myfile.txt\", \"w\")\n",
    "f = open(\"myfile.txt\", \"w\")\n",
    "f.write(\"this is override test\")\n",
    "f.close()\n",
    "\n",
    "# You can return one line by using the readline() method:\n",
    "f = open(\"demofile.txt\", \"r\")\n",
    "print(f.readline()) # Read one line of the file:\n",
    "print(f.readline())"
   ]
  },
  {
   "cell_type": "code",
   "execution_count": 28,
   "id": "a24842fa",
   "metadata": {},
   "outputs": [
    {
     "name": "stdout",
     "output_type": "stream",
     "text": [
      "Lorem\n",
      "Lorem Ipsum is simply dummy text of the printing and typesetting industry.Lorem Ipsum has been the industry's standard dummy text ever since the 1500s,when an unknown printer took a galley of type and scrambled it to make a type specimen book.It has survived not only five centuries, but also the leap into electronic typesetting, remaining essentially unchanged.It was popularised in the 1960s with the release of Letraset sheets containing Lorem Ipsum passages, and more recently with desktop publishing software like Aldus PageMaker including versions of Lorem Ipsum.\n"
     ]
    }
   ],
   "source": [
    "# By default the read() method returns the whole text, but you can also specify how many characters you want to return:\n",
    "f = open(\"demofile.txt\", \"r\")\n",
    "print(f.read(5)) # Return the 5 first characters of the file: \n",
    "\n",
    "\n",
    "f = open(\"demofile.txt\", \"w\")\n",
    "f.write(\"Lorem Ipsum is simply dummy text of the printing and typesetting industry.\")\n",
    "f.write(\"Lorem Ipsum has been the industry's standard dummy text ever since the 1500s,\")\n",
    "f.write(\"when an unknown printer took a galley of type and scrambled it to make a type specimen book.\")\n",
    "f.write(\"It has survived not only five centuries, but also the leap into electronic typesetting, remaining essentially unchanged.\")\n",
    "f.write(\"It was popularised in the 1960s with the release of Letraset sheets containing Lorem Ipsum passages, and more recently with desktop publishing software like Aldus PageMaker including versions of Lorem Ipsum.\")\n",
    "f.close()\n",
    "\n",
    "\n",
    "# By looping through the lines of the file, you can read the whole file, line by line:\n",
    "f = open('demofile.txt', \"r\")\n",
    "for i in f:\n",
    "    print(i)"
   ]
  },
  {
   "cell_type": "code",
   "execution_count": 29,
   "id": "e7e462cd",
   "metadata": {},
   "outputs": [
    {
     "name": "stdout",
     "output_type": "stream",
     "text": [
      "Lorem Ipsum is simply dummy text of the printing and typesetting industry.Lorem Ipsum has been the industry's standard dummy text ever since the 1500s,when an unknown printer took a galley of type and scrambled it to make a type specimen book.It has survived not only five centuries, but also the leap into electronic typesetting, remaining essentially unchanged.It was popularised in the 1960s with the release of Letraset sheets containing Lorem Ipsum passages, and more recently with desktop publishing software like Aldus PageMaker including versions of Lorem Ipsum.\n"
     ]
    }
   ],
   "source": [
    "# Note: You should always close your files, in some cases, due to buffering, changes made to a file may not show until you close the file.\n",
    "f = open(\"demofile.txt\", \"r\")\n",
    "print(f.readline())\n",
    "f.close()"
   ]
  },
  {
   "cell_type": "code",
   "execution_count": 30,
   "id": "1054acf6",
   "metadata": {},
   "outputs": [],
   "source": [
    "# Delete a File\n",
    "# To delete a file, you must import the OS module, and run its os.remove() function:\n",
    "import os\n",
    "os.remove(\"demofile.txt\") # Remove the file \"demofile.txt\":\n",
    "\n"
   ]
  },
  {
   "cell_type": "code",
   "execution_count": 32,
   "id": "c7d55e93",
   "metadata": {},
   "outputs": [],
   "source": [
    "# Check if File exist:\n",
    "# To avoid getting an error, you might want to check if the file exists before you try to delete it:\n",
    "import os\n",
    "\n",
    "if os.path.exists(\"myfile.txt\"):\n",
    "    os.remove('myfile.txt')\n",
    "else:\n",
    "    print(\"this file dosenot exists\")"
   ]
  },
  {
   "cell_type": "code",
   "execution_count": 34,
   "id": "cf7bed21",
   "metadata": {},
   "outputs": [],
   "source": [
    "# To delete an entire folder, use the os.rmdir() method:\n",
    "import os\n",
    "os.rmdir(\"testfolder\") # Note: You can only remove empty folders.\n"
   ]
  },
  {
   "cell_type": "code",
   "execution_count": null,
   "id": "a7000c62",
   "metadata": {},
   "outputs": [],
   "source": []
  }
 ],
 "metadata": {
  "kernelspec": {
   "display_name": "Python 3 (ipykernel)",
   "language": "python",
   "name": "python3"
  },
  "language_info": {
   "codemirror_mode": {
    "name": "ipython",
    "version": 3
   },
   "file_extension": ".py",
   "mimetype": "text/x-python",
   "name": "python",
   "nbconvert_exporter": "python",
   "pygments_lexer": "ipython3",
   "version": "3.8.10"
  },
  "varInspector": {
   "cols": {
    "lenName": 16,
    "lenType": 16,
    "lenVar": 40
   },
   "kernels_config": {
    "python": {
     "delete_cmd_postfix": "",
     "delete_cmd_prefix": "del ",
     "library": "var_list.py",
     "varRefreshCmd": "print(var_dic_list())"
    },
    "r": {
     "delete_cmd_postfix": ") ",
     "delete_cmd_prefix": "rm(",
     "library": "var_list.r",
     "varRefreshCmd": "cat(var_dic_list()) "
    }
   },
   "types_to_exclude": [
    "module",
    "function",
    "builtin_function_or_method",
    "instance",
    "_Feature"
   ],
   "window_display": false
  }
 },
 "nbformat": 4,
 "nbformat_minor": 5
}
