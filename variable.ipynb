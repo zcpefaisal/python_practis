{
 "cells": [
  {
   "cell_type": "code",
   "execution_count": 2,
   "id": "4347305a",
   "metadata": {},
   "outputs": [
    {
     "name": "stdout",
     "output_type": "stream",
     "text": [
      "10\n"
     ]
    }
   ],
   "source": [
    "x=5\n",
    "y=5\n",
    "print(x+y)"
   ]
  },
  {
   "cell_type": "code",
   "execution_count": 4,
   "id": "89b3ef80",
   "metadata": {},
   "outputs": [],
   "source": [
    "# x=10\n",
    "# y=\"faisal\"\n",
    "# print(x+y) # error unsupported operand 'int' and 'str'"
   ]
  },
  {
   "cell_type": "code",
   "execution_count": 5,
   "id": "389a2b4e",
   "metadata": {
    "scrolled": true
   },
   "outputs": [
    {
     "name": "stdout",
     "output_type": "stream",
     "text": [
      "3 3 3.0\n"
     ]
    }
   ],
   "source": [
    "a = int(3)\n",
    "b = str(3)\n",
    "c = float(3)\n",
    "print(a,b,c)"
   ]
  },
  {
   "cell_type": "code",
   "execution_count": 6,
   "id": "6fa61373",
   "metadata": {},
   "outputs": [
    {
     "name": "stdout",
     "output_type": "stream",
     "text": [
      "<class 'int'>\n",
      "<class 'str'>\n",
      "<class 'float'>\n"
     ]
    }
   ],
   "source": [
    "print(type(a))\n",
    "print(type(b))\n",
    "print(type(c))"
   ]
  },
  {
   "cell_type": "code",
   "execution_count": 8,
   "id": "bd38b77e",
   "metadata": {},
   "outputs": [
    {
     "name": "stdout",
     "output_type": "stream",
     "text": [
      "faisal faisal\n"
     ]
    }
   ],
   "source": [
    "name1 = 'faisal'\n",
    "name2 = \"faisal\"\n",
    "print(name1, name2) # single and double cote both ar same"
   ]
  },
  {
   "cell_type": "code",
   "execution_count": 12,
   "id": "02b406ed",
   "metadata": {},
   "outputs": [
    {
     "name": "stdout",
     "output_type": "stream",
     "text": [
      "faisal\n",
      "alam\n"
     ]
    }
   ],
   "source": [
    "r = 'faisal'\n",
    "R = 'alam'\n",
    "print(r)\n",
    "print(R) # variable are case sensitive"
   ]
  },
  {
   "cell_type": "code",
   "execution_count": 14,
   "id": "96046c2d",
   "metadata": {},
   "outputs": [],
   "source": [
    "# variable naming convension\n",
    "var = 'faisal' # valid\n",
    "VAR = 'faisal' # valid\n",
    "_var = 'faisal' # valid\n",
    "var_iable = 'faisal' # valid\n",
    "var123 = 'faisal' # valid\n",
    "\n",
    "# 10var = 'faisal' # invalid\n",
    "# var-iable = 'faisal' # invalid\n",
    "# var iable = faisal # invalid\n",
    "\n",
    "myVariable = 'faisal' # camel case\n",
    "MyVariable = 'faisal' # pascal case\n",
    "my_variable = 'faisal' # snake case\n"
   ]
  },
  {
   "cell_type": "code",
   "execution_count": 16,
   "id": "c1900476",
   "metadata": {},
   "outputs": [
    {
     "name": "stdout",
     "output_type": "stream",
     "text": [
      "orange\n",
      "yellow\n",
      "green\n",
      "orange yellow green\n"
     ]
    }
   ],
   "source": [
    "# Python allows assign values to multiple variables in one line\n",
    "x, y, z = 'orange', 'yellow', 'green'\n",
    "print(x)\n",
    "print(y)\n",
    "print(z)\n",
    "print(x,y,z) # output multiple variable seperated by comma"
   ]
  },
  {
   "cell_type": "code",
   "execution_count": 20,
   "id": "5f378b7c",
   "metadata": {},
   "outputs": [
    {
     "name": "stdout",
     "output_type": "stream",
     "text": [
      "apple\n",
      "mango\n",
      "banana\n",
      "applemangobanana\n"
     ]
    }
   ],
   "source": [
    "# unpack collection\n",
    "fruits = ['apple', 'mango', 'banana']\n",
    "p,q,r = fruits # value unpacking into variable, must value and variable counting need to be equal other wise throw error (too many values to unpack)\n",
    "print(p)\n",
    "print(q)\n",
    "print(r)\n",
    "print(p + q + r) # also use the + operator to output multiple variables for the string value"
   ]
  },
  {
   "cell_type": "code",
   "execution_count": 21,
   "id": "10e13f26",
   "metadata": {},
   "outputs": [
    {
     "name": "stdout",
     "output_type": "stream",
     "text": [
      "25\n"
     ]
    }
   ],
   "source": [
    "g = 10\n",
    "h = 15\n",
    "print(g + h) # for number , + operator will be calculate both number sum"
   ]
  },
  {
   "cell_type": "code",
   "execution_count": 25,
   "id": "6ded024e",
   "metadata": {},
   "outputs": [
    {
     "name": "stdout",
     "output_type": "stream",
     "text": [
      "sonething\n",
      "sonething\n"
     ]
    }
   ],
   "source": [
    "# Global variable\n",
    "test = 'sonething'\n",
    "def myFunction():\n",
    "    print(test) #global variable available in side functiona and outside function\n",
    "\n",
    "myFunction()\n",
    "print(test)"
   ]
  },
  {
   "cell_type": "code",
   "execution_count": 27,
   "id": "685beb9b",
   "metadata": {},
   "outputs": [
    {
     "name": "stdout",
     "output_type": "stream",
     "text": [
      "something new\n",
      "something different\n"
     ]
    }
   ],
   "source": [
    "test2 = 'something different'\n",
    "def myFunction2():\n",
    "    test2 = 'something new' # overriding the global variable value\n",
    "    print(test2)\n",
    "    \n",
    "myFunction2()\n",
    "print(test2) # global value is showing, because local variable work only in local function scope"
   ]
  },
  {
   "cell_type": "code",
   "execution_count": 30,
   "id": "196dc0b5",
   "metadata": {},
   "outputs": [
    {
     "name": "stdout",
     "output_type": "stream",
     "text": [
      "updated glocal text form function\n",
      "updated glocal text form function\n"
     ]
    }
   ],
   "source": [
    "test3 = 'main text'\n",
    "def myFunction3():\n",
    "    global test3 # creating global scope variable form function local scope\n",
    "    test3 = 'updated glocal text form function' # global variable value overriding here\n",
    "    print(test3)\n",
    "\n",
    "myFunction3()\n",
    "print(test3)"
   ]
  },
  {
   "cell_type": "code",
   "execution_count": 32,
   "id": "f766cf5a",
   "metadata": {},
   "outputs": [
    {
     "name": "stdout",
     "output_type": "stream",
     "text": [
      "global value\n",
      "global value\n"
     ]
    }
   ],
   "source": [
    "def myFunction4():\n",
    "    global test4 # creating global scope variable\n",
    "    test4 = 'global value' #set global variable value'\n",
    "    print(test4)\n",
    "    \n",
    "myFunction4()\n",
    "print(test4) # global scope value showing which is created inside the function "
   ]
  },
  {
   "cell_type": "code",
   "execution_count": null,
   "id": "1623a964",
   "metadata": {},
   "outputs": [],
   "source": []
  }
 ],
 "metadata": {
  "kernelspec": {
   "display_name": "Python 3 (ipykernel)",
   "language": "python",
   "name": "python3"
  },
  "language_info": {
   "codemirror_mode": {
    "name": "ipython",
    "version": 3
   },
   "file_extension": ".py",
   "mimetype": "text/x-python",
   "name": "python",
   "nbconvert_exporter": "python",
   "pygments_lexer": "ipython3",
   "version": "3.8.10"
  }
 },
 "nbformat": 4,
 "nbformat_minor": 5
}
