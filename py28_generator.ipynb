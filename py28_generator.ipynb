{
 "cells": [
  {
   "cell_type": "code",
   "execution_count": 6,
   "id": "e528b24a",
   "metadata": {},
   "outputs": [
    {
     "name": "stdout",
     "output_type": "stream",
     "text": [
      "<generator object topten at 0x7f6cee81fa50>\n",
      "2\n"
     ]
    }
   ],
   "source": [
    "# Generator\n",
    "# generator and iterator almost similar\n",
    "# generator is given us iterator\n",
    "# function cannot give us iterator, function has to be sumthing special\n",
    "# generator is as like function, here is used a special keyword \"yield\", and yield as like return, but have some difference\n",
    "# yield is special keyword which keyword make a function as generator\n",
    "# return statement returns a value and terminates the whole function but \n",
    "# yield statement is responsible for controlling the flow of the generator function\n",
    "def topten():\n",
    "    \n",
    "    yield 2\n",
    "    \n",
    "    \n",
    "    \n",
    "values = topten()\n",
    "print(values)\n",
    "print(values.__next__())"
   ]
  },
  {
   "cell_type": "code",
   "execution_count": 9,
   "id": "7a93221b",
   "metadata": {},
   "outputs": [
    {
     "name": "stdout",
     "output_type": "stream",
     "text": [
      "<generator object topten at 0x7f6cee81fba0>\n",
      "first\n",
      "second\n"
     ]
    }
   ],
   "source": [
    "# Normal function contains only one return statement whereas generator function can contain one or more yield statement.\n",
    "# When the generator functions are called, the normal function is paused immediately and control transferred to the caller.\n",
    "# Local variable and their states are remembered between successive calls.\n",
    "# StopIteration exception is raised automatically when the function terminates.\n",
    "def topten():\n",
    "\n",
    "    yield 'first'\n",
    "    yield 'second'\n",
    "    yield 'third'\n",
    "    yield 'forth'\n",
    "    \n",
    "    \n",
    "    \n",
    "values = topten()\n",
    "print(values)\n",
    "print(values.__next__())\n",
    "print(values.__next__())"
   ]
  },
  {
   "cell_type": "code",
   "execution_count": 14,
   "id": "9e591bfa",
   "metadata": {},
   "outputs": [
    {
     "name": "stdout",
     "output_type": "stream",
     "text": [
      "<generator object topten at 0x7f6ced75e3c0>\n",
      "1\n",
      "4\n",
      "9\n",
      "16\n",
      "25\n"
     ]
    }
   ],
   "source": [
    "# Advantages of Generators\n",
    "# Generators are memory efficient for a large number of sequences.\n",
    "# The normal function returns a sequence of the list which creates an entire sequence in memory before returning the result, \n",
    "# but the generator function calculates the value and pause their execution. It resumes for successive call. \n",
    "# An infinite sequence generator is a great example of memory optimization\n",
    "def topten():\n",
    "\n",
    "    n = 1\n",
    "    while n <= 5:\n",
    "        sqr = n * n\n",
    "        yield sqr\n",
    "        n += 1\n",
    "    \n",
    "    \n",
    "values = topten()\n",
    "print(values)\n",
    "print(values.__next__())\n",
    "print(values.__next__())\n",
    "print(values.__next__())\n",
    "\n",
    "for i in values:\n",
    "    print(i)"
   ]
  },
  {
   "cell_type": "code",
   "execution_count": 22,
   "id": "ab223e56",
   "metadata": {},
   "outputs": [
    {
     "name": "stdout",
     "output_type": "stream",
     "text": [
      "[1, 4, 9, 16, 25, 36, 49]\n",
      "<generator object <genexpr> at 0x7f6ced70deb0>\n",
      "1\n",
      "4\n",
      "9\n"
     ]
    }
   ],
   "source": [
    "# List Comprehension\n",
    "list = [1,2,3,4,5,6,7]  \n",
    "x = [i**2 for i in list]\n",
    "print(x)\n",
    "\n",
    "# Generator expression  \n",
    "list = [1,2,3,4,5,6,7] \n",
    "y = (j**2 for j in list)\n",
    "print(y)\n",
    "print(next(y))  \n",
    "print(next(y))  \n",
    "print(next(y))  "
   ]
  },
  {
   "cell_type": "code",
   "execution_count": 26,
   "id": "03c8130f",
   "metadata": {},
   "outputs": [
    {
     "name": "stdout",
     "output_type": "stream",
     "text": [
      "87616\n",
      "112\n"
     ]
    }
   ],
   "source": [
    "# Memory efficient check of generator\n",
    "import sys\n",
    "\n",
    "sqr_list = [i**2 for i in range(10000)]\n",
    "print(sys.getsizeof(sqr_list))  # Memory in Bytes 87616\n",
    "\n",
    "gen_list = (i**2 for i in range(10000))\n",
    "print(sys.getsizeof(gen_list))  # Memory in Bytes 112"
   ]
  },
  {
   "cell_type": "code",
   "execution_count": 1,
   "id": "d4a279ba",
   "metadata": {},
   "outputs": [],
   "source": [
    "# The generator can produce infinite items. Infinite sequences cannot be contained within the memory and since generators produce only one item at a time,\n",
    "# def infinite_seq():\n",
    "#     num = 0\n",
    "#     while True:\n",
    "#         yield num\n",
    "#         num +=1\n",
    "        \n",
    "        \n",
    "# for i in infinite_seq():\n",
    "#     print(i)"
   ]
  },
  {
   "cell_type": "code",
   "execution_count": null,
   "id": "d72de3de",
   "metadata": {},
   "outputs": [],
   "source": []
  }
 ],
 "metadata": {
  "kernelspec": {
   "display_name": "Python 3 (ipykernel)",
   "language": "python",
   "name": "python3"
  },
  "language_info": {
   "codemirror_mode": {
    "name": "ipython",
    "version": 3
   },
   "file_extension": ".py",
   "mimetype": "text/x-python",
   "name": "python",
   "nbconvert_exporter": "python",
   "pygments_lexer": "ipython3",
   "version": "3.8.10"
  },
  "varInspector": {
   "cols": {
    "lenName": 16,
    "lenType": 16,
    "lenVar": 40
   },
   "kernels_config": {
    "python": {
     "delete_cmd_postfix": "",
     "delete_cmd_prefix": "del ",
     "library": "var_list.py",
     "varRefreshCmd": "print(var_dic_list())"
    },
    "r": {
     "delete_cmd_postfix": ") ",
     "delete_cmd_prefix": "rm(",
     "library": "var_list.r",
     "varRefreshCmd": "cat(var_dic_list()) "
    }
   },
   "types_to_exclude": [
    "module",
    "function",
    "builtin_function_or_method",
    "instance",
    "_Feature"
   ],
   "window_display": false
  }
 },
 "nbformat": 4,
 "nbformat_minor": 5
}
