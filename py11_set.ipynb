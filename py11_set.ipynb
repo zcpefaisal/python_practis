{
 "cells": [
  {
   "cell_type": "code",
   "execution_count": null,
   "id": "62f01a3f",
   "metadata": {},
   "outputs": [],
   "source": [
    "# Important note of Python Collections \n",
    "# ---------------------------------------\n",
    "# There are four collection data types in Python\n",
    "# * List is ordered and changeable. Allows duplicate members.\n",
    "# * Tuple is rdered and unchangeable. Allows duplicate members.\n",
    "# * Set is unordered, unchangeable*, and unindexed. No duplicate members.\n",
    "# * Dictionary is ordered** and changeable. No duplicate members.\n",
    "\n",
    "# A set is a collection which is unordered, unchangeable*, unindexed and do not allow duplicate values.\n",
    "# Set items are unchangeable, but you can remove items and add new items.\n",
    "# Sets are unordered, so you cannot be sure in which order the items will appear.\n",
    "# Set items can appear in a different order every time you use them, and cannot be referred to by index or key.\n",
    "# Once a set is created, you cannot change its items, but you can remove items and add new items.\n",
    "\n",
    "# *** Set items are unchangeable, but you can remove and/or add items whenever you like.\n",
    "# *** Python version 3.7, dictionaries are ordered. In Python 3.6 and earlier, dictionaries are unordered.\n",
    "\n",
    "# only Set is practic in the file"
   ]
  },
  {
   "cell_type": "code",
   "execution_count": 2,
   "id": "e2d0333c",
   "metadata": {},
   "outputs": [
    {
     "name": "stdout",
     "output_type": "stream",
     "text": [
      "<class 'set'>\n",
      "3\n"
     ]
    }
   ],
   "source": [
    "myset = {'apple', 'banana', 'cherry'}\n",
    "print(type(myset))\n",
    "print(len(myset))"
   ]
  },
  {
   "cell_type": "code",
   "execution_count": 5,
   "id": "85477a7f",
   "metadata": {},
   "outputs": [
    {
     "name": "stdout",
     "output_type": "stream",
     "text": [
      "<class 'set'>\n",
      "<class 'set'>\n",
      "<class 'set'>\n",
      "<class 'set'>\n"
     ]
    }
   ],
   "source": [
    "# String, int and boolean data types:\n",
    "set1 = {\"apple\", \"banana\", \"cherry\"}\n",
    "set2 = {1, 5, 7, 9, 3}\n",
    "set3 = {True, False, False}\n",
    "print(type(set1))\n",
    "print(type(set2))\n",
    "print(type(set3))\n",
    "# A set can contain different data types:\n",
    "set4 = {\"abc\", 34, True, 40, \"male\"}\n",
    "print(type(set4))"
   ]
  },
  {
   "cell_type": "code",
   "execution_count": 6,
   "id": "29be97c3",
   "metadata": {},
   "outputs": [
    {
     "name": "stdout",
     "output_type": "stream",
     "text": [
      "<class 'set'>\n"
     ]
    }
   ],
   "source": [
    "# Using the set() constructor to make a set:\n",
    "# note the double round-brackets\n",
    "thisset = set(('mango', 'banana', 'apple'))\n",
    "print(type(thisset))"
   ]
  },
  {
   "cell_type": "code",
   "execution_count": 8,
   "id": "a7afee1b",
   "metadata": {},
   "outputs": [
    {
     "name": "stdout",
     "output_type": "stream",
     "text": [
      "apple\n",
      "banana\n",
      "mango\n",
      "True\n"
     ]
    }
   ],
   "source": [
    "# You cannot access items in a set by referring to an index or a key.\n",
    "# But you can loop through the set items using a for loop, or ask if a specified value is present in a set, by using the in keyword.\n",
    "for item in thisset:\n",
    "    print(item)\n",
    "\n",
    "# Check if \"banana\" is present in the set:\n",
    "print(\"banana\" in thisset)"
   ]
  },
  {
   "cell_type": "code",
   "execution_count": 10,
   "id": "0f51c3ba",
   "metadata": {},
   "outputs": [
    {
     "name": "stdout",
     "output_type": "stream",
     "text": [
      "{'apple', 'banana', 'orange', 'mango'}\n"
     ]
    }
   ],
   "source": [
    "# To add one item to a set use the add() method.\n",
    "thisset = set(('mango', 'banana', 'apple'))\n",
    "thisset.add('orange')\n",
    "print(thisset)"
   ]
  },
  {
   "cell_type": "code",
   "execution_count": 13,
   "id": "f0c4d96c",
   "metadata": {},
   "outputs": [
    {
     "name": "stdout",
     "output_type": "stream",
     "text": [
      "{'banana', 'papaya', 'cherry', 'pineapple', 'mango', 'apple'}\n"
     ]
    }
   ],
   "source": [
    "# To add items from another set into the current set, use the update() method.\n",
    "thisset1 = {\"apple\", \"banana\", \"cherry\"}\n",
    "thisset2 = {\"pineapple\", \"mango\", \"papaya\"}\n",
    "thisset1.update(thisset2)\n",
    "print(thisset1)"
   ]
  },
  {
   "cell_type": "code",
   "execution_count": 14,
   "id": "813aada7",
   "metadata": {},
   "outputs": [
    {
     "name": "stdout",
     "output_type": "stream",
     "text": [
      "{'kiwi', 'cherry', 'banana', 'orange', 'apple'}\n"
     ]
    }
   ],
   "source": [
    "# update() method does not have to be a set, it can be any iterable object (tuples, lists, dictionaries etc.)\n",
    "thisset = {\"apple\", \"banana\", \"cherry\"}\n",
    "mylist = [\"kiwi\", \"orange\"]\n",
    "thisset.update(mylist)\n",
    "print(thisset)"
   ]
  },
  {
   "cell_type": "code",
   "execution_count": 16,
   "id": "7aa021ba",
   "metadata": {},
   "outputs": [
    {
     "name": "stdout",
     "output_type": "stream",
     "text": [
      "{'apple', 'cherry'}\n"
     ]
    }
   ],
   "source": [
    "# To remove an item in a set, use the remove(), or the discard() method.\n",
    "# Note: If the item to remove does not exist, remove() will raise an error.\n",
    "thisset = {\"apple\", \"banana\", \"cherry\"}\n",
    "thisset.remove('banana')\n",
    "print(thisset)"
   ]
  },
  {
   "cell_type": "code",
   "execution_count": 17,
   "id": "35111b54",
   "metadata": {},
   "outputs": [
    {
     "name": "stdout",
     "output_type": "stream",
     "text": [
      "{'apple', 'cherry'}\n"
     ]
    }
   ],
   "source": [
    "# Note: If the item to remove does not exist, discard() will NOT raise an error.\n",
    "thisset = {\"apple\", \"banana\", \"cherry\"}\n",
    "thisset.discard('banana')\n",
    "print(thisset)"
   ]
  },
  {
   "cell_type": "code",
   "execution_count": 20,
   "id": "777a954d",
   "metadata": {},
   "outputs": [
    {
     "name": "stdout",
     "output_type": "stream",
     "text": [
      "apple\n",
      "{'banana', 'cherry'}\n"
     ]
    }
   ],
   "source": [
    "# Remove the last item by using the pop() method:\n",
    "# Note: Sets are unordered, so when using the pop() method, you do not know which item that gets removed.\n",
    "thisset = {\"apple\", \"banana\", \"cherry\"}\n",
    "x = thisset.pop()\n",
    "print(x)\n",
    "print(thisset)"
   ]
  },
  {
   "cell_type": "code",
   "execution_count": 21,
   "id": "e3aae888",
   "metadata": {},
   "outputs": [
    {
     "name": "stdout",
     "output_type": "stream",
     "text": [
      "set()\n"
     ]
    }
   ],
   "source": [
    "# The clear() method empties the set:\n",
    "thisset = {\"apple\", \"banana\", \"cherry\"}\n",
    "thisset.clear()\n",
    "print(thisset)"
   ]
  },
  {
   "cell_type": "code",
   "execution_count": 23,
   "id": "d5b8d896",
   "metadata": {},
   "outputs": [],
   "source": [
    "# The del keyword will delete the set completely:\n",
    "thisset = {\"apple\", \"banana\", \"cherry\"}\n",
    "del thisset\n",
    "# print(thisset) # NameError: name 'thisset' is not defined"
   ]
  },
  {
   "cell_type": "code",
   "execution_count": 26,
   "id": "2650651d",
   "metadata": {},
   "outputs": [
    {
     "name": "stdout",
     "output_type": "stream",
     "text": [
      "{1, 'a', 'c', 2, 3, 'b'}\n"
     ]
    }
   ],
   "source": [
    "# Join Two Sets\n",
    "# There are several ways to join two or more sets in Python.\n",
    "# You can use the union() method that returns a new set containing all items from both sets, or the update() method that inserts all the items from one set into another:\n",
    "set1 = {\"a\", \"b\", \"c\"}\n",
    "set2 = {1, 2, 3}\n",
    "set3 = set1.union(set2)\n",
    "print(set3)"
   ]
  },
  {
   "cell_type": "code",
   "execution_count": 28,
   "id": "30d2e3d6",
   "metadata": {},
   "outputs": [
    {
     "name": "stdout",
     "output_type": "stream",
     "text": [
      "{1, 'a', 'c', 2, 3, 'b'}\n"
     ]
    }
   ],
   "source": [
    "# The update() method inserts the items in set2 into set1:\n",
    "set1 = {\"a\", \"b\", \"c\"}\n",
    "set2 = {1, 2, 3}\n",
    "set1.update(set2)\n",
    "print(set1)\n",
    "# Note: Both union() and update() will exclude any duplicate items."
   ]
  },
  {
   "cell_type": "code",
   "execution_count": 29,
   "id": "48f4f8b2",
   "metadata": {},
   "outputs": [
    {
     "name": "stdout",
     "output_type": "stream",
     "text": [
      "{'apple'}\n"
     ]
    }
   ],
   "source": [
    "# Keep ONLY the Duplicates\n",
    "# The intersection_update() method will keep only the items that are present in both sets.\n",
    "x = {\"apple\", \"banana\", \"cherry\"}\n",
    "y = {\"google\", \"microsoft\", \"apple\"}\n",
    "x.intersection_update(y)\n",
    "print(x)"
   ]
  },
  {
   "cell_type": "code",
   "execution_count": 32,
   "id": "e152f000",
   "metadata": {},
   "outputs": [
    {
     "name": "stdout",
     "output_type": "stream",
     "text": [
      "{'apple'}\n"
     ]
    }
   ],
   "source": [
    "# The intersection() method will return a new set, that only contains the items that are present in both sets.\n",
    "x = {\"apple\", \"banana\", \"cherry\"}\n",
    "y = {\"google\", \"microsoft\", \"apple\"}\n",
    "z = x.intersection(y)\n",
    "print(z)"
   ]
  },
  {
   "cell_type": "code",
   "execution_count": 33,
   "id": "3329307f",
   "metadata": {},
   "outputs": [
    {
     "name": "stdout",
     "output_type": "stream",
     "text": [
      "{'cherry', 'google', 'microsoft', 'banana'}\n"
     ]
    }
   ],
   "source": [
    "# Keep All, But NOT the Duplicates\n",
    "# The symmetric_difference_update() method will keep only the elements that are NOT present in both sets.\n",
    "x = {\"apple\", \"banana\", \"cherry\"}\n",
    "y = {\"google\", \"microsoft\", \"apple\"}\n",
    "x.symmetric_difference_update(y)\n",
    "print(x)"
   ]
  },
  {
   "cell_type": "code",
   "execution_count": 34,
   "id": "6f003e59",
   "metadata": {},
   "outputs": [
    {
     "name": "stdout",
     "output_type": "stream",
     "text": [
      "{'cherry', 'google', 'microsoft', 'banana'}\n"
     ]
    }
   ],
   "source": [
    "x = {\"apple\", \"banana\", \"cherry\"}\n",
    "y = {\"google\", \"microsoft\", \"apple\"}\n",
    "z = x.symmetric_difference(y)\n",
    "print(z)"
   ]
  },
  {
   "cell_type": "code",
   "execution_count": 35,
   "id": "38a325b4",
   "metadata": {},
   "outputs": [
    {
     "name": "stdout",
     "output_type": "stream",
     "text": [
      "{'apple', 'banana', 'cherry'}\n"
     ]
    }
   ],
   "source": [
    "fruits = {\"apple\", \"banana\", \"cherry\"}\n",
    "x = fruits.copy()\n",
    "print(x)"
   ]
  },
  {
   "cell_type": "code",
   "execution_count": 37,
   "id": "1fde6a94",
   "metadata": {},
   "outputs": [
    {
     "name": "stdout",
     "output_type": "stream",
     "text": [
      "{'banana', 'cherry'}\n"
     ]
    }
   ],
   "source": [
    "# Return a set that contains the items that only exist in set x, and not in set y:\n",
    "x = {\"apple\", \"banana\", \"cherry\"}\n",
    "y = {\"google\", \"microsoft\", \"apple\"}\n",
    "z = x.difference(y)\n",
    "print(z)"
   ]
  },
  {
   "cell_type": "code",
   "execution_count": 38,
   "id": "d1e363db",
   "metadata": {},
   "outputs": [
    {
     "name": "stdout",
     "output_type": "stream",
     "text": [
      "{'banana', 'cherry'}\n"
     ]
    }
   ],
   "source": [
    "# The difference_update() method removes the items that exist in both sets.\n",
    "# The difference_update() method is different from the difference() method, \n",
    "# because the difference() method returns a new set, without the unwanted items, and \n",
    "# the difference_update() method removes the unwanted items from the original set.\n",
    "x = {\"apple\", \"banana\", \"cherry\"}\n",
    "y = {\"google\", \"microsoft\", \"apple\"}\n",
    "x.difference_update(y)\n",
    "print(x)"
   ]
  },
  {
   "cell_type": "code",
   "execution_count": 40,
   "id": "3df2217f",
   "metadata": {},
   "outputs": [
    {
     "name": "stdout",
     "output_type": "stream",
     "text": [
      "True\n",
      "{'apple', 'banana', 'cherry'}\n",
      "{'facebook', 'google', 'microsoft'}\n"
     ]
    }
   ],
   "source": [
    "# Return True if no items in set x is present in set y:\n",
    "# Return False if one ore more items are present in both sets:\n",
    "x = {\"apple\", \"banana\", \"cherry\"}\n",
    "y = {\"google\", \"microsoft\", \"facebook\"}\n",
    "z = x.isdisjoint(y)\n",
    "print(z)\n",
    "print(x)\n",
    "print(y)"
   ]
  },
  {
   "cell_type": "code",
   "execution_count": 41,
   "id": "67e1b2e7",
   "metadata": {},
   "outputs": [
    {
     "name": "stdout",
     "output_type": "stream",
     "text": [
      "True\n"
     ]
    }
   ],
   "source": [
    "# Return True if all items in set x are present in set y:\n",
    "x = {\"a\", \"b\", \"c\"}\n",
    "y = {\"f\", \"e\", \"d\", \"c\", \"b\", \"a\"}\n",
    "z = x.issubset(y)\n",
    "print(z)"
   ]
  },
  {
   "cell_type": "code",
   "execution_count": 42,
   "id": "42c79eef",
   "metadata": {},
   "outputs": [
    {
     "name": "stdout",
     "output_type": "stream",
     "text": [
      "True\n"
     ]
    }
   ],
   "source": [
    "# Return True if all items set y are present in set x:\n",
    "x = {\"f\", \"e\", \"d\", \"c\", \"b\", \"a\"}\n",
    "y = {\"a\", \"b\", \"c\"}\n",
    "z = x.issuperset(y)\n",
    "print(z)"
   ]
  }
 ],
 "metadata": {
  "kernelspec": {
   "display_name": "Python 3 (ipykernel)",
   "language": "python",
   "name": "python3"
  },
  "language_info": {
   "codemirror_mode": {
    "name": "ipython",
    "version": 3
   },
   "file_extension": ".py",
   "mimetype": "text/x-python",
   "name": "python",
   "nbconvert_exporter": "python",
   "pygments_lexer": "ipython3",
   "version": "3.8.10"
  },
  "varInspector": {
   "cols": {
    "lenName": 16,
    "lenType": 16,
    "lenVar": 40
   },
   "kernels_config": {
    "python": {
     "delete_cmd_postfix": "",
     "delete_cmd_prefix": "del ",
     "library": "var_list.py",
     "varRefreshCmd": "print(var_dic_list())"
    },
    "r": {
     "delete_cmd_postfix": ") ",
     "delete_cmd_prefix": "rm(",
     "library": "var_list.r",
     "varRefreshCmd": "cat(var_dic_list()) "
    }
   },
   "types_to_exclude": [
    "module",
    "function",
    "builtin_function_or_method",
    "instance",
    "_Feature"
   ],
   "window_display": false
  }
 },
 "nbformat": 4,
 "nbformat_minor": 5
}
