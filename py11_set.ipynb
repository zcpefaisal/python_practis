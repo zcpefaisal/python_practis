{
 "cells": [
  {
   "cell_type": "code",
   "execution_count": null,
   "id": "949e9d18",
   "metadata": {},
   "outputs": [],
   "source": [
    "# Important note of Python Collections \n",
    "# ---------------------------------------\n",
    "# There are four collection data types in Python\n",
    "# * List is ordered and changeable. Allows duplicate members.\n",
    "# * Tuple is rdered and unchangeable. Allows duplicate members.\n",
    "# * Set is unordered, unchangeable*, and unindexed. No duplicate members.\n",
    "# * Dictionary is ordered** and changeable. No duplicate members.\n",
    "\n",
    "# A set is a collection which is unordered, unchangeable*, unindexed and do not allow duplicate values.\n",
    "# Set items are unchangeable, but you can remove items and add new items.\n",
    "# Sets are unordered, so you cannot be sure in which order the items will appear.\n",
    "# Set items can appear in a different order every time you use them, and cannot be referred to by index or key.\n",
    "# Once a set is created, you cannot change its items, but you can remove items and add new items.\n",
    "\n",
    "# *** Set items are unchangeable, but you can remove and/or add items whenever you like.\n",
    "# *** Python version 3.7, dictionaries are ordered. In Python 3.6 and earlier, dictionaries are unordered.\n",
    "\n",
    "# only Set is practic in the file"
   ]
  },
  {
   "cell_type": "code",
   "execution_count": 2,
   "id": "5c3e68ee",
   "metadata": {},
   "outputs": [
    {
     "name": "stdout",
     "output_type": "stream",
     "text": [
      "<class 'set'>\n",
      "3\n"
     ]
    }
   ],
   "source": [
    "myset = {'apple', 'banana', 'cherry'}\n",
    "print(type(myset))\n",
    "print(len(myset))"
   ]
  },
  {
   "cell_type": "code",
   "execution_count": 5,
   "id": "ec8e8fd1",
   "metadata": {},
   "outputs": [
    {
     "name": "stdout",
     "output_type": "stream",
     "text": [
      "<class 'set'>\n",
      "<class 'set'>\n",
      "<class 'set'>\n",
      "<class 'set'>\n"
     ]
    }
   ],
   "source": [
    "# String, int and boolean data types:\n",
    "set1 = {\"apple\", \"banana\", \"cherry\"}\n",
    "set2 = {1, 5, 7, 9, 3}\n",
    "set3 = {True, False, False}\n",
    "print(type(set1))\n",
    "print(type(set2))\n",
    "print(type(set3))\n",
    "# A set can contain different data types:\n",
    "set4 = {\"abc\", 34, True, 40, \"male\"}\n",
    "print(type(set4))"
   ]
  },
  {
   "cell_type": "code",
   "execution_count": 6,
   "id": "a570df1f",
   "metadata": {},
   "outputs": [
    {
     "name": "stdout",
     "output_type": "stream",
     "text": [
      "<class 'set'>\n"
     ]
    }
   ],
   "source": [
    "# Using the set() constructor to make a set:\n",
    "# note the double round-brackets\n",
    "thisset = set(('mango', 'banana', 'apple'))\n",
    "print(type(thisset))"
   ]
  },
  {
   "cell_type": "code",
   "execution_count": 8,
   "id": "38fb70f6",
   "metadata": {},
   "outputs": [
    {
     "name": "stdout",
     "output_type": "stream",
     "text": [
      "apple\n",
      "banana\n",
      "mango\n",
      "True\n"
     ]
    }
   ],
   "source": [
    "# You cannot access items in a set by referring to an index or a key.\n",
    "# But you can loop through the set items using a for loop, or ask if a specified value is present in a set, by using the in keyword.\n",
    "for item in thisset:\n",
    "    print(item)\n",
    "\n",
    "# Check if \"banana\" is present in the set:\n",
    "print(\"banana\" in thisset)"
   ]
  },
  {
   "cell_type": "code",
   "execution_count": 10,
   "id": "a31551b2",
   "metadata": {},
   "outputs": [
    {
     "name": "stdout",
     "output_type": "stream",
     "text": [
      "{'apple', 'banana', 'orange', 'mango'}\n"
     ]
    }
   ],
   "source": [
    "# To add one item to a set use the add() method.\n",
    "thisset = set(('mango', 'banana', 'apple'))\n",
    "thisset.add('orange')\n",
    "print(thisset)"
   ]
  },
  {
   "cell_type": "code",
   "execution_count": 13,
   "id": "b3956bae",
   "metadata": {},
   "outputs": [
    {
     "name": "stdout",
     "output_type": "stream",
     "text": [
      "{'banana', 'papaya', 'cherry', 'pineapple', 'mango', 'apple'}\n"
     ]
    }
   ],
   "source": [
    "# To add items from another set into the current set, use the update() method.\n",
    "thisset1 = {\"apple\", \"banana\", \"cherry\"}\n",
    "thisset2 = {\"pineapple\", \"mango\", \"papaya\"}\n",
    "thisset1.update(thisset2)\n",
    "print(thisset1)"
   ]
  },
  {
   "cell_type": "code",
   "execution_count": 14,
   "id": "364037d6",
   "metadata": {},
   "outputs": [
    {
     "name": "stdout",
     "output_type": "stream",
     "text": [
      "{'kiwi', 'cherry', 'banana', 'orange', 'apple'}\n"
     ]
    }
   ],
   "source": [
    "# update() method does not have to be a set, it can be any iterable object (tuples, lists, dictionaries etc.)\n",
    "thisset = {\"apple\", \"banana\", \"cherry\"}\n",
    "mylist = [\"kiwi\", \"orange\"]\n",
    "thisset.update(mylist)\n",
    "print(thisset)"
   ]
  },
  {
   "cell_type": "code",
   "execution_count": 16,
   "id": "4c25e665",
   "metadata": {},
   "outputs": [
    {
     "name": "stdout",
     "output_type": "stream",
     "text": [
      "{'apple', 'cherry'}\n"
     ]
    }
   ],
   "source": [
    "# To remove an item in a set, use the remove(), or the discard() method.\n",
    "# Note: If the item to remove does not exist, remove() will raise an error.\n",
    "thisset = {\"apple\", \"banana\", \"cherry\"}\n",
    "thisset.remove('banana')\n",
    "print(thisset)"
   ]
  },
  {
   "cell_type": "code",
   "execution_count": 17,
   "id": "d52843bb",
   "metadata": {},
   "outputs": [
    {
     "name": "stdout",
     "output_type": "stream",
     "text": [
      "{'apple', 'cherry'}\n"
     ]
    }
   ],
   "source": [
    "# Note: If the item to remove does not exist, discard() will NOT raise an error.\n",
    "thisset = {\"apple\", \"banana\", \"cherry\"}\n",
    "thisset.discard('banana')\n",
    "print(thisset)"
   ]
  },
  {
   "cell_type": "code",
   "execution_count": 20,
   "id": "97b768f0",
   "metadata": {},
   "outputs": [
    {
     "name": "stdout",
     "output_type": "stream",
     "text": [
      "apple\n",
      "{'banana', 'cherry'}\n"
     ]
    }
   ],
   "source": [
    "# Remove the last item by using the pop() method:\n",
    "# Note: Sets are unordered, so when using the pop() method, you do not know which item that gets removed.\n",
    "thisset = {\"apple\", \"banana\", \"cherry\"}\n",
    "x = thisset.pop()\n",
    "print(x)\n",
    "print(thisset)"
   ]
  },
  {
   "cell_type": "code",
   "execution_count": 21,
   "id": "98af9c61",
   "metadata": {},
   "outputs": [
    {
     "name": "stdout",
     "output_type": "stream",
     "text": [
      "set()\n"
     ]
    }
   ],
   "source": [
    "# The clear() method empties the set:\n",
    "thisset = {\"apple\", \"banana\", \"cherry\"}\n",
    "thisset.clear()\n",
    "print(thisset)"
   ]
  },
  {
   "cell_type": "code",
   "execution_count": 22,
   "id": "df391608",
   "metadata": {},
   "outputs": [
    {
     "ename": "NameError",
     "evalue": "name 'thisset' is not defined",
     "output_type": "error",
     "traceback": [
      "\u001b[0;31m---------------------------------------------------------------------------\u001b[0m",
      "\u001b[0;31mNameError\u001b[0m                                 Traceback (most recent call last)",
      "Input \u001b[0;32mIn [22]\u001b[0m, in \u001b[0;36m<cell line: 3>\u001b[0;34m()\u001b[0m\n\u001b[1;32m      1\u001b[0m thisset \u001b[38;5;241m=\u001b[39m {\u001b[38;5;124m\"\u001b[39m\u001b[38;5;124mapple\u001b[39m\u001b[38;5;124m\"\u001b[39m, \u001b[38;5;124m\"\u001b[39m\u001b[38;5;124mbanana\u001b[39m\u001b[38;5;124m\"\u001b[39m, \u001b[38;5;124m\"\u001b[39m\u001b[38;5;124mcherry\u001b[39m\u001b[38;5;124m\"\u001b[39m}\n\u001b[1;32m      2\u001b[0m \u001b[38;5;28;01mdel\u001b[39;00m thisset\n\u001b[0;32m----> 3\u001b[0m \u001b[38;5;28mprint\u001b[39m(\u001b[43mthisset\u001b[49m)\n",
      "\u001b[0;31mNameError\u001b[0m: name 'thisset' is not defined"
     ]
    }
   ],
   "source": [
    "# The del keyword will delete the set completely:\n",
    "thisset = {\"apple\", \"banana\", \"cherry\"}\n",
    "del thisset\n",
    "# print(thisset) # NameError: name 'thisset' is not defined"
   ]
  },
  {
   "cell_type": "code",
   "execution_count": null,
   "id": "bfeb6550",
   "metadata": {},
   "outputs": [],
   "source": []
  }
 ],
 "metadata": {
  "kernelspec": {
   "display_name": "Python 3 (ipykernel)",
   "language": "python",
   "name": "python3"
  },
  "language_info": {
   "codemirror_mode": {
    "name": "ipython",
    "version": 3
   },
   "file_extension": ".py",
   "mimetype": "text/x-python",
   "name": "python",
   "nbconvert_exporter": "python",
   "pygments_lexer": "ipython3",
   "version": "3.8.10"
  },
  "varInspector": {
   "cols": {
    "lenName": 16,
    "lenType": 16,
    "lenVar": 40
   },
   "kernels_config": {
    "python": {
     "delete_cmd_postfix": "",
     "delete_cmd_prefix": "del ",
     "library": "var_list.py",
     "varRefreshCmd": "print(var_dic_list())"
    },
    "r": {
     "delete_cmd_postfix": ") ",
     "delete_cmd_prefix": "rm(",
     "library": "var_list.r",
     "varRefreshCmd": "cat(var_dic_list()) "
    }
   },
   "types_to_exclude": [
    "module",
    "function",
    "builtin_function_or_method",
    "instance",
    "_Feature"
   ],
   "window_display": false
  }
 },
 "nbformat": 4,
 "nbformat_minor": 5
}
