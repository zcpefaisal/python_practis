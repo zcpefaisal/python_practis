{
 "cells": [
  {
   "cell_type": "code",
   "execution_count": 9,
   "id": "3f9aa8c4",
   "metadata": {},
   "outputs": [
    {
     "name": "stdout",
     "output_type": "stream",
     "text": [
      "1\n",
      "6\n",
      "5\n",
      "7\n"
     ]
    }
   ],
   "source": [
    "# Python Iterators\n",
    "# An iterator is an object that contains a countable number of values.\n",
    "# An iterator is an object that can be iterated upon, meaning that you can traverse through all the values.\n",
    "# Technically, in Python, an iterator is an object which implements the iterator protocol, which consist of the methods __iter__() and __next__().\n",
    "\n",
    "# We can also use a for loop to iterate through an iterable object:\n",
    "# The for loop actually creates an iterator object and executes the next() method for each loop.\n",
    "\n",
    "num = [1,6,5,7,9,5,6]\n",
    "\n",
    "# print(num[2]) # 5\n",
    "# for x in num:\n",
    "#     print(x)\n",
    "\n",
    "itr = iter(num)\n",
    "print(itr.__next__()) #1\n",
    "print(itr.__next__()) #6\n",
    "print(itr.__next__()) #5\n",
    "print(next(itr)) # 7 Note: next() method is reserve the next iteration value\n"
   ]
  },
  {
   "cell_type": "code",
   "execution_count": 7,
   "id": "09ddae9d",
   "metadata": {},
   "outputs": [
    {
     "name": "stdout",
     "output_type": "stream",
     "text": [
      "apple\n",
      "banana\n",
      "cherry\n"
     ]
    }
   ],
   "source": [
    "# Iterator vs Iterable\n",
    "# Lists, tuples, dictionaries, and sets are all iterable objects. They are iterable containers which you can get an iterator from.\n",
    "# All these objects have a iter() method which is used to get an iterator:\n",
    "mytuple = (\"apple\", \"banana\", \"cherry\")\n",
    "myit = iter(mytuple)\n",
    "\n",
    "print(next(myit))\n",
    "print(next(myit))\n",
    "print(next(myit))"
   ]
  },
  {
   "cell_type": "code",
   "execution_count": 8,
   "id": "81dde601",
   "metadata": {},
   "outputs": [
    {
     "name": "stdout",
     "output_type": "stream",
     "text": [
      "b\n",
      "a\n",
      "n\n",
      "a\n",
      "n\n",
      "a\n"
     ]
    }
   ],
   "source": [
    "# Even strings are iterable objects, and can return an iterator:\n",
    "mystr = \"banana\"\n",
    "myit = iter(mystr)\n",
    "print(next(myit))\n",
    "print(next(myit))\n",
    "print(next(myit))\n",
    "print(next(myit))\n",
    "print(next(myit))\n",
    "print(next(myit))"
   ]
  },
  {
   "cell_type": "code",
   "execution_count": 20,
   "id": "f504490f",
   "metadata": {},
   "outputs": [
    {
     "name": "stdout",
     "output_type": "stream",
     "text": [
      "1\n",
      "2\n",
      "3\n",
      "4\n"
     ]
    }
   ],
   "source": [
    "# Create an Iterator\n",
    "# To create an object/class as an iterator you have to implement the methods __iter__() and __next__() to your object.\n",
    "# All classes have a function called __init__(), which allows you to do some initializing when the object is being created.\n",
    "# The __iter__() method acts similar, you can do operations (initializing etc.), but must always return the iterator object itself.\n",
    "# The __next__() method also allows you to do operations, and must return the next item in the sequence.\n",
    "\n",
    "class Myiterator:\n",
    "    def __init__(self):\n",
    "        self.num = 1\n",
    "        \n",
    "    def __iter__(self):\n",
    "        return self\n",
    "    \n",
    "    def __next__(self):\n",
    "        a = self.num\n",
    "        self.num += 1\n",
    "        return a\n",
    "\n",
    "# The above iteration would continue forever if you had enough next() statements or if it was used in a for loop.\n",
    "mi = Myiterator()\n",
    "print(next(mi))\n",
    "print(next(mi))\n",
    "\n",
    "\n",
    "myiter = iter(mi)\n",
    "print(next(myiter))\n",
    "print(next(myiter))"
   ]
  },
  {
   "cell_type": "code",
   "execution_count": 22,
   "id": "b9df85c5",
   "metadata": {},
   "outputs": [
    {
     "name": "stdout",
     "output_type": "stream",
     "text": [
      "1\n",
      "2\n",
      "3\n",
      "4\n",
      "5\n",
      "6\n",
      "7\n",
      "8\n",
      "9\n",
      "10\n"
     ]
    }
   ],
   "source": [
    "# StopIteration\n",
    "# To prevent the iteration to go on forever, we can use the StopIteration statement.\n",
    "# In the __next__() method, we can add a terminating condition to raise an error if the iteration is done a specified number of times:\n",
    "\n",
    "class Myiterator:\n",
    "    def __init__(self):\n",
    "        self.num = 1\n",
    "        \n",
    "    def __iter__(self):\n",
    "        return self\n",
    "    \n",
    "    def __next__(self):\n",
    "        if self.num <= 10:\n",
    "            a = self.num\n",
    "            self.num += 1\n",
    "            return a \n",
    "        else:\n",
    "            raise StopIteration\n",
    "    \n",
    "mi = Myiterator()\n",
    "\n",
    "for i in mi:\n",
    "    print(i)"
   ]
  },
  {
   "cell_type": "code",
   "execution_count": 24,
   "id": "362bac4f",
   "metadata": {},
   "outputs": [
    {
     "name": "stdout",
     "output_type": "stream",
     "text": [
      "1\n",
      "2\n",
      "3\n",
      "4\n",
      "5\n",
      "6\n",
      "7\n",
      "8\n",
      "9\n",
      "10\n"
     ]
    }
   ],
   "source": [
    "# If i use next as manual an run loop then iteration will not repeat\n",
    "\n",
    "class Myiterator:\n",
    "    def __init__(self):\n",
    "        self.num = 1\n",
    "        \n",
    "    def __iter__(self):\n",
    "        return self\n",
    "    \n",
    "    def __next__(self):\n",
    "        if self.num <= 10:\n",
    "            a = self.num\n",
    "            self.num += 1\n",
    "            return a \n",
    "        else:\n",
    "            raise StopIteration\n",
    "    \n",
    "mi = Myiterator()\n",
    "\n",
    "print(next(mi)) # 1\n",
    "print(next(mi)) # 2\n",
    "\n",
    "# so, now loop will start form 3\n",
    "for i in mi:\n",
    "    print(i)"
   ]
  },
  {
   "cell_type": "code",
   "execution_count": null,
   "id": "ca845e8e",
   "metadata": {},
   "outputs": [],
   "source": []
  }
 ],
 "metadata": {
  "kernelspec": {
   "display_name": "Python 3 (ipykernel)",
   "language": "python",
   "name": "python3"
  },
  "language_info": {
   "codemirror_mode": {
    "name": "ipython",
    "version": 3
   },
   "file_extension": ".py",
   "mimetype": "text/x-python",
   "name": "python",
   "nbconvert_exporter": "python",
   "pygments_lexer": "ipython3",
   "version": "3.8.10"
  },
  "varInspector": {
   "cols": {
    "lenName": 16,
    "lenType": 16,
    "lenVar": 40
   },
   "kernels_config": {
    "python": {
     "delete_cmd_postfix": "",
     "delete_cmd_prefix": "del ",
     "library": "var_list.py",
     "varRefreshCmd": "print(var_dic_list())"
    },
    "r": {
     "delete_cmd_postfix": ") ",
     "delete_cmd_prefix": "rm(",
     "library": "var_list.r",
     "varRefreshCmd": "cat(var_dic_list()) "
    }
   },
   "types_to_exclude": [
    "module",
    "function",
    "builtin_function_or_method",
    "instance",
    "_Feature"
   ],
   "window_display": false
  }
 },
 "nbformat": 4,
 "nbformat_minor": 5
}
