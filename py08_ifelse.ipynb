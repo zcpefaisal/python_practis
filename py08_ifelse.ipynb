{
 "cells": [
  {
   "cell_type": "code",
   "execution_count": 4,
   "id": "03f59865",
   "metadata": {},
   "outputs": [
    {
     "name": "stdout",
     "output_type": "stream",
     "text": [
      "a is gretter\n"
     ]
    }
   ],
   "source": [
    "a = 330\n",
    "b = 200\n",
    "# basic if else condition\n",
    "if a > b:\n",
    "    print('a is gretter')\n",
    "else:\n",
    "    print(\"b is gretter\")"
   ]
  },
  {
   "cell_type": "code",
   "execution_count": 16,
   "id": "7f4db52d",
   "metadata": {},
   "outputs": [
    {
     "name": "stdout",
     "output_type": "stream",
     "text": [
      "b is gretter\n"
     ]
    }
   ],
   "source": [
    "a = 30\n",
    "b = 33\n",
    "if a > b:\n",
    "    print('a is getter')\n",
    "elif a == b:\n",
    "    print('a and b is equal')\n",
    "else:\n",
    "    print('b is gretter')"
   ]
  },
  {
   "cell_type": "code",
   "execution_count": 14,
   "id": "0750abb4",
   "metadata": {},
   "outputs": [
    {
     "name": "stdout",
     "output_type": "stream",
     "text": [
      "a is gretter then b\n"
     ]
    }
   ],
   "source": [
    "# one line if statement\n",
    "# This technique is known as Ternary Operators, or Conditional Expressions\n",
    "if a > b : print('a is gretter then b')"
   ]
  },
  {
   "cell_type": "code",
   "execution_count": 18,
   "id": "2f37cc5a",
   "metadata": {},
   "outputs": [
    {
     "name": "stdout",
     "output_type": "stream",
     "text": [
      "b is gretter\n"
     ]
    }
   ],
   "source": [
    "# one line if else statement\n",
    "# This technique is known as Ternary Operators, or Conditional Expressions\n",
    "print('a is gretter') if a > b else print('b is gretter')"
   ]
  },
  {
   "cell_type": "code",
   "execution_count": 24,
   "id": "83a241bc",
   "metadata": {},
   "outputs": [
    {
     "name": "stdout",
     "output_type": "stream",
     "text": [
      "a equal to b\n"
     ]
    }
   ],
   "source": [
    "# One line if else statement, with 3 conditions:\n",
    "a = 302\n",
    "b = 302\n",
    "print(\"a is gretter\") if a > b else print('a equal to b') if a == b else print('b is gretter')"
   ]
  },
  {
   "cell_type": "code",
   "execution_count": 29,
   "id": "3f00118e",
   "metadata": {
    "collapsed": true
   },
   "outputs": [
    {
     "name": "stdout",
     "output_type": "stream",
     "text": [
      "both condition are true\n",
      "at list one condition is true\n"
     ]
    }
   ],
   "source": [
    "\n",
    "a = 200\n",
    "b = 33\n",
    "c = 500\n",
    "if a > b and c > a:\n",
    "    print('both condition are true')\n",
    "    \n",
    "if a > b or c > a:\n",
    "    print('at list one condition is true')"
   ]
  },
  {
   "cell_type": "code",
   "execution_count": 38,
   "id": "9e8456f4",
   "metadata": {},
   "outputs": [
    {
     "name": "stdout",
     "output_type": "stream",
     "text": [
      "x is above 20\n"
     ]
    }
   ],
   "source": [
    "x = 21\n",
    "if x > 10:\n",
    "    if x > 20:\n",
    "        print('x is above 20')\n",
    "    else:\n",
    "        print('x is under 20')\n",
    "else:\n",
    "    print('x is less then 10')"
   ]
  },
  {
   "cell_type": "code",
   "execution_count": 39,
   "id": "6051cfae",
   "metadata": {},
   "outputs": [],
   "source": [
    "# if statements cannot be empty, but if you for some reason have an if statement with no content, \n",
    "# put in the pass statement to avoid getting an error.\n",
    "a = 33\n",
    "b = 50\n",
    "if a > b:\n",
    "    pass"
   ]
  },
  {
   "cell_type": "code",
   "execution_count": null,
   "id": "e43755cf",
   "metadata": {},
   "outputs": [],
   "source": []
  }
 ],
 "metadata": {
  "kernelspec": {
   "display_name": "Python 3 (ipykernel)",
   "language": "python",
   "name": "python3"
  },
  "language_info": {
   "codemirror_mode": {
    "name": "ipython",
    "version": 3
   },
   "file_extension": ".py",
   "mimetype": "text/x-python",
   "name": "python",
   "nbconvert_exporter": "python",
   "pygments_lexer": "ipython3",
   "version": "3.8.10"
  },
  "varInspector": {
   "cols": {
    "lenName": 16,
    "lenType": 16,
    "lenVar": 40
   },
   "kernels_config": {
    "python": {
     "delete_cmd_postfix": "",
     "delete_cmd_prefix": "del ",
     "library": "var_list.py",
     "varRefreshCmd": "print(var_dic_list())"
    },
    "r": {
     "delete_cmd_postfix": ") ",
     "delete_cmd_prefix": "rm(",
     "library": "var_list.r",
     "varRefreshCmd": "cat(var_dic_list()) "
    }
   },
   "types_to_exclude": [
    "module",
    "function",
    "builtin_function_or_method",
    "instance",
    "_Feature"
   ],
   "window_display": false
  }
 },
 "nbformat": 4,
 "nbformat_minor": 5
}
