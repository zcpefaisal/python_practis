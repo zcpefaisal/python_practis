{
 "cells": [
  {
   "cell_type": "markdown",
   "id": "deda55bf",
   "metadata": {},
   "source": [
    "# Pandas Intro"
   ]
  },
  {
   "cell_type": "code",
   "execution_count": null,
   "id": "54a23506",
   "metadata": {},
   "outputs": [],
   "source": [
    "# Pandas is a Python library used for working with data sets.\n",
    "# Pandas is used to analyze data.\n",
    "# It has functions for analyzing, cleaning, exploring, and manipulating data."
   ]
  },
  {
   "cell_type": "markdown",
   "id": "3f2c6af6",
   "metadata": {},
   "source": [
    "# Why Use Pandas"
   ]
  },
  {
   "cell_type": "code",
   "execution_count": null,
   "id": "90f868f4",
   "metadata": {},
   "outputs": [],
   "source": [
    "# Pandas allows us to analyze big data and make conclusions based on statistical theories.\n",
    "# Pandas can clean messy data sets, and make them readable and relevant.\n",
    "# Relevant data is very important in data science."
   ]
  },
  {
   "cell_type": "markdown",
   "id": "7ce2b713",
   "metadata": {},
   "source": [
    "# What Can Pandas Do"
   ]
  },
  {
   "cell_type": "code",
   "execution_count": 1,
   "id": "6f3c2345",
   "metadata": {},
   "outputs": [],
   "source": [
    "# Pandas gives you answers about the data. Like:\n",
    "# Is there a correlation between two or more columns?\n",
    "# What is average value?\n",
    "# Max value?\n",
    "# Min value?\n",
    "\n",
    "# Pandas are also able to delete rows that are not relevant, or contains wrong values, like empty or NULL values. \n",
    "# This is called cleaning the data."
   ]
  },
  {
   "cell_type": "code",
   "execution_count": 14,
   "id": "f75f3e6d",
   "metadata": {},
   "outputs": [],
   "source": [
    "# pip list\n",
    "# if not installed in pip list then install with the command \n",
    "# pip install pandas\n",
    "# print(pd.__version__)"
   ]
  },
  {
   "cell_type": "code",
   "execution_count": 10,
   "id": "9dddeb6e",
   "metadata": {},
   "outputs": [],
   "source": [
    "# import pandas\n",
    "import pandas as pd"
   ]
  },
  {
   "cell_type": "code",
   "execution_count": 11,
   "id": "f9e483fa",
   "metadata": {},
   "outputs": [
    {
     "name": "stdout",
     "output_type": "stream",
     "text": [
      "     cars  passings\n",
      "0     BMW         2\n",
      "1  Toyota         5\n",
      "2    Ford         4\n"
     ]
    }
   ],
   "source": [
    "# testing pandas, is working  \n",
    "data = {\n",
    "    'cars': [\"BMW\", \"Toyota\", 'Ford'],\n",
    "    'passings': [2,5,4]\n",
    "}\n",
    "var = pd.DataFrame(data)\n",
    "print(var)"
   ]
  },
  {
   "cell_type": "markdown",
   "id": "a4eded9c",
   "metadata": {},
   "source": [
    "# What is a Series"
   ]
  },
  {
   "cell_type": "code",
   "execution_count": 15,
   "id": "52ab2094",
   "metadata": {},
   "outputs": [
    {
     "name": "stdout",
     "output_type": "stream",
     "text": [
      "0    1\n",
      "1    2\n",
      "2    4\n",
      "3    5\n",
      "4    9\n",
      "dtype: int64\n"
     ]
    }
   ],
   "source": [
    "# Pandas Series is like a column in a table. It is a one-dimensional array holding data of any type.\n",
    "x = [1,2,4,5,9]\n",
    "y = pd.Series(x) # Create a simple Pandas Series from a list\n",
    "print(y)"
   ]
  },
  {
   "cell_type": "markdown",
   "id": "06c3531b",
   "metadata": {},
   "source": [
    "# Labels"
   ]
  },
  {
   "cell_type": "code",
   "execution_count": 17,
   "id": "52cd5bf7",
   "metadata": {},
   "outputs": [
    {
     "name": "stdout",
     "output_type": "stream",
     "text": [
      "1\n"
     ]
    }
   ],
   "source": [
    "# If nothing else is specified, the values are labeled with their index number. First value has index 0, second value has index 1 etc.\n",
    "# This label can be used to access a specified value.\n",
    "print(y[0]) # Return the first value of the Series\n"
   ]
  },
  {
   "cell_type": "markdown",
   "id": "320072f1",
   "metadata": {},
   "source": [
    "# Create Labels"
   ]
  },
  {
   "cell_type": "code",
   "execution_count": 19,
   "id": "72feba3e",
   "metadata": {},
   "outputs": [
    {
     "name": "stdout",
     "output_type": "stream",
     "text": [
      "a    1\n",
      "b    2\n",
      "c    4\n",
      "d    5\n",
      "e    9\n",
      "dtype: int64\n",
      "1\n"
     ]
    }
   ],
   "source": [
    "# We can name your own labels With the index argument\n",
    "z = pd.Series(x, index=['a','b', 'c', 'd', 'e'])\n",
    "print(z)\n",
    "print(z['a']) # Return the first value of the Series"
   ]
  },
  {
   "cell_type": "markdown",
   "id": "e3075341",
   "metadata": {},
   "source": [
    "# Key/Value Objects as Series"
   ]
  },
  {
   "cell_type": "code",
   "execution_count": 23,
   "id": "30289828",
   "metadata": {},
   "outputs": [
    {
     "name": "stdout",
     "output_type": "stream",
     "text": [
      "day1    30\n",
      "day2    20\n",
      "day3    25\n",
      "dtype: int64\n",
      "day1    30\n",
      "day3    25\n",
      "dtype: int64\n"
     ]
    }
   ],
   "source": [
    "# We can also use a key/value object, like a dictionary, when creating a Series.\n",
    "\n",
    "walks = {\"day1\": 30, \"day2\": 20, \"day3\": 25}\n",
    "walks_series = pd.Series(walks) # Note: The keys of the dictionary become the labels.\n",
    "print(walks_series)\n",
    "\n",
    "print('----------------')\n",
    "# To select only some of the items in the dictionary, use the index argument and specify only the items you want to include in the Series.\n",
    "walks_series_2 = pd.Series(walks, index=['day1', 'day3'])\n",
    "print(walks_series_2)\n",
    "\n"
   ]
  },
  {
   "cell_type": "code",
   "execution_count": null,
   "id": "42d3dcdb",
   "metadata": {},
   "outputs": [],
   "source": []
  }
 ],
 "metadata": {
  "kernelspec": {
   "display_name": "Python 3 (ipykernel)",
   "language": "python",
   "name": "python3"
  },
  "language_info": {
   "codemirror_mode": {
    "name": "ipython",
    "version": 3
   },
   "file_extension": ".py",
   "mimetype": "text/x-python",
   "name": "python",
   "nbconvert_exporter": "python",
   "pygments_lexer": "ipython3",
   "version": "3.8.10"
  },
  "varInspector": {
   "cols": {
    "lenName": 16,
    "lenType": 16,
    "lenVar": 40
   },
   "kernels_config": {
    "python": {
     "delete_cmd_postfix": "",
     "delete_cmd_prefix": "del ",
     "library": "var_list.py",
     "varRefreshCmd": "print(var_dic_list())"
    },
    "r": {
     "delete_cmd_postfix": ") ",
     "delete_cmd_prefix": "rm(",
     "library": "var_list.r",
     "varRefreshCmd": "cat(var_dic_list()) "
    }
   },
   "types_to_exclude": [
    "module",
    "function",
    "builtin_function_or_method",
    "instance",
    "_Feature"
   ],
   "window_display": false
  }
 },
 "nbformat": 4,
 "nbformat_minor": 5
}
