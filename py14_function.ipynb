{
 "cells": [
  {
   "cell_type": "code",
   "execution_count": 2,
   "id": "e0a35999",
   "metadata": {},
   "outputs": [
    {
     "name": "stdout",
     "output_type": "stream",
     "text": [
      "hello world\n"
     ]
    }
   ],
   "source": [
    "# A function is a block of code which only runs when it is called.\n",
    "# You can pass data, known as parameters, into a function.\n",
    "# A function can return data as a result.\n",
    "# In Python a function is defined using the def keyword:\n",
    "# To call a function, use the function name followed by parenthesis:\n",
    "def my_function():\n",
    "    print('hello world')\n",
    "    \n",
    "my_function()"
   ]
  },
  {
   "cell_type": "code",
   "execution_count": 4,
   "id": "da132b95",
   "metadata": {},
   "outputs": [
    {
     "name": "stdout",
     "output_type": "stream",
     "text": [
      "Faisal Alam\n"
     ]
    }
   ],
   "source": [
    "# Information can be passed into functions as arguments.\n",
    "# Arguments are specified after the function name, inside the parentheses. You can add as many arguments as you want, just separate them with a comma.\n",
    "# Arguments are often shortened to args in Python documentations.\n",
    "# If you try to call the function with 1 or 3 arguments, you will get an error:\n",
    "def my_function(firstName, secondName):\n",
    "    print(firstName + ' ' + secondName)\n",
    "    \n",
    "my_function('Faisal', 'Alam')"
   ]
  },
  {
   "cell_type": "code",
   "execution_count": 5,
   "id": "c96b0872",
   "metadata": {},
   "outputs": [
    {
     "name": "stdout",
     "output_type": "stream",
     "text": [
      "faisal\n",
      "alam\n"
     ]
    }
   ],
   "source": [
    "# Parameters or Arguments?\n",
    "# The terms parameter and argument can be used for the same thing: information that are passed into a function.\n",
    "# From a function's perspective:\n",
    "# A parameter is the variable listed inside the parentheses in the function definition.\n",
    "# An argument is the value that is sent to the function when it is called.\n",
    "# Arbitrary Arguments, *args\n",
    "# If you do not know how many arguments that will be passed into your function, add a * before the parameter name in the function definition.\n",
    "# This way the function will receive a tuple of arguments, and can access the items accordingly:\n",
    "# Arbitrary Arguments are often shortened to *args in Python documentations.\n",
    "def my_function(*info):\n",
    "    print(info[0])\n",
    "    print(info[1])\n",
    "    \n",
    "my_function('faisal', 'alam')"
   ]
  },
  {
   "cell_type": "code",
   "execution_count": 6,
   "id": "f6e5d886",
   "metadata": {},
   "outputs": [
    {
     "name": "stdout",
     "output_type": "stream",
     "text": [
      "faisal\n",
      "alam\n",
      "naiam\n"
     ]
    }
   ],
   "source": [
    "# Keyword Arguments\n",
    "# You can also send arguments with the key = value syntax.\n",
    "# This way the order of the arguments does not matter.\n",
    "# The phrase Keyword Arguments are often shortened to kwargs in Python documentations.\n",
    "def my_function(first, second, third):\n",
    "    print(first)    \n",
    "    print(second)    \n",
    "    print(third)\n",
    "    \n",
    "my_function(second='alam', third='naiam', first='faisal')"
   ]
  },
  {
   "cell_type": "code",
   "execution_count": 7,
   "id": "93e255b5",
   "metadata": {},
   "outputs": [
    {
     "name": "stdout",
     "output_type": "stream",
     "text": [
      "faisal\n",
      "alam\n",
      "naiam\n"
     ]
    }
   ],
   "source": [
    "# Arbitrary Keyword Arguments, **kwargs\n",
    "# If you do not know how many keyword arguments that will be passed into your function, add two asterisk: ** before the parameter name in the function definition.\n",
    "# This way the function will receive a dictionary of arguments, and can access the items accordingly:\n",
    "# Arbitrary Kword Arguments are often shortened to **kwargs in Python documentations.\n",
    "def my_function(**name):\n",
    "    print(name['first'])    \n",
    "    print(name['second'])    \n",
    "    print(name['third'])\n",
    "    \n",
    "my_function(second='alam', third='naiam', first='faisal')"
   ]
  },
  {
   "cell_type": "code",
   "execution_count": 9,
   "id": "e2b27c6c",
   "metadata": {},
   "outputs": [
    {
     "name": "stdout",
     "output_type": "stream",
     "text": [
      "I am from Sweden\n",
      "I am from India\n",
      "I am from Norway\n",
      "I am from Brazil\n"
     ]
    }
   ],
   "source": [
    "# Default Parameter Value\n",
    "# If we call the function without argument, it uses the default value:\n",
    "def my_function(country = \"Norway\"):\n",
    "  print(\"I am from \" + country)\n",
    "\n",
    "my_function(\"Sweden\")\n",
    "my_function(\"India\")\n",
    "my_function()\n",
    "my_function(\"Brazil\")"
   ]
  },
  {
   "cell_type": "code",
   "execution_count": 10,
   "id": "1fa1e92c",
   "metadata": {},
   "outputs": [
    {
     "name": "stdout",
     "output_type": "stream",
     "text": [
      "apple\n",
      "banana\n",
      "cherry\n"
     ]
    }
   ],
   "source": [
    "# Passing a List as an Argument\n",
    "# You can send any data types of argument to a function (string, number, list, dictionary etc.), and it will be treated as the same data type inside the function.\n",
    "# If you send a List as an argument, it will still be a List when it reaches the function:\n",
    "    \n",
    "def my_function(foods):\n",
    "    for food in foods:\n",
    "        print(food)\n",
    "        \n",
    "fruits = [\"apple\", \"banana\", \"cherry\"]\n",
    "my_function(fruits)"
   ]
  },
  {
   "cell_type": "code",
   "execution_count": 11,
   "id": "3168f4e7",
   "metadata": {},
   "outputs": [
    {
     "name": "stdout",
     "output_type": "stream",
     "text": [
      "15\n",
      "25\n",
      "40\n"
     ]
    }
   ],
   "source": [
    "# Return Values\n",
    "# To let a function return a value, use the return statement:\n",
    "def my_function(x):\n",
    "  return 5 * x\n",
    "print(my_function(3))\n",
    "print(my_function(5))\n",
    "print(my_function(8))"
   ]
  },
  {
   "cell_type": "code",
   "execution_count": 12,
   "id": "a0c1703d",
   "metadata": {},
   "outputs": [],
   "source": [
    "# The pass Statement\n",
    "# function definitions cannot be empty, but if you for some reason have a function definition with no content, put in the pass statement to avoid getting an error.\n",
    "def myfunction():\n",
    "  pass"
   ]
  },
  {
   "cell_type": "code",
   "execution_count": 16,
   "id": "f093885f",
   "metadata": {},
   "outputs": [
    {
     "name": "stdout",
     "output_type": "stream",
     "text": [
      "\n",
      "\n",
      "Recursion Example Results\n",
      "1\n",
      "3\n",
      "6\n",
      "10\n",
      "15\n",
      "21\n"
     ]
    },
    {
     "data": {
      "text/plain": [
       "21"
      ]
     },
     "execution_count": 16,
     "metadata": {},
     "output_type": "execute_result"
    }
   ],
   "source": [
    "# Recursion\n",
    "# Python also accepts function recursion, which means a defined function can call itself.\n",
    "# Recursion is a common mathematical and programming concept. It means that a function calls itself. This has the benefit of meaning that you can loop through data to reach a result.\n",
    "# The developer should be very careful with recursion as it can be quite easy to slip into writing a function which never terminates, or one that uses excess amounts of memory or processor power. However, when written correctly recursion can be a very efficient and mathematically-elegant approach to programming.\n",
    "\n",
    "def tri_recursion(k):\n",
    "    if(k > 0):\n",
    "        result = k + tri_recursion(k - 1)\n",
    "        print(result)\n",
    "    else:\n",
    "        result = 0\n",
    "    return result\n",
    "\n",
    "print(\"\\n\\nRecursion Example Results\")\n",
    "tri_recursion(6)"
   ]
  },
  {
   "cell_type": "code",
   "execution_count": null,
   "id": "dce74792",
   "metadata": {},
   "outputs": [],
   "source": []
  }
 ],
 "metadata": {
  "kernelspec": {
   "display_name": "Python 3 (ipykernel)",
   "language": "python",
   "name": "python3"
  },
  "language_info": {
   "codemirror_mode": {
    "name": "ipython",
    "version": 3
   },
   "file_extension": ".py",
   "mimetype": "text/x-python",
   "name": "python",
   "nbconvert_exporter": "python",
   "pygments_lexer": "ipython3",
   "version": "3.8.10"
  },
  "varInspector": {
   "cols": {
    "lenName": 16,
    "lenType": 16,
    "lenVar": 40
   },
   "kernels_config": {
    "python": {
     "delete_cmd_postfix": "",
     "delete_cmd_prefix": "del ",
     "library": "var_list.py",
     "varRefreshCmd": "print(var_dic_list())"
    },
    "r": {
     "delete_cmd_postfix": ") ",
     "delete_cmd_prefix": "rm(",
     "library": "var_list.r",
     "varRefreshCmd": "cat(var_dic_list()) "
    }
   },
   "types_to_exclude": [
    "module",
    "function",
    "builtin_function_or_method",
    "instance",
    "_Feature"
   ],
   "window_display": false
  }
 },
 "nbformat": 4,
 "nbformat_minor": 5
}
