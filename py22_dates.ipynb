{
 "cells": [
  {
   "cell_type": "code",
   "execution_count": 4,
   "id": "6520c5d6",
   "metadata": {},
   "outputs": [
    {
     "name": "stdout",
     "output_type": "stream",
     "text": [
      "2022-07-17 21:37:47.652763\n",
      "2022\n",
      "Sunday\n"
     ]
    }
   ],
   "source": [
    "# Python Dates\n",
    "# A date in Python is not a data type of its own, but we can import a module named datetime to work with dates as date objects.\n",
    "# Import the datetime module and display the current date:\n",
    "\n",
    "import datetime\n",
    "\n",
    "x = datetime.datetime.now()\n",
    "\n",
    "print(x) # The date contains year, month, day, hour, minute, second, and microsecond.\n",
    "\n",
    "print(x.year)\n",
    "print(x.strftime(\"%A\")) # current day name (week day)"
   ]
  },
  {
   "cell_type": "code",
   "execution_count": 33,
   "id": "8069a26c",
   "metadata": {},
   "outputs": [
    {
     "name": "stdout",
     "output_type": "stream",
     "text": [
      "2022-02-25 00:00:00\n"
     ]
    }
   ],
   "source": [
    "# Creating Date Objects\n",
    "# To create a date, can use the datetime() class (constructor) of the datetime module.\n",
    "# The datetime() class requires three parameters to create a date: year, month, day.\n",
    "# The datetime() class also takes parameters for time and timezone (hour, minute, second, microsecond, tzone), \n",
    "# but they are optional, and has a default value of 0, (None for timezone).\n",
    "x = datetime.datetime(2022, 2, 25) \n",
    "print(x)"
   ]
  },
  {
   "cell_type": "code",
   "execution_count": 35,
   "id": "a7c2ad89",
   "metadata": {
    "scrolled": true
   },
   "outputs": [
    {
     "name": "stdout",
     "output_type": "stream",
     "text": [
      "2022-07-17 21:54:20.042656\n",
      "Sun\n",
      "Sunday\n",
      "July\n",
      "0\n",
      "17\n",
      "Jul\n",
      "July\n",
      "07\n",
      "22\n",
      "2022\n",
      "21\n",
      "09\n",
      "PM\n",
      "54\n",
      "20\n",
      "042656\n",
      "\n",
      "\n",
      "198\n",
      "29\n",
      "28\n",
      "Sun Jul 17 21:54:20 2022\n",
      "20\n",
      "07/17/22\n",
      "21:54:20\n",
      "%\n",
      "2022\n",
      "7\n",
      "28\n"
     ]
    }
   ],
   "source": [
    "# Reference of all the legal format codes:\n",
    "x = datetime.datetime.now()\n",
    "print(x)\n",
    "print(x.strftime(\"%a\")) # Weekday, short version\n",
    "print(x.strftime(\"%A\")) # Weekday, full version\n",
    "print(x.strftime(\"%B\")) # Month name, full version\n",
    "print(x.strftime(\"%w\")) # Weekday as a number 0-6, 0 is Sunday\n",
    "print(x.strftime(\"%d\")) # Day of month 01-31\n",
    "print(x.strftime(\"%b\")) # Month name, short version\n",
    "print(x.strftime(\"%B\")) # Month name, full version\n",
    "print(x.strftime(\"%m\")) # MMonth as a number 01-12\n",
    "print(x.strftime(\"%y\")) # Year, short version, without century\n",
    "print(x.strftime(\"%Y\")) # Year, full version\n",
    "print(x.strftime(\"%H\")) # Hour 00-23\n",
    "print(x.strftime(\"%I\")) # Hour 00-12\n",
    "print(x.strftime(\"%p\")) # AM/PM\t\n",
    "print(x.strftime(\"%M\")) # MMinute 00-59\n",
    "print(x.strftime(\"%S\")) # Second 00-59\n",
    "print(x.strftime(\"%f\")) # Microsecond 000000-999999\n",
    "print(x.strftime(\"%z\")) # UTC offset\n",
    "print(x.strftime(\"%Z\")) # Timezone\n",
    "print(x.strftime(\"%j\")) # Day number of year 001-366\n",
    "print(x.strftime(\"%U\")) # Week number of year, Sunday as the first day of week, 00-53\n",
    "print(x.strftime(\"%W\")) # Week number of year, Monday as the first day of week, 00-53\n",
    "print(x.strftime(\"%c\")) # Local version of date and time\n",
    "print(x.strftime(\"%C\")) # Century\n",
    "print(x.strftime(\"%x\")) # Local version of date\n",
    "print(x.strftime(\"%X\")) # Local version of time\n",
    "print(x.strftime(\"%%\")) # A % character\n",
    "print(x.strftime(\"%G\")) # ISO 8601 year\n",
    "print(x.strftime(\"%u\")) # ISO 8601 weekday (1-7)\n",
    "print(x.strftime(\"%V\")) # ISO 8601 weeknumber (01-53)"
   ]
  },
  {
   "cell_type": "code",
   "execution_count": null,
   "id": "5c07e5cd",
   "metadata": {},
   "outputs": [],
   "source": []
  }
 ],
 "metadata": {
  "kernelspec": {
   "display_name": "Python 3 (ipykernel)",
   "language": "python",
   "name": "python3"
  },
  "language_info": {
   "codemirror_mode": {
    "name": "ipython",
    "version": 3
   },
   "file_extension": ".py",
   "mimetype": "text/x-python",
   "name": "python",
   "nbconvert_exporter": "python",
   "pygments_lexer": "ipython3",
   "version": "3.8.10"
  },
  "varInspector": {
   "cols": {
    "lenName": 16,
    "lenType": 16,
    "lenVar": 40
   },
   "kernels_config": {
    "python": {
     "delete_cmd_postfix": "",
     "delete_cmd_prefix": "del ",
     "library": "var_list.py",
     "varRefreshCmd": "print(var_dic_list())"
    },
    "r": {
     "delete_cmd_postfix": ") ",
     "delete_cmd_prefix": "rm(",
     "library": "var_list.r",
     "varRefreshCmd": "cat(var_dic_list()) "
    }
   },
   "types_to_exclude": [
    "module",
    "function",
    "builtin_function_or_method",
    "instance",
    "_Feature"
   ],
   "window_display": false
  }
 },
 "nbformat": 4,
 "nbformat_minor": 5
}
