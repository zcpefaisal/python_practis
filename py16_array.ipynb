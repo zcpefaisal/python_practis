{
 "cells": [
  {
   "cell_type": "code",
   "execution_count": 5,
   "id": "1658405a",
   "metadata": {},
   "outputs": [
    {
     "name": "stdout",
     "output_type": "stream",
     "text": [
      "Ford\n"
     ]
    }
   ],
   "source": [
    "# Note: Python does not have built-in support for Arrays, but Python Lists can be used instead.\n",
    "# Note: This page shows you how to use LISTS as ARRAYS, however, to work with arrays in Python you will have to import a library, like the NumPy library.\n",
    "# Arrays are used to store multiple values in one single variable:\n",
    "# Create an array containing car names:\n",
    "cars = [\"Ford\", \"Volvo\", \"BMW\"]\n",
    "# Access the Elements of an Array\n",
    "x = cars[0]\n",
    "print(x)"
   ]
  },
  {
   "cell_type": "code",
   "execution_count": 7,
   "id": "e577bd96",
   "metadata": {},
   "outputs": [
    {
     "name": "stdout",
     "output_type": "stream",
     "text": [
      "['Toyota', 'Volvo', 'BMW']\n",
      "['Toyota', 'Volvo', 'BMW']\n"
     ]
    }
   ],
   "source": [
    "# Modify the value of the first array item:\n",
    "cars[0] = \"Toyota\"\n",
    "print(cars)"
   ]
  },
  {
   "cell_type": "code",
   "execution_count": 9,
   "id": "e59f7e0c",
   "metadata": {},
   "outputs": [
    {
     "name": "stdout",
     "output_type": "stream",
     "text": [
      "3\n"
     ]
    }
   ],
   "source": [
    "# The Length of an Array\n",
    "# Note: The length of an array is always one more than the highest array index.\n",
    "print(len(cars))"
   ]
  },
  {
   "cell_type": "code",
   "execution_count": 10,
   "id": "f5f692a7",
   "metadata": {},
   "outputs": [
    {
     "name": "stdout",
     "output_type": "stream",
     "text": [
      "Toyota\n",
      "Volvo\n",
      "BMW\n"
     ]
    }
   ],
   "source": [
    "# can use the for in loop to loop through all the elements of an array.\n",
    "for x in cars:\n",
    "  print(x)"
   ]
  },
  {
   "cell_type": "code",
   "execution_count": 11,
   "id": "522aae9d",
   "metadata": {},
   "outputs": [
    {
     "name": "stdout",
     "output_type": "stream",
     "text": [
      "['Toyota', 'Volvo', 'BMW', 'Honda']\n"
     ]
    }
   ],
   "source": [
    "# Adding Array Elements\n",
    "cars.append(\"Honda\")\n",
    "print(cars)"
   ]
  },
  {
   "cell_type": "code",
   "execution_count": 12,
   "id": "94b94fde",
   "metadata": {},
   "outputs": [
    {
     "name": "stdout",
     "output_type": "stream",
     "text": [
      "['Toyota', 'BMW', 'Honda']\n"
     ]
    }
   ],
   "source": [
    "#  can use the pop() method to remove an element from the array.\n",
    "cars.pop(1)\n",
    "print(cars)"
   ]
  },
  {
   "cell_type": "code",
   "execution_count": 14,
   "id": "1bcdea16",
   "metadata": {},
   "outputs": [
    {
     "name": "stdout",
     "output_type": "stream",
     "text": [
      "['Toyota', 'Honda']\n"
     ]
    }
   ],
   "source": [
    "# can also use the remove() method to remove an element from the array.\n",
    "# Note: The list's remove() method only removes the first occurrence of the specified value.\n",
    "cars.remove(\"BMW\")\n",
    "print(cars)"
   ]
  },
  {
   "cell_type": "code",
   "execution_count": null,
   "id": "21262694",
   "metadata": {},
   "outputs": [],
   "source": []
  }
 ],
 "metadata": {
  "kernelspec": {
   "display_name": "Python 3 (ipykernel)",
   "language": "python",
   "name": "python3"
  },
  "language_info": {
   "codemirror_mode": {
    "name": "ipython",
    "version": 3
   },
   "file_extension": ".py",
   "mimetype": "text/x-python",
   "name": "python",
   "nbconvert_exporter": "python",
   "pygments_lexer": "ipython3",
   "version": "3.8.10"
  },
  "varInspector": {
   "cols": {
    "lenName": 16,
    "lenType": 16,
    "lenVar": 40
   },
   "kernels_config": {
    "python": {
     "delete_cmd_postfix": "",
     "delete_cmd_prefix": "del ",
     "library": "var_list.py",
     "varRefreshCmd": "print(var_dic_list())"
    },
    "r": {
     "delete_cmd_postfix": ") ",
     "delete_cmd_prefix": "rm(",
     "library": "var_list.r",
     "varRefreshCmd": "cat(var_dic_list()) "
    }
   },
   "types_to_exclude": [
    "module",
    "function",
    "builtin_function_or_method",
    "instance",
    "_Feature"
   ],
   "window_display": false
  }
 },
 "nbformat": 4,
 "nbformat_minor": 5
}
