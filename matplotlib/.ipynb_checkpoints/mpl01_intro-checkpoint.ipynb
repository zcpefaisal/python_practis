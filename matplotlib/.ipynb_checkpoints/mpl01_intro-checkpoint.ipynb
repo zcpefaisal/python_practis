{
 "cells": [
  {
   "cell_type": "markdown",
   "id": "819e34ac",
   "metadata": {},
   "source": [
    "# Matplotlib Introduction"
   ]
  },
  {
   "cell_type": "code",
   "execution_count": 9,
   "id": "c06cf2ca",
   "metadata": {},
   "outputs": [],
   "source": [
    "# Matplotlib is a low level graph plotting library in python that serves as a visualization utility.\n",
    "# Matplotlib is mostly written in python, a few segments are written in C, Objective-C and Javascript for Platform compatibility.\n",
    "# if not install then install using command\n",
    "# pip install matplotlib\n",
    "\n",
    "\n",
    "# import matplotlib\n",
    "\n",
    "# Most of the Matplotlib utilities lies under the pyplot submodule, and are usually imported under the plt alias\n",
    "import matplotlib.pyplot as plt\n",
    "import numpy as np"
   ]
  },
  {
   "cell_type": "code",
   "execution_count": 8,
   "id": "8de1cc3e",
   "metadata": {},
   "outputs": [
    {
     "name": "stdout",
     "output_type": "stream",
     "text": [
      "3.5.2\n"
     ]
    }
   ],
   "source": [
    "# version print\n",
    "# print(matplotlib.__version__)"
   ]
  },
  {
   "cell_type": "code",
   "execution_count": 11,
   "id": "e76878cd",
   "metadata": {},
   "outputs": [
    {
     "data": {
      "image/png": "[encoded data removed]",
      "text/plain": [
       "<Figure size 432x288 with 1 Axes>"
      ]
     },
     "metadata": {
      "needs_background": "light"
     },
     "output_type": "display_data"
    }
   ],
   "source": [
    "# Plotting x and y points\n",
    "# The plot() function is used to draw points (markers) in a diagram.\n",
    "# By default, the plot() function draws a line from point to point.\n",
    "# The function takes parameters for specifying points in the diagram.\n",
    "# Parameter 1 is an array containing the points on the x-axis.\n",
    "# Parameter 2 is an array containing the points on the y-axis.\n",
    "# If we need to plot a line from (0, 10) to (0, 100), we have to pass two arrays [0, 10] and [0, 100] to the plot function.\n",
    "xpoints = np.array([0,10])\n",
    "ypoints = np.array([0,100])\n",
    "plt.plot(xpoints, ypoints)\n",
    "plt.show() # Draw a line in a diagram from position (0,0) to position (10,100):\n",
    "\n"
   ]
  },
  {
   "cell_type": "markdown",
   "id": "71d448de",
   "metadata": {},
   "source": [
    "# Plotting Without Line"
   ]
  },
  {
   "cell_type": "code",
   "execution_count": null,
   "id": "bc119097",
   "metadata": {},
   "outputs": [],
   "source": [
    "# To plot only the markers, you can use shortcut string notation parameter 'o', which means 'rings'.\n",
    "xpoints = np.array([5,15])\n",
    "ypoints = np.array([30, 150])\n",
    "plt.plot(xpoints, ypoints, 'o')\n",
    "plt.show()"
   ]
  }
 ],
 "metadata": {
  "kernelspec": {
   "display_name": "Python 3 (ipykernel)",
   "language": "python",
   "name": "python3"
  },
  "language_info": {
   "codemirror_mode": {
    "name": "ipython",
    "version": 3
   },
   "file_extension": ".py",
   "mimetype": "text/x-python",
   "name": "python",
   "nbconvert_exporter": "python",
   "pygments_lexer": "ipython3",
   "version": "3.8.10"
  },
  "varInspector": {
   "cols": {
    "lenName": 16,
    "lenType": 16,
    "lenVar": 40
   },
   "kernels_config": {
    "python": {
     "delete_cmd_postfix": "",
     "delete_cmd_prefix": "del ",
     "library": "var_list.py",
     "varRefreshCmd": "print(var_dic_list())"
    },
    "r": {
     "delete_cmd_postfix": ") ",
     "delete_cmd_prefix": "rm(",
     "library": "var_list.r",
     "varRefreshCmd": "cat(var_dic_list()) "
    }
   },
   "types_to_exclude": [
    "module",
    "function",
    "builtin_function_or_method",
    "instance",
    "_Feature"
   ],
   "window_display": false
  }
 },
 "nbformat": 4,
 "nbformat_minor": 5
}
