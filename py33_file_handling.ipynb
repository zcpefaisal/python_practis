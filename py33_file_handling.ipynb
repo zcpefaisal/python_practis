{
 "cells": [
  {
   "cell_type": "code",
   "execution_count": 7,
   "id": "24f32008",
   "metadata": {},
   "outputs": [],
   "source": [
    "# File Handling\n",
    "# The key function for working with files in Python is the open() function.\n",
    "# The open() function takes two parameters; filename, and mode.\n",
    "# There are four different methods (modes) for opening a file:\n",
    "# \"r\" - Read - Default value. Opens a file for reading, error if the file does not exist\n",
    "# \"a\" - Append - Opens a file for appending, creates the file if it does not exist\n",
    "# \"w\" - Write - Opens a file for writing, creates the file if it does not exist\n",
    "# \"x\" - Create - Creates the specified file, returns an error if the file exists\n",
    "# In addition you can specify if the file should be handled as binary or text mode\n",
    "# \"t\" - Text - Default value. Text mode\n",
    "# \"b\" - Binary - Binary mode (e.g. images)\n",
    "f = open(\"demofile.txt\", \"x\") # create a text file name demofile"
   ]
  },
  {
   "cell_type": "code",
   "execution_count": 8,
   "id": "ed37e553",
   "metadata": {},
   "outputs": [],
   "source": [
    "f = open(\"demofile.txt\") \n",
    "# f = open(\"demofile.txt\", \"rt\") # both are same Because \"r\" for read, and \"t\" for text are the default values, you do not need to specify them."
   ]
  },
  {
   "cell_type": "code",
   "execution_count": 9,
   "id": "4c5ffdc3",
   "metadata": {},
   "outputs": [
    {
     "name": "stdout",
     "output_type": "stream",
     "text": [
      "<_io.TextIOWrapper name='demofile.txt' mode='r' encoding='UTF-8'>\n"
     ]
    }
   ],
   "source": [
    "print(f)"
   ]
  },
  {
   "cell_type": "code",
   "execution_count": 11,
   "id": "1afbbdfc",
   "metadata": {},
   "outputs": [],
   "source": [
    "# To write to an existing file, you must add a parameter to the open() function:\n",
    "# \"a\" - Append - will append to the end of the file\n",
    "# \"w\" - Write - will overwrite any existing content\n",
    "f = open(\"demofile.txt\", 'a')\n",
    "f.write(\"Now the file has more content!\")\n",
    "f.close()"
   ]
  },
  {
   "cell_type": "code",
   "execution_count": 12,
   "id": "ff5e9846",
   "metadata": {},
   "outputs": [
    {
     "name": "stdout",
     "output_type": "stream",
     "text": [
      "Now the file has more content!Now the file has more content!\n"
     ]
    }
   ],
   "source": [
    "f =  open(\"demofile.txt\", \"r\")\n",
    "print(f.read())"
   ]
  },
  {
   "cell_type": "code",
   "execution_count": 13,
   "id": "6ed6ee92",
   "metadata": {},
   "outputs": [],
   "source": [
    "f = open(\"demofile.txt\", \"w\")\n",
    "f.write(\"this is override test\")\n",
    "f.close()"
   ]
  },
  {
   "cell_type": "code",
   "execution_count": 14,
   "id": "ac186656",
   "metadata": {},
   "outputs": [
    {
     "name": "stdout",
     "output_type": "stream",
     "text": [
      "this is override test\n"
     ]
    }
   ],
   "source": [
    "f =  open(\"demofile.txt\", \"r\")\n",
    "print(f.read())"
   ]
  },
  {
   "cell_type": "code",
   "execution_count": 20,
   "id": "dcd4d5d5",
   "metadata": {},
   "outputs": [
    {
     "name": "stdout",
     "output_type": "stream",
     "text": [
      "this is override test\n",
      "\n"
     ]
    }
   ],
   "source": [
    "# Create a New File\n",
    "# To create a new file in Python, use the open() method, with one of the following parameters:\n",
    "# \"x\" - Create - will create a file, returns an error if the file exist\n",
    "# \"a\" - Append - will create a file if the specified file does not exist\n",
    "# \"w\" - Write - will create a file if the specified file does not exist\n",
    "# f = open(\"myfile.txt\", \"x\")\n",
    "f = open(\"myfile.txt\", \"w\")\n",
    "f = open(\"myfile.txt\", \"w\")\n",
    "f.write(\"this is override test\")\n",
    "f.close()\n",
    "\n",
    "# You can return one line by using the readline() method:\n",
    "f = open(\"demofile.txt\", \"r\")\n",
    "print(f.readline())\n",
    "print(f.readline())"
   ]
  },
  {
   "cell_type": "code",
   "execution_count": null,
   "id": "964b95be",
   "metadata": {},
   "outputs": [],
   "source": []
  }
 ],
 "metadata": {
  "kernelspec": {
   "display_name": "Python 3 (ipykernel)",
   "language": "python",
   "name": "python3"
  },
  "language_info": {
   "codemirror_mode": {
    "name": "ipython",
    "version": 3
   },
   "file_extension": ".py",
   "mimetype": "text/x-python",
   "name": "python",
   "nbconvert_exporter": "python",
   "pygments_lexer": "ipython3",
   "version": "3.8.10"
  },
  "varInspector": {
   "cols": {
    "lenName": 16,
    "lenType": 16,
    "lenVar": 40
   },
   "kernels_config": {
    "python": {
     "delete_cmd_postfix": "",
     "delete_cmd_prefix": "del ",
     "library": "var_list.py",
     "varRefreshCmd": "print(var_dic_list())"
    },
    "r": {
     "delete_cmd_postfix": ") ",
     "delete_cmd_prefix": "rm(",
     "library": "var_list.r",
     "varRefreshCmd": "cat(var_dic_list()) "
    }
   },
   "types_to_exclude": [
    "module",
    "function",
    "builtin_function_or_method",
    "instance",
    "_Feature"
   ],
   "window_display": false
  }
 },
 "nbformat": 4,
 "nbformat_minor": 5
}
