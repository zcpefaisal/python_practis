{
 "cells": [
  {
   "cell_type": "code",
   "execution_count": 20,
   "id": "94f5c0e2",
   "metadata": {},
   "outputs": [
    {
     "name": "stdout",
     "output_type": "stream",
     "text": [
      "<class 'int'>\n",
      "<class 'float'>\n",
      "<class 'complex'>\n"
     ]
    }
   ],
   "source": [
    "# integer is a whole number, positive or negative, without decimals, of unlimited lenght\n",
    "# float is a number, positive to negative, containing one or more decimals\n",
    "x = 10\n",
    "y = 3.14\n",
    "z = 10j\n",
    "print(type(x))\n",
    "print(type(y))\n",
    "print(type(z))"
   ]
  },
  {
   "cell_type": "code",
   "execution_count": 6,
   "id": "7000a2fe",
   "metadata": {},
   "outputs": [
    {
     "name": "stdout",
     "output_type": "stream",
     "text": [
      "<class 'float'>\n",
      "<class 'int'>\n",
      "<class 'complex'>\n",
      "<class 'complex'>\n"
     ]
    }
   ],
   "source": [
    "# type conversion\n",
    "print(type(float(x))) # convert from int to float\n",
    "print(type(int(y))) # convert from float to int\n",
    "print(type(complex(x))) # convert from int to complex\n",
    "print(type(complex(z))) # Cannot convert complex number to anther number type"
   ]
  },
  {
   "cell_type": "code",
   "execution_count": 21,
   "id": "ea053168",
   "metadata": {},
   "outputs": [
    {
     "name": "stdout",
     "output_type": "stream",
     "text": [
      "117\n"
     ]
    }
   ],
   "source": [
    "# random number\n",
    "# python dosenot have random function in built. python has built-in module called random\n",
    "import random\n",
    "rand = random.randrange(101,200)\n",
    "print(rand)"
   ]
  },
  {
   "cell_type": "code",
   "execution_count": 23,
   "id": "a46be846",
   "metadata": {},
   "outputs": [
    {
     "name": "stdout",
     "output_type": "stream",
     "text": [
      "<class 'int'>\n",
      "<class 'int'>\n",
      "<class 'int'>\n",
      "1\n",
      "3\n",
      "5\n"
     ]
    }
   ],
   "source": [
    "# type casting\n",
    "a = int(1)\n",
    "b = int(3.14)\n",
    "c = int(\"5\")\n",
    "\n",
    "print(type(a))\n",
    "print(type(b))\n",
    "print(type(c))\n",
    "print(a)\n",
    "print(b)\n",
    "print(c)"
   ]
  },
  {
   "cell_type": "code",
   "execution_count": 27,
   "id": "13f6da06",
   "metadata": {},
   "outputs": [
    {
     "name": "stdout",
     "output_type": "stream",
     "text": [
      "<class 'float'>\n",
      "<class 'float'>\n",
      "<class 'float'>\n",
      "1.0\n",
      "3.14\n",
      "5.0\n"
     ]
    }
   ],
   "source": [
    "aa = float(1)\n",
    "bb = float(3.14)\n",
    "cc = float(\"5\")\n",
    "print(type(aa))\n",
    "print(type(bb))\n",
    "print(type(cc))\n",
    "print(aa)\n",
    "print(bb)\n",
    "print(cc)"
   ]
  },
  {
   "cell_type": "code",
   "execution_count": 28,
   "id": "e7704084",
   "metadata": {},
   "outputs": [
    {
     "name": "stdout",
     "output_type": "stream",
     "text": [
      "<class 'str'>\n",
      "<class 'str'>\n",
      "<class 'str'>\n",
      "1\n",
      "3.14\n",
      "5\n"
     ]
    }
   ],
   "source": [
    "aaa = str(1)\n",
    "bbb = str(3.14)\n",
    "ccc = str(\"5\")\n",
    "print(type(aaa))\n",
    "print(type(bbb))\n",
    "print(type(ccc))\n",
    "print(aaa)\n",
    "print(bbb)\n",
    "print(ccc)"
   ]
  },
  {
   "cell_type": "code",
   "execution_count": null,
   "id": "f147d808",
   "metadata": {},
   "outputs": [],
   "source": []
  }
 ],
 "metadata": {
  "kernelspec": {
   "display_name": "Python 3 (ipykernel)",
   "language": "python",
   "name": "python3"
  },
  "language_info": {
   "codemirror_mode": {
    "name": "ipython",
    "version": 3
   },
   "file_extension": ".py",
   "mimetype": "text/x-python",
   "name": "python",
   "nbconvert_exporter": "python",
   "pygments_lexer": "ipython3",
   "version": "3.8.10"
  }
 },
 "nbformat": 4,
 "nbformat_minor": 5
}
