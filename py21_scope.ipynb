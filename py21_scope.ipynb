{
 "cells": [
  {
   "cell_type": "code",
   "execution_count": 1,
   "id": "f6597225",
   "metadata": {},
   "outputs": [
    {
     "name": "stdout",
     "output_type": "stream",
     "text": [
      "faisal\n"
     ]
    }
   ],
   "source": [
    "# Local Scope\n",
    "# A variable created inside a function belongs to the local scope of that function, and can only be used inside that function.\n",
    "def myfunc():\n",
    "    name = 'faisal'\n",
    "    print(name)\n",
    "\n",
    "myfunc()"
   ]
  },
  {
   "cell_type": "code",
   "execution_count": 2,
   "id": "a1a2eeb5",
   "metadata": {},
   "outputs": [
    {
     "name": "stdout",
     "output_type": "stream",
     "text": [
      "faisal\n"
     ]
    }
   ],
   "source": [
    "# Function Inside Function\n",
    "# As explained in the example above, the variable name is not available outside the function, but it is available for any function inside the function:\n",
    "\n",
    "def myfunc():\n",
    "    name = 'faisal'\n",
    "    def myinnerfunc():\n",
    "        print(name)\n",
    "    myinnerfunc()\n",
    "\n",
    "myfunc()"
   ]
  },
  {
   "cell_type": "code",
   "execution_count": 3,
   "id": "51cfef70",
   "metadata": {},
   "outputs": [
    {
     "name": "stdout",
     "output_type": "stream",
     "text": [
      "faisal\n",
      "faisal\n"
     ]
    }
   ],
   "source": [
    "# Global Scope\n",
    "# A variable created in the main body of the Python code is a global variable and belongs to the global scope.\n",
    "# Global variables are available from within any scope, global and local.\n",
    "name = 'faisal'\n",
    "\n",
    "def myfunc():\n",
    "    print(name)\n",
    "\n",
    "myfunc()\n",
    "\n",
    "print(name)"
   ]
  },
  {
   "cell_type": "code",
   "execution_count": 4,
   "id": "07e2a7e8",
   "metadata": {},
   "outputs": [
    {
     "name": "stdout",
     "output_type": "stream",
     "text": [
      "alam\n",
      "faisal\n"
     ]
    }
   ],
   "source": [
    "# Naming Variables\n",
    "# If you operate with the same variable name inside and outside of a function, Python will treat them as two separate variables, \n",
    "# one available in the global scope (outside the function) and one available in the local scope (inside the function):\n",
    "name = 'faisal'\n",
    "\n",
    "def myfunc():\n",
    "    name = 'alam'\n",
    "    print(name) # alam\n",
    "\n",
    "myfunc()\n",
    "\n",
    "print(name) # faisal"
   ]
  },
  {
   "cell_type": "code",
   "execution_count": 7,
   "id": "492d8ab3",
   "metadata": {},
   "outputs": [
    {
     "name": "stdout",
     "output_type": "stream",
     "text": [
      "faisal\n"
     ]
    }
   ],
   "source": [
    "# Global Keyword\n",
    "# If you need to create a global variable, but are stuck in the local scope, you can use the global keyword.\n",
    "# The global keyword makes the variable global.\n",
    "def myfunc():\n",
    "    \n",
    "    global name\n",
    "    name = 'faisal'\n",
    "\n",
    "myfunc()\n",
    "\n",
    "print(name)"
   ]
  },
  {
   "cell_type": "code",
   "execution_count": 9,
   "id": "a89bc27b",
   "metadata": {},
   "outputs": [
    {
     "name": "stdout",
     "output_type": "stream",
     "text": [
      "alam\n"
     ]
    }
   ],
   "source": [
    "# To change the value of a global variable inside a function, refer to the variable by using the global keyword:\n",
    "\n",
    "name = 'faisal'\n",
    "\n",
    "def myfunc():\n",
    "    global x\n",
    "    x = 'alam'\n",
    "\n",
    "myfunc()\n",
    "\n",
    "print(x) # alam"
   ]
  },
  {
   "cell_type": "code",
   "execution_count": null,
   "id": "a1a32ae9",
   "metadata": {},
   "outputs": [],
   "source": []
  }
 ],
 "metadata": {
  "kernelspec": {
   "display_name": "Python 3 (ipykernel)",
   "language": "python",
   "name": "python3"
  },
  "language_info": {
   "codemirror_mode": {
    "name": "ipython",
    "version": 3
   },
   "file_extension": ".py",
   "mimetype": "text/x-python",
   "name": "python",
   "nbconvert_exporter": "python",
   "pygments_lexer": "ipython3",
   "version": "3.8.10"
  },
  "varInspector": {
   "cols": {
    "lenName": 16,
    "lenType": 16,
    "lenVar": 40
   },
   "kernels_config": {
    "python": {
     "delete_cmd_postfix": "",
     "delete_cmd_prefix": "del ",
     "library": "var_list.py",
     "varRefreshCmd": "print(var_dic_list())"
    },
    "r": {
     "delete_cmd_postfix": ") ",
     "delete_cmd_prefix": "rm(",
     "library": "var_list.r",
     "varRefreshCmd": "cat(var_dic_list()) "
    }
   },
   "types_to_exclude": [
    "module",
    "function",
    "builtin_function_or_method",
    "instance",
    "_Feature"
   ],
   "window_display": false
  }
 },
 "nbformat": 4,
 "nbformat_minor": 5
}
