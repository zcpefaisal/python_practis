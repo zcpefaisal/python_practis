{
 "cells": [
  {
   "cell_type": "code",
   "execution_count": 2,
   "id": "df1eb78c",
   "metadata": {},
   "outputs": [
    {
     "name": "stdout",
     "output_type": "stream",
     "text": [
      "hello hello\n"
     ]
    }
   ],
   "source": [
    "a = \"hello\" # assign string in variable\n",
    "b = 'hello'\n",
    "print(a, b) # String in python are surrounded by either single quote to double quote"
   ]
  },
  {
   "cell_type": "code",
   "execution_count": 6,
   "id": "ff9d921b",
   "metadata": {},
   "outputs": [],
   "source": [
    "# multi line stirng (\"\"\"asdf\"\"\" or '''asdf''')\n",
    "c = \"\"\"Lorem Ipsum is simply dummy text of the printing and typesetting industry. \n",
    "Lorem Ipsum has been the industry's standard dummy text ever since the 1500s, \n",
    "when an unknown printer took a galley of type and scrambled it to make a type specimen book. \n",
    "It has survived not only five centuries, but also the leap into electronic typesetting, \n",
    "remaining essentially unchanged. \n",
    "It was popularised in the 1960s with the release of Letraset sheets containing Lorem Ipsum passages, \n",
    "and more recently with desktop publishing software like Aldus PageMaker including versions of Lorem Ipsum.\"\"\""
   ]
  },
  {
   "cell_type": "code",
   "execution_count": 8,
   "id": "f40e586a",
   "metadata": {},
   "outputs": [
    {
     "name": "stdout",
     "output_type": "stream",
     "text": [
      "Lorem Ipsum is simply dummy text of the printing and typesetting industry. \n",
      "Lorem Ipsum has been the industry's standard dummy text ever since the 1500s, \n",
      "when an unknown printer took a galley of type and scrambled it to make a type specimen book. \n",
      "It has survived not only five centuries, but also the leap into electronic typesetting, \n",
      "remaining essentially unchanged. \n",
      "It was popularised in the 1960s with the release of Letraset sheets containing Lorem Ipsum passages, \n",
      "and more recently with desktop publishing software like Aldus PageMaker including versions of Lorem Ipsum.\n"
     ]
    }
   ],
   "source": [
    "print(c) # line break are inserted at the same position as in the code"
   ]
  },
  {
   "cell_type": "code",
   "execution_count": 11,
   "id": "b26284dd",
   "metadata": {},
   "outputs": [
    {
     "name": "stdout",
     "output_type": "stream",
     "text": [
      "F A\n"
     ]
    }
   ],
   "source": [
    "name = 'Faisal Alam' # python dosenot have character data type, a single character is a string with lingth of 1\n",
    "print(name[0], name[7])"
   ]
  },
  {
   "cell_type": "code",
   "execution_count": 12,
   "id": "62bf3fef",
   "metadata": {},
   "outputs": [
    {
     "name": "stdout",
     "output_type": "stream",
     "text": [
      "F\n",
      "a\n",
      "i\n",
      "s\n",
      "a\n",
      "l\n",
      " \n",
      "A\n",
      "l\n",
      "a\n",
      "m\n"
     ]
    }
   ],
   "source": [
    "for x in name:\n",
    "    print(x)"
   ]
  },
  {
   "cell_type": "code",
   "execution_count": 14,
   "id": "35a8938f",
   "metadata": {},
   "outputs": [
    {
     "name": "stdout",
     "output_type": "stream",
     "text": [
      "11\n"
     ]
    }
   ],
   "source": [
    "print(len(name)) # getting the lenght of the string"
   ]
  },
  {
   "cell_type": "code",
   "execution_count": 17,
   "id": "8fe83c72",
   "metadata": {},
   "outputs": [
    {
     "name": "stdout",
     "output_type": "stream",
     "text": [
      "True\n"
     ]
    }
   ],
   "source": [
    "print('sa' in name) # check if \"sa\" is present in then string, return True, other wise False"
   ]
  },
  {
   "cell_type": "code",
   "execution_count": 19,
   "id": "ce364770",
   "metadata": {},
   "outputs": [
    {
     "name": "stdout",
     "output_type": "stream",
     "text": [
      "Yes \"sa\" is present\n"
     ]
    }
   ],
   "source": [
    "if 'sa' in name:\n",
    "    print('Yes \"sa\" is present')"
   ]
  },
  {
   "cell_type": "code",
   "execution_count": 22,
   "id": "31fcf782",
   "metadata": {
    "scrolled": true
   },
   "outputs": [
    {
     "name": "stdout",
     "output_type": "stream",
     "text": [
      "No \"test not present\"\n"
     ]
    }
   ],
   "source": [
    "if 'ra' not in name:\n",
    "    print('No \"test not present\"')"
   ]
  },
  {
   "cell_type": "code",
   "execution_count": 24,
   "id": "8286af86",
   "metadata": {},
   "outputs": [
    {
     "name": "stdout",
     "output_type": "stream",
     "text": [
      "Faisa\n"
     ]
    }
   ],
   "source": [
    "# slice from the starting position\n",
    "print(name[:5]) # start 0 and end 4 (5 not included, that means position not included)"
   ]
  },
  {
   "cell_type": "code",
   "execution_count": 27,
   "id": "0867a234",
   "metadata": {},
   "outputs": [
    {
     "name": "stdout",
     "output_type": "stream",
     "text": [
      "sal Alam\n"
     ]
    }
   ],
   "source": [
    "# slice form the ending position\n",
    "print(name[3:]) # start 3 to end of the string"
   ]
  },
  {
   "cell_type": "code",
   "execution_count": 29,
   "id": "70b7f757",
   "metadata": {},
   "outputs": [
    {
     "name": "stdout",
     "output_type": "stream",
     "text": [
      "Al\n"
     ]
    }
   ],
   "source": [
    "# Negative indexing\n",
    "print(name[-4:-2])"
   ]
  },
  {
   "cell_type": "code",
   "execution_count": 31,
   "id": "096b29ef",
   "metadata": {},
   "outputs": [
    {
     "name": "stdout",
     "output_type": "stream",
     "text": [
      "FAISAL ALAM\n"
     ]
    }
   ],
   "source": [
    "print(name.upper())"
   ]
  },
  {
   "cell_type": "code",
   "execution_count": 32,
   "id": "b757e502",
   "metadata": {},
   "outputs": [
    {
     "name": "stdout",
     "output_type": "stream",
     "text": [
      "faisal alam\n"
     ]
    }
   ],
   "source": [
    "print(name.lower())"
   ]
  },
  {
   "cell_type": "code",
   "execution_count": 34,
   "id": "8ccb8c12",
   "metadata": {},
   "outputs": [
    {
     "name": "stdout",
     "output_type": "stream",
     "text": [
      "Faisal Alam\n"
     ]
    }
   ],
   "source": [
    "print(name.strip()) # remove any whitespace form the beginning to the end"
   ]
  },
  {
   "cell_type": "code",
   "execution_count": 37,
   "id": "bc4eba8e",
   "metadata": {},
   "outputs": [
    {
     "name": "stdout",
     "output_type": "stream",
     "text": [
      "Faisal-Alam\n"
     ]
    }
   ],
   "source": [
    "# replace string\n",
    "print(name.replace(' ', '-'))\n",
    "# name[6] = '-' # Python string data type are immutable # Can not reassign. # TypeError: 'str' object does not support item assignment\n",
    "# print(name)"
   ]
  },
  {
   "cell_type": "code",
   "execution_count": 40,
   "id": "4034bd28",
   "metadata": {},
   "outputs": [
    {
     "name": "stdout",
     "output_type": "stream",
     "text": [
      "F = 140507172877104\n",
      "a = 140507172850224\n",
      "i = 140507173624688\n",
      "s = 140507173621808\n",
      "a = 140507172850224\n",
      "l = 140507172692400\n",
      "  = 140507171995568\n",
      "A = 140507172357424\n",
      "l = 140507172692400\n",
      "a = 140507172850224\n"
     ]
    }
   ],
   "source": [
    "for idIndex in range(0, 10):\n",
    "    print(name[idIndex], '=', id(name[idIndex])) # checking memory location address of the position of the letters"
   ]
  },
  {
   "cell_type": "code",
   "execution_count": 45,
   "id": "63d200b4",
   "metadata": {},
   "outputs": [
    {
     "name": "stdout",
     "output_type": "stream",
     "text": [
      "Faisal Alam\n",
      "['Faisal', 'Alam']\n",
      "Faisal Alam\n"
     ]
    }
   ],
   "source": [
    "# String Split\n",
    "print(name)\n",
    "print(name.split(\" \"))\n",
    "print(name)"
   ]
  },
  {
   "cell_type": "code",
   "execution_count": 46,
   "id": "54abd861",
   "metadata": {},
   "outputs": [
    {
     "name": "stdout",
     "output_type": "stream",
     "text": [
      "['Faisal', 'Alam']\n"
     ]
    }
   ],
   "source": [
    "# split with new variable and concatenate practis\n",
    "newName = name.split(' ')\n",
    "print(newName)"
   ]
  },
  {
   "cell_type": "code",
   "execution_count": 49,
   "id": "015fed30",
   "metadata": {},
   "outputs": [
    {
     "name": "stdout",
     "output_type": "stream",
     "text": [
      "Faisal ** Alam\n"
     ]
    }
   ],
   "source": [
    "print(newName[0] + ' ** ' + newName[1]) # concate with ( ** )"
   ]
  },
  {
   "cell_type": "code",
   "execution_count": 55,
   "id": "8f7a4a72",
   "metadata": {},
   "outputs": [
    {
     "name": "stdout",
     "output_type": "stream",
     "text": [
      "My name is Faisal, I am 31\n"
     ]
    }
   ],
   "source": [
    "# String Format \n",
    "# age = 31\n",
    "# text = \"My name is Faisal, I am \" + age # TypeError: can only concatenate str (not \"int\") to str\n",
    "# print(text)\n",
    "\n",
    "age = 31\n",
    "text = \"My name is Faisal, I am {}\"\n",
    "print(text.format(age))"
   ]
  },
  {
   "cell_type": "code",
   "execution_count": 56,
   "id": "35dd1837",
   "metadata": {},
   "outputs": [
    {
     "name": "stdout",
     "output_type": "stream",
     "text": [
      "I want 10 pieces of item 200 for 50 taka\n"
     ]
    }
   ],
   "source": [
    "qty = 10\n",
    "item = 200\n",
    "price = 50\n",
    "order = \"I want {} pieces of item {} for {} BDT\"\n",
    "print(order.format(qty, item, price))"
   ]
  },
  {
   "cell_type": "code",
   "execution_count": 57,
   "id": "d994fbe0",
   "metadata": {},
   "outputs": [
    {
     "name": "stdout",
     "output_type": "stream",
     "text": [
      "I want to pay 50 BDT for 10 pieces of item 200\n"
     ]
    }
   ],
   "source": [
    "order = \"I want to pay {2} BDT for {0} pieces of item {1}\"\n",
    "print(order.format(qty, item, price))"
   ]
  },
  {
   "cell_type": "code",
   "execution_count": 59,
   "id": "df45d8c7",
   "metadata": {},
   "outputs": [
    {
     "name": "stdout",
     "output_type": "stream",
     "text": [
      "We are the so-called \"Vikings\" from the north.\n"
     ]
    }
   ],
   "source": [
    "# Character Escaping\n",
    "txt = \"We are the so-called \\\"Vikings\\\" from the north.\"\n",
    "print(txt)"
   ]
  },
  {
   "cell_type": "code",
   "execution_count": 60,
   "id": "f8b7b3cc",
   "metadata": {},
   "outputs": [],
   "source": [
    "# Escape characters\n",
    "# \\' or \\\" = single or double quote\n",
    "# \\\\  = Backslash\n",
    "# \\n = new line\n",
    "# \\r = carriage return\n",
    "# \\t = tab\n",
    "# \\b = backspace\n",
    "# \\f = Form feed\n",
    "# \\ooo = Octal value\n",
    "# \\xhh = Hex value"
   ]
  },
  {
   "cell_type": "code",
   "execution_count": null,
   "id": "49026e92",
   "metadata": {},
   "outputs": [],
   "source": []
  }
 ],
 "metadata": {
  "kernelspec": {
   "display_name": "Python 3 (ipykernel)",
   "language": "python",
   "name": "python3"
  },
  "language_info": {
   "codemirror_mode": {
    "name": "ipython",
    "version": 3
   },
   "file_extension": ".py",
   "mimetype": "text/x-python",
   "name": "python",
   "nbconvert_exporter": "python",
   "pygments_lexer": "ipython3",
   "version": "3.8.10"
  }
 },
 "nbformat": 4,
 "nbformat_minor": 5
}
