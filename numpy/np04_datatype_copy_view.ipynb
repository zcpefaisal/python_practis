{
 "cells": [
  {
   "cell_type": "code",
   "execution_count": 1,
   "id": "29dbc18b",
   "metadata": {},
   "outputs": [],
   "source": [
    "# Data Types in Python\n",
    "# By default Python have these data types:\n",
    "# strings - used to represent text data, the text is given under quote marks. e.g. \"ABCD\"\n",
    "# integer - used to represent integer numbers. e.g. -1, -2, -3\n",
    "# float - used to represent real numbers. e.g. 1.2, 42.42\n",
    "# boolean - used to represent True or False.\n",
    "# complex - used to represent complex numbers. e.g. 1.0 + 2.0j, 1.5 + 2.5j\n",
    "\n",
    "# Data Types in NumPy\n",
    "# NumPy has some extra data types, and refer to data types with one character, like i for integers, u for unsigned integers etc.\n",
    "\n",
    "# i - integer\n",
    "# b - boolean\n",
    "# u - unsigned integer\n",
    "# f - float\n",
    "# c - complex float\n",
    "# m - timedelta\n",
    "# M - datetime\n",
    "# O - object\n",
    "# S - string\n",
    "# U - unicode string\n",
    "# V - fixed chunk of memory for other type ( void )\n",
    "\n",
    "import numpy as np\n"
   ]
  },
  {
   "cell_type": "code",
   "execution_count": 4,
   "id": "8cd0bead",
   "metadata": {},
   "outputs": [
    {
     "name": "stdout",
     "output_type": "stream",
     "text": [
      "int64\n",
      "<U6\n"
     ]
    }
   ],
   "source": [
    "# Checking the Data Type of an Array\n",
    "arr1 = np.array([1, 2, 3, 4])\n",
    "print(arr1.dtype)\n",
    "arr2 = np.array(['apple', 'banana', 'cherry'])\n",
    "print(arr2.dtype)"
   ]
  },
  {
   "cell_type": "code",
   "execution_count": 5,
   "id": "e2a25355",
   "metadata": {},
   "outputs": [
    {
     "name": "stdout",
     "output_type": "stream",
     "text": [
      "[b'1' b'2' b'3' b'4']\n",
      "|S1\n"
     ]
    }
   ],
   "source": [
    "# We use the array() function to create arrays, this function can take an optional argument: dtype that allows us to define the expected data type of the array elements:\n",
    "arr = np.array([1, 2, 3, 4], dtype='S')\n",
    "\n",
    "print(arr)\n",
    "print(arr.dtype)"
   ]
  },
  {
   "cell_type": "code",
   "execution_count": 10,
   "id": "6d58518b",
   "metadata": {},
   "outputs": [
    {
     "name": "stdout",
     "output_type": "stream",
     "text": [
      "[1 2 3 4]\n",
      "int32\n"
     ]
    }
   ],
   "source": [
    "# For i, u, f, S and U we can define size as well.\n",
    "\n",
    "arr = np.array([1, 2, 3, 4], dtype='i4')\n",
    "print(arr)\n",
    "print(arr.dtype)"
   ]
  },
  {
   "cell_type": "code",
   "execution_count": 12,
   "id": "7616b3d2",
   "metadata": {},
   "outputs": [],
   "source": [
    "# What if a Value Can Not Be Converted?\n",
    "# If a type is given in which elements can't be casted then NumPy will raise a ValueError.\n",
    "# A non integer string like 'a' can not be converted to integer (will raise an error):\n",
    "# arr = np.array(['a', '2', '3'], dtype='i') # ValueError: invalid literal for int() with base 10: 'a'\n"
   ]
  },
  {
   "cell_type": "code",
   "execution_count": 14,
   "id": "f5e69fa2",
   "metadata": {},
   "outputs": [
    {
     "name": "stdout",
     "output_type": "stream",
     "text": [
      "[1 2 3]\n",
      "int32\n",
      "[1. 2. 3. 4.]\n",
      "float32\n"
     ]
    }
   ],
   "source": [
    "# The best way to change the data type of an existing array, is to make a copy of the array with the astype() method.\n",
    "# The astype() function creates a copy of the array, and allows you to specify the data type as a parameter.\n",
    "# The data type can be specified using a string, like 'f' for float, 'i' for integer etc. or you can use the data type directly like float for float and int for integer.\n",
    "\n",
    "arr = np.array([1.1, 2.1, 3.1])\n",
    "newarr = arr.astype('i')\n",
    "# newarr = arr.astype(int) # also can use int\n",
    "print(newarr)\n",
    "print(newarr.dtype)\n",
    "\n",
    "arr = np.array([1,2,3,4])\n",
    "newarr = arr.astype('f')\n",
    "print(newarr)\n",
    "print(newarr.dtype)\n",
    "\n"
   ]
  },
  {
   "cell_type": "code",
   "execution_count": 15,
   "id": "097dfa9d",
   "metadata": {},
   "outputs": [
    {
     "name": "stdout",
     "output_type": "stream",
     "text": [
      "[ True False  True]\n",
      "bool\n"
     ]
    }
   ],
   "source": [
    "arr = np.array([1, 0, 3])\n",
    "newarr = arr.astype(bool)\n",
    "print(newarr)\n",
    "print(newarr.dtype)"
   ]
  },
  {
   "cell_type": "code",
   "execution_count": 17,
   "id": "e80fd13f",
   "metadata": {},
   "outputs": [
    {
     "name": "stdout",
     "output_type": "stream",
     "text": [
      "[ 1 50  3  4  5]\n",
      "[1 2 3 4 5]\n"
     ]
    }
   ],
   "source": [
    "# The Difference Between Copy and View\n",
    "# The main difference between a copy and a view of an array is that the copy is a new array, and the view is just a view of the original array.\n",
    "# The copy owns the data and any changes made to the copy will not affect original array, and any changes made to the original array will not affect the copy.\n",
    "# The view does not own the data and any changes made to the view will affect the original array, and any changes made to the original array will affect the view.\n",
    "\n",
    "# Make a copy, change the original array, and display both arrays:\n",
    "# The copy SHOULD NOT be affected by the changes made to the original array.\n",
    "arr = np.array([1, 2, 3, 4, 5])\n",
    "x = arr.copy()\n",
    "arr[1] = 50\n",
    "print(arr)\n",
    "print(x)\n",
    "\n"
   ]
  },
  {
   "cell_type": "code",
   "execution_count": 18,
   "id": "3fac64d0",
   "metadata": {},
   "outputs": [
    {
     "name": "stdout",
     "output_type": "stream",
     "text": [
      "[ 1 50  3  4  5]\n",
      "[ 1 50  3  4  5]\n"
     ]
    }
   ],
   "source": [
    "# Make a view, change the original array, and display both arrays:\n",
    "arr = np.array([1, 2, 3, 4, 5])\n",
    "x = arr.view()\n",
    "arr[1] = 50\n",
    "\n",
    "print(arr)\n",
    "print(x)"
   ]
  },
  {
   "cell_type": "code",
   "execution_count": 20,
   "id": "308046a8",
   "metadata": {},
   "outputs": [
    {
     "name": "stdout",
     "output_type": "stream",
     "text": [
      "[1 2 3 4 5]\n",
      "[1 2 3 4 5]\n",
      "None\n",
      "[1 2 3 4 5]\n"
     ]
    }
   ],
   "source": [
    "# Check if Array Owns its Data\n",
    "# As mentioned above, copies owns the data, and views does not own the data, but how can we check this?\n",
    "# Every NumPy array has the attribute base that returns None if the array owns the data.\n",
    "# Otherwise, the base  attribute refers to the original object.\n",
    "arr = np.array([1, 2, 3, 4, 5])\n",
    "\n",
    "x = arr.copy()\n",
    "y = arr.view()\n",
    "\n",
    "print(x)\n",
    "print(y)\n",
    "print(x.base) # None\n",
    "print(y.base) # [1 2 3 4 5]"
   ]
  },
  {
   "cell_type": "code",
   "execution_count": null,
   "id": "f4d45ea1",
   "metadata": {},
   "outputs": [],
   "source": []
  }
 ],
 "metadata": {
  "kernelspec": {
   "display_name": "Python 3 (ipykernel)",
   "language": "python",
   "name": "python3"
  },
  "language_info": {
   "codemirror_mode": {
    "name": "ipython",
    "version": 3
   },
   "file_extension": ".py",
   "mimetype": "text/x-python",
   "name": "python",
   "nbconvert_exporter": "python",
   "pygments_lexer": "ipython3",
   "version": "3.8.10"
  },
  "varInspector": {
   "cols": {
    "lenName": 16,
    "lenType": 16,
    "lenVar": 40
   },
   "kernels_config": {
    "python": {
     "delete_cmd_postfix": "",
     "delete_cmd_prefix": "del ",
     "library": "var_list.py",
     "varRefreshCmd": "print(var_dic_list())"
    },
    "r": {
     "delete_cmd_postfix": ") ",
     "delete_cmd_prefix": "rm(",
     "library": "var_list.r",
     "varRefreshCmd": "cat(var_dic_list()) "
    }
   },
   "types_to_exclude": [
    "module",
    "function",
    "builtin_function_or_method",
    "instance",
    "_Feature"
   ],
   "window_display": false
  }
 },
 "nbformat": 4,
 "nbformat_minor": 5
}
