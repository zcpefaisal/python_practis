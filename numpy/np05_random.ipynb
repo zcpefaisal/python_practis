{
 "cells": [
  {
   "cell_type": "code",
   "execution_count": 4,
   "id": "6a199606",
   "metadata": {},
   "outputs": [
    {
     "name": "stdout",
     "output_type": "stream",
     "text": [
      "[0.0260572  0.952423   0.34993313 0.13228616]\n"
     ]
    }
   ],
   "source": [
    "# NumPy offers the random module to work with random numbers.\n",
    "\n",
    "import numpy as np\n",
    "\n",
    "# The random module's rand() method returns a random float between 0 and 1.\n",
    "\n",
    "arr = np.random.rand(4) # Generate a random float from 0 to 1:\n",
    "print(arr)"
   ]
  },
  {
   "cell_type": "code",
   "execution_count": 3,
   "id": "dbace302",
   "metadata": {},
   "outputs": [
    {
     "name": "stdout",
     "output_type": "stream",
     "text": [
      "[[0.52659808 0.99640679 0.23012003 0.97839798 0.23021794]\n",
      " [0.00210265 0.63576954 0.39177349 0.96245766 0.7510069 ]\n",
      " [0.42249858 0.39200793 0.00716006 0.18169521 0.14790335]]\n"
     ]
    }
   ],
   "source": [
    "# The random module's rand() method returns a random float between 0 and 1.\n",
    "# Generate a 2-D array with 3 rows, each row containing 5 random numbers:\n",
    "arr2 = np.random.rand(3,5)\n",
    "print(arr2)"
   ]
  },
  {
   "cell_type": "code",
   "execution_count": 5,
   "id": "4bc6e2d0",
   "metadata": {},
   "outputs": [
    {
     "name": "stdout",
     "output_type": "stream",
     "text": [
      "[[-1.73306682 -1.2478307  -0.90281433  0.38391553  1.02446836]\n",
      " [-0.91527936 -1.09417409 -0.73071771 -1.07687751 -0.64847255]\n",
      " [-1.5108347   0.7598646  -1.06131081 -0.83086171 -0.93294502]]\n"
     ]
    }
   ],
   "source": [
    "# The random module's rand() method returns a random float between -1 and 1.\n",
    "# Generate a 2-D array with 3 rows, each row containing 5 random numbers:\n",
    "arr3 = np.random.randn(3,5)\n",
    "print(arr3)"
   ]
  },
  {
   "cell_type": "code",
   "execution_count": 6,
   "id": "e3a173b5",
   "metadata": {},
   "outputs": [
    {
     "name": "stdout",
     "output_type": "stream",
     "text": [
      "[0.95591236 0.64432869 0.21414193 0.68745937]\n"
     ]
    }
   ],
   "source": [
    "arr4 = np.random.ranf(4)\n",
    "print(arr4)"
   ]
  },
  {
   "cell_type": "code",
   "execution_count": 9,
   "id": "1e70fdfe",
   "metadata": {},
   "outputs": [
    {
     "name": "stdout",
     "output_type": "stream",
     "text": [
      "[89 92 96 37 80]\n"
     ]
    }
   ],
   "source": [
    "arr5 = np.random.randint(10, 100, 5) # (min value, max value, total value)\n",
    "print(arr5)"
   ]
  },
  {
   "cell_type": "code",
   "execution_count": 12,
   "id": "24501922",
   "metadata": {},
   "outputs": [
    {
     "name": "stdout",
     "output_type": "stream",
     "text": [
      "[83 74 40 79 46]\n"
     ]
    }
   ],
   "source": [
    "# Generate a 1-D array containing 5 random integers from 0 to 100:\n",
    "x=np.random.randint(100, size=(5))\n",
    "print(x)"
   ]
  },
  {
   "cell_type": "code",
   "execution_count": 15,
   "id": "52e91557",
   "metadata": {},
   "outputs": [
    {
     "name": "stdout",
     "output_type": "stream",
     "text": [
      "[0. 0. 0. 0.]\n",
      "\n",
      "[[0. 0. 0. 0.]\n",
      " [0. 0. 0. 0.]\n",
      " [0. 0. 0. 0.]]\n"
     ]
    }
   ],
   "source": [
    "# Array filled with 0\n",
    "arr_zero = np.zeros(4)\n",
    "arr_zero_1 = np.zeros((3,4))\n",
    "print(arr_zero)\n",
    "print()\n",
    "print(arr_zero_1)"
   ]
  },
  {
   "cell_type": "code",
   "execution_count": 16,
   "id": "512fe402",
   "metadata": {},
   "outputs": [
    {
     "name": "stdout",
     "output_type": "stream",
     "text": [
      "[1. 1. 1. 1.]\n",
      "\n",
      "[[1. 1. 1. 1.]\n",
      " [1. 1. 1. 1.]\n",
      " [1. 1. 1. 1.]]\n"
     ]
    }
   ],
   "source": [
    "# Array filled with 1\n",
    "arr_one = np.ones(4)\n",
    "arr_one_1 = np.ones((3,4))\n",
    "print(arr_one)\n",
    "print()\n",
    "print(arr_one_1)"
   ]
  },
  {
   "cell_type": "code",
   "execution_count": 20,
   "id": "27b067d8",
   "metadata": {},
   "outputs": [
    {
     "name": "stdout",
     "output_type": "stream",
     "text": [
      "[0. 0. 0. 0.]\n"
     ]
    }
   ],
   "source": [
    "# create an enpty array\n",
    "arr_epmty = np.empty(4)\n",
    "print(arr_epmty)"
   ]
  },
  {
   "cell_type": "code",
   "execution_count": 21,
   "id": "636dd8e7",
   "metadata": {},
   "outputs": [
    {
     "name": "stdout",
     "output_type": "stream",
     "text": [
      "[0 1 2 3]\n"
     ]
    }
   ],
   "source": [
    "# array with range of elements\n",
    "arr_range = np.arange(4)\n",
    "print(arr_range)"
   ]
  },
  {
   "cell_type": "code",
   "execution_count": 27,
   "id": "bc22a08e",
   "metadata": {},
   "outputs": [
    {
     "name": "stdout",
     "output_type": "stream",
     "text": [
      "[[1. 0. 0. 0. 0.]\n",
      " [0. 1. 0. 0. 0.]\n",
      " [0. 0. 1. 0. 0.]\n",
      " [0. 0. 0. 1. 0.]]\n"
     ]
    }
   ],
   "source": [
    "# array diagonal element filled with 1\n",
    "# arr_diag = np.eye(3)\n",
    "arr_diag = np.eye(4,5)\n",
    "print(arr_diag)"
   ]
  },
  {
   "cell_type": "code",
   "execution_count": 28,
   "id": "2add45f3",
   "metadata": {},
   "outputs": [
    {
     "name": "stdout",
     "output_type": "stream",
     "text": [
      "[ 1.    3.25  5.5   7.75 10.  ]\n"
     ]
    }
   ],
   "source": [
    "# create an array with values that are spaced linearly in a specified interval\n",
    "arr_lin = np.linspace(1,10, num=5)\n",
    "print(arr_lin)"
   ]
  },
  {
   "cell_type": "code",
   "execution_count": null,
   "id": "cb601372",
   "metadata": {},
   "outputs": [],
   "source": []
  }
 ],
 "metadata": {
  "kernelspec": {
   "display_name": "Python 3 (ipykernel)",
   "language": "python",
   "name": "python3"
  },
  "language_info": {
   "codemirror_mode": {
    "name": "ipython",
    "version": 3
   },
   "file_extension": ".py",
   "mimetype": "text/x-python",
   "name": "python",
   "nbconvert_exporter": "python",
   "pygments_lexer": "ipython3",
   "version": "3.8.10"
  },
  "varInspector": {
   "cols": {
    "lenName": 16,
    "lenType": 16,
    "lenVar": 40
   },
   "kernels_config": {
    "python": {
     "delete_cmd_postfix": "",
     "delete_cmd_prefix": "del ",
     "library": "var_list.py",
     "varRefreshCmd": "print(var_dic_list())"
    },
    "r": {
     "delete_cmd_postfix": ") ",
     "delete_cmd_prefix": "rm(",
     "library": "var_list.r",
     "varRefreshCmd": "cat(var_dic_list()) "
    }
   },
   "types_to_exclude": [
    "module",
    "function",
    "builtin_function_or_method",
    "instance",
    "_Feature"
   ],
   "window_display": false
  }
 },
 "nbformat": 4,
 "nbformat_minor": 5
}
