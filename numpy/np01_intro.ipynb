{
 "cells": [
  {
   "cell_type": "code",
   "execution_count": null,
   "id": "7a940f38",
   "metadata": {},
   "outputs": [],
   "source": [
    "# NumPy is a Python library used for working with arrays.\n",
    "# It also has functions for working in domain of linear algebra, fourier transform, and matrices.\n",
    "# NumPy stands for Numerical Python.\n",
    "# In Python we have lists that serve the purpose of arrays, but they are slow to process.\n",
    "# NumPy aims to provide an array object that is up to 50x faster than traditional Python lists.\n",
    "# The array object in NumPy is called ndarray, it provides a lot of supporting functions that make working with ndarray very easy.\n",
    "# NumPy arrays are stored at one continuous place in memory unlike lists, so processes can access and manipulate them very efficiently.\n",
    "# This behavior is called locality of reference in computer science.\n",
    "# NumPy is optimized to work with latest CPU architectures\n",
    "# NumPy is a Python library and is written partially in Python, but most of the parts that require fast computation are written in C or C++."
   ]
  },
  {
   "cell_type": "code",
   "execution_count": 35,
   "id": "309935b7",
   "metadata": {},
   "outputs": [],
   "source": [
    "# pip list"
   ]
  },
  {
   "cell_type": "code",
   "execution_count": 3,
   "id": "9cc05f74",
   "metadata": {},
   "outputs": [
    {
     "name": "stdout",
     "output_type": "stream",
     "text": [
      "1.22.4\n"
     ]
    }
   ],
   "source": [
    "# NumPy install comand -> pip install numpy\n",
    "import numpy as np\n",
    "# NumPy is usually imported under the np alias.\n",
    "\n",
    "print(np.__version__) # Checking NumPy Version"
   ]
  },
  {
   "cell_type": "code",
   "execution_count": 8,
   "id": "dc574781",
   "metadata": {},
   "outputs": [
    {
     "name": "stdout",
     "output_type": "stream",
     "text": [
      "[1, 2, 3, 4, 5]\n",
      "<class 'list'>\n",
      "[1 2 3 4 5]\n"
     ]
    },
    {
     "data": {
      "text/plain": [
       "numpy.ndarray"
      ]
     },
     "execution_count": 8,
     "metadata": {},
     "output_type": "execute_result"
    }
   ],
   "source": [
    "# Create a NumPy ndarray Object\n",
    "# NumPy is used to work with arrays. The array object in NumPy is called ndarray.\n",
    "# We can create a NumPy ndarray object by using the array() function.\n",
    "\n",
    "# general python list\n",
    "l = [1,2,3,4,5] \n",
    "print(l) # [1, 2, 3, 4, 5] # here list is comma seperated view\n",
    "print(type(l)) # <class 'list'>\n",
    "\n",
    "arr = np.array([1,2,3,4,5]) \n",
    "print(arr) # [1 2 3 4 5]  # here list is space seperated view\n",
    "type(arr) # numpy.ndarray"
   ]
  },
  {
   "cell_type": "code",
   "execution_count": 15,
   "id": "8eba2ce0",
   "metadata": {},
   "outputs": [
    {
     "name": "stdout",
     "output_type": "stream",
     "text": [
      "10\n",
      "-------------------\n",
      "[1 2 3 4]\n",
      "-------------------\n",
      "[[1 2 3 4]\n",
      " [5 6 7 8]]\n",
      "-------------------\n",
      "[[[ 1  2  3  4]\n",
      "  [ 5  6  7  8]]\n",
      "\n",
      " [[ 9 10 11 12]\n",
      "  [13 14 15 16]]]\n"
     ]
    }
   ],
   "source": [
    "# Dimensions in NumPy Arrays \n",
    "# To create an ndarray, we can pass a list, tuple or any array-like object into the array() method, and it will be converted into an ndarray:\n",
    "zero_d = np.array(10)\n",
    "print(zero_d)\n",
    "print('-------------------')\n",
    "\n",
    "\n",
    "one_d = np.array([1,2,3,4])\n",
    "print(one_d)\n",
    "print('-------------------')\n",
    "\n",
    "\n",
    "two_d = np.array([[1,2,3,4], [5,6,7,8]])\n",
    "print(two_d)\n",
    "print('-------------------')\n",
    "\n",
    "\n",
    "three_d = np.array([[[1,2,3,4], [5,6,7,8]], [[9,10,11,12], [13,14,15,16]]])\n",
    "print(three_d)\n",
    "# Note: for two or gretter dimantion array need the same range of value of all dimantion"
   ]
  },
  {
   "cell_type": "code",
   "execution_count": 19,
   "id": "450c4cac",
   "metadata": {},
   "outputs": [
    {
     "name": "stdout",
     "output_type": "stream",
     "text": [
      "0\n",
      "1\n",
      "2\n",
      "3\n",
      "[[[[[[[[[[1 2 3 4]]]]]]]]]]\n"
     ]
    }
   ],
   "source": [
    "# Check Number of Dimensions\n",
    "# NumPy Arrays provides the ndim attribute that returns an integer that tells us how many dimensions the array have.\n",
    "print(zero_d.ndim)\n",
    "print(one_d.ndim)\n",
    "print(two_d.ndim)\n",
    "print(three_d.ndim)\n",
    "\n",
    "# Higher Dimensional Arrays\n",
    "# An array can have any number of dimensions.\n",
    "# When the array is created, you can define the number of dimensions by using the ndmin argument.\n",
    "arr = np.array([1,2,3,4], ndmin = 10)\n",
    "print(arr)"
   ]
  },
  {
   "cell_type": "code",
   "execution_count": 30,
   "id": "4cb1e0a3",
   "metadata": {},
   "outputs": [
    {
     "name": "stdout",
     "output_type": "stream",
     "text": [
      "280 µs ± 2.19 µs per loop (mean ± std. dev. of 7 runs, 1,000 loops each)\n"
     ]
    }
   ],
   "source": [
    "# Speed test different between NumPy array and python list\n",
    "%timeit [i**2 for i in range(1,1000)]"
   ]
  },
  {
   "cell_type": "code",
   "execution_count": 32,
   "id": "05885a8e",
   "metadata": {},
   "outputs": [
    {
     "name": "stdout",
     "output_type": "stream",
     "text": [
      "21.9 µs ± 292 ns per loop (mean ± std. dev. of 7 runs, 10,000 loops each)\n"
     ]
    }
   ],
   "source": [
    "%timeit np.arange(1,1000)**2"
   ]
  },
  {
   "cell_type": "code",
   "execution_count": 34,
   "id": "8cb569a7",
   "metadata": {},
   "outputs": [
    {
     "name": "stdout",
     "output_type": "stream",
     "text": [
      "Enter:12\n",
      "Enter:15\n",
      "Enter:14\n",
      "Enter:13\n",
      "['12', '15', '14', '13']\n",
      "['12' '15' '14' '13']\n"
     ]
    }
   ],
   "source": [
    "# array create using user input data\n",
    "pylist = []\n",
    "\n",
    "for i in range(1,5):\n",
    "    inp = input('Enter:')\n",
    "    pylist.append(inp)\n",
    "    \n",
    "print(pylist) # ['12', '15', '14', '13']\n",
    "print(np.array(pylist)) # ['12' '15' '14' '13']"
   ]
  },
  {
   "cell_type": "code",
   "execution_count": null,
   "id": "d91271a3",
   "metadata": {},
   "outputs": [],
   "source": []
  }
 ],
 "metadata": {
  "kernelspec": {
   "display_name": "Python 3 (ipykernel)",
   "language": "python",
   "name": "python3"
  },
  "language_info": {
   "codemirror_mode": {
    "name": "ipython",
    "version": 3
   },
   "file_extension": ".py",
   "mimetype": "text/x-python",
   "name": "python",
   "nbconvert_exporter": "python",
   "pygments_lexer": "ipython3",
   "version": "3.8.10"
  },
  "varInspector": {
   "cols": {
    "lenName": 16,
    "lenType": 16,
    "lenVar": 40
   },
   "kernels_config": {
    "python": {
     "delete_cmd_postfix": "",
     "delete_cmd_prefix": "del ",
     "library": "var_list.py",
     "varRefreshCmd": "print(var_dic_list())"
    },
    "r": {
     "delete_cmd_postfix": ") ",
     "delete_cmd_prefix": "rm(",
     "library": "var_list.r",
     "varRefreshCmd": "cat(var_dic_list()) "
    }
   },
   "types_to_exclude": [
    "module",
    "function",
    "builtin_function_or_method",
    "instance",
    "_Feature"
   ],
   "window_display": false
  }
 },
 "nbformat": 4,
 "nbformat_minor": 5
}
