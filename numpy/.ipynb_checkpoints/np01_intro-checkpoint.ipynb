{
 "cells": [
  {
   "cell_type": "code",
   "execution_count": null,
   "id": "28101254",
   "metadata": {},
   "outputs": [],
   "source": [
    "# NumPy is a Python library used for working with arrays.\n",
    "# It also has functions for working in domain of linear algebra, fourier transform, and matrices.\n",
    "# NumPy stands for Numerical Python.\n",
    "# In Python we have lists that serve the purpose of arrays, but they are slow to process.\n",
    "# NumPy aims to provide an array object that is up to 50x faster than traditional Python lists.\n",
    "# The array object in NumPy is called ndarray, it provides a lot of supporting functions that make working with ndarray very easy.\n",
    "# NumPy arrays are stored at one continuous place in memory unlike lists, so processes can access and manipulate them very efficiently.\n",
    "# This behavior is called locality of reference in computer science.\n",
    "# NumPy is optimized to work with latest CPU architectures\n",
    "# NumPy is a Python library and is written partially in Python, but most of the parts that require fast computation are written in C or C++."
   ]
  },
  {
   "cell_type": "code",
   "execution_count": 1,
   "id": "3935ffd8",
   "metadata": {},
   "outputs": [
    {
     "name": "stdout",
     "output_type": "stream",
     "text": [
      "Package                           Version             \r\n",
      "--------------------------------- --------------------\r\n",
      "altgraph                          0.17.2              \r\n",
      "apturl                            0.5.2               \r\n",
      "argon2-cffi                       21.3.0              \r\n",
      "argon2-cffi-bindings              21.2.0              \r\n",
      "asgiref                           3.5.0               \r\n",
      "asttokens                         2.0.5               \r\n",
      "attrs                             21.4.0              \r\n",
      "auto-py-to-exe                    2.21.0              \r\n",
      "backcall                          0.2.0               \r\n",
      "backports.zoneinfo                0.2.1               \r\n",
      "bcrypt                            3.1.7               \r\n",
      "beautifulsoup4                    4.11.1              \r\n",
      "bleach                            5.0.0               \r\n",
      "blinker                           1.4                 \r\n",
      "blis                              0.7.7               \r\n",
      "bottle                            0.12.21             \r\n",
      "bottle-websocket                  0.2.9               \r\n",
      "Brlapi                            0.7.0               \r\n",
      "catalogue                         2.0.7               \r\n",
      "certifi                           2019.11.28          \r\n",
      "cffi                              1.15.0              \r\n",
      "chardet                           3.0.4               \r\n",
      "click                             8.1.3               \r\n",
      "colorama                          0.4.3               \r\n",
      "command-not-found                 0.3                 \r\n",
      "commonmark                        0.9.1               \r\n",
      "cryptography                      2.8                 \r\n",
      "cupshelpers                       1.0                 \r\n",
      "cymem                             2.0.6               \r\n",
      "dbus-python                       1.2.16              \r\n",
      "debugpy                           1.6.0               \r\n",
      "decorator                         5.1.1               \r\n",
      "defer                             1.0.6               \r\n",
      "defusedxml                        0.7.1               \r\n",
      "distro                            1.4.0               \r\n",
      "distro-info                       0.23ubuntu1         \r\n",
      "Django                            4.0.3               \r\n",
      "django-ckeditor                   6.2.0               \r\n",
      "django-js-asset                   2.0.0               \r\n",
      "docutils                          0.19                \r\n",
      "duplicity                         0.8.12.0            \r\n",
      "Eel                               0.14.0              \r\n",
      "en-core-web-sm                    3.3.0               \r\n",
      "entrypoints                       0.3                 \r\n",
      "executing                         0.8.3               \r\n",
      "fasteners                         0.14.1              \r\n",
      "fastjsonschema                    2.15.3              \r\n",
      "future                            0.18.2              \r\n",
      "gevent                            21.12.0             \r\n",
      "gevent-websocket                  0.10.1              \r\n",
      "gpg                               1.13.1-unknown      \r\n",
      "greenlet                          1.1.2               \r\n",
      "httplib2                          0.14.0              \r\n",
      "idna                              2.8                 \r\n",
      "importlib-metadata                4.12.0              \r\n",
      "importlib-resources               5.8.0               \r\n",
      "ipykernel                         6.15.0              \r\n",
      "ipython                           8.4.0               \r\n",
      "ipython-genutils                  0.2.0               \r\n",
      "jedi                              0.18.1              \r\n",
      "Jinja2                            3.1.2               \r\n",
      "jsonschema                        4.6.0               \r\n",
      "jupyter-client                    7.3.4               \r\n",
      "jupyter-contrib-core              0.3.3               \r\n",
      "jupyter-contrib-nbextensions      0.5.1               \r\n",
      "jupyter-core                      4.10.0              \r\n",
      "jupyter-highlight-selected-word   0.2.0               \r\n",
      "jupyter-latex-envs                1.4.6               \r\n",
      "jupyter-nbextensions-configurator 0.4.1               \r\n",
      "jupyterlab-pygments               0.2.2               \r\n",
      "keyring                           18.0.1              \r\n",
      "langcodes                         3.3.0               \r\n",
      "language-selector                 0.1                 \r\n",
      "launchpadlib                      1.10.13             \r\n",
      "lazr.restfulclient                0.14.2              \r\n",
      "lazr.uri                          1.0.3               \r\n",
      "lockfile                          0.12.2              \r\n",
      "louis                             3.12.0              \r\n",
      "lxml                              4.9.0               \r\n",
      "macaroonbakery                    1.3.1               \r\n",
      "Mako                              1.1.0               \r\n",
      "MarkupSafe                        2.1.1               \r\n",
      "matplotlib-inline                 0.1.3               \r\n",
      "mistune                           0.8.4               \r\n",
      "monotonic                         1.5                 \r\n",
      "murmurhash                        1.0.7               \r\n",
      "nbclient                          0.6.4               \r\n",
      "nbconvert                         6.5.0               \r\n",
      "nbformat                          5.4.0               \r\n",
      "nest-asyncio                      1.5.5               \r\n",
      "netifaces                         0.10.4              \r\n",
      "notebook                          6.4.12              \r\n",
      "numpy                             1.22.4              \r\n",
      "oauthlib                          3.1.0               \r\n",
      "olefile                           0.46                \r\n",
      "packaging                         21.3                \r\n",
      "pandocfilters                     1.5.0               \r\n",
      "paramiko                          2.6.0               \r\n",
      "parso                             0.8.3               \r\n",
      "pathy                             0.6.1               \r\n",
      "pexpect                           4.6.0               \r\n",
      "pickleshare                       0.7.5               \r\n",
      "Pillow                            7.0.0               \r\n",
      "pip                               20.0.2              \r\n",
      "pkginfo                           1.8.3               \r\n",
      "preshed                           3.0.6               \r\n",
      "prometheus-client                 0.14.1              \r\n",
      "prompt-toolkit                    3.0.29              \r\n",
      "protobuf                          3.6.1               \r\n",
      "psutil                            5.9.1               \r\n",
      "ptyprocess                        0.7.0               \r\n",
      "pure-eval                         0.2.2               \r\n",
      "pycairo                           1.16.2              \r\n",
      "pycparser                         2.21                \r\n",
      "pycups                            1.9.73              \r\n",
      "pydantic                          1.8.2               \r\n",
      "Pygments                          2.12.0              \r\n",
      "PyGObject                         3.36.0              \r\n",
      "pyinstaller                       5.2                 \r\n",
      "pyinstaller-hooks-contrib         2022.8              \r\n",
      "PyJWT                             1.7.1               \r\n",
      "pymacaroons                       0.13.0              \r\n",
      "PyNaCl                            1.3.0               \r\n",
      "pyparsing                         3.0.9               \r\n",
      "PyQt5                             5.14.1              \r\n",
      "pyRFC3339                         1.1                 \r\n",
      "pyrsistent                        0.18.1              \r\n",
      "PySocks                           1.6.8               \r\n",
      "python-apt                        2.0.0+ubuntu0.20.4.7\r\n",
      "python-dateutil                   2.8.2               \r\n",
      "python-debian                     0.1.36ubuntu1       \r\n",
      "pytz                              2019.3              \r\n",
      "pyxdg                             0.26                \r\n",
      "PyYAML                            5.3.1               \r\n",
      "pyzmq                             23.1.0              \r\n",
      "readme-renderer                   35.0                \r\n",
      "reportlab                         3.5.34              \r\n",
      "requests                          2.22.0              \r\n",
      "requests-toolbelt                 0.9.1               \r\n",
      "requests-unixsocket               0.2.0               \r\n",
      "rfc3986                           2.0.0               \r\n",
      "rich                              12.5.1              \r\n",
      "SecretStorage                     2.3.1               \r\n",
      "Send2Trash                        1.8.0               \r\n",
      "setuptools                        45.2.0              \r\n",
      "simplejson                        3.16.0              \r\n",
      "sip                               4.19.21             \r\n",
      "six                               1.14.0              \r\n",
      "smart-open                        5.2.1               \r\n",
      "soupsieve                         2.3.2.post1         \r\n",
      "spacy                             3.3.1               \r\n",
      "spacy-legacy                      3.0.9               \r\n",
      "spacy-loggers                     1.0.2               \r\n",
      "sqlparse                          0.4.2               \r\n",
      "srsly                             2.4.3               \r\n",
      "ssh-import-id                     5.10                \r\n",
      "stack-data                        0.3.0               \r\n",
      "systemd-python                    234                 \r\n",
      "terminado                         0.15.0              \r\n",
      "thinc                             8.0.17              \r\n",
      "tinycss2                          1.1.1               \r\n",
      "torbrowser-launcher               0.3.2               \r\n",
      "tornado                           6.1                 \r\n",
      "tqdm                              4.64.0              \r\n",
      "traitlets                         5.3.0               \r\n",
      "twine                             4.0.1               \r\n",
      "typer                             0.4.1               \r\n",
      "typing-extensions                 4.2.0               \r\n",
      "ubuntu-advantage-tools            27.9                \r\n",
      "ubuntu-drivers-common             0.0.0               \r\n",
      "ufw                               0.36                \r\n",
      "unattended-upgrades               0.1                 \r\n",
      "urllib3                           1.26.10             \r\n",
      "usb-creator                       0.3.7               \r\n",
      "wadllib                           1.3.3               \r\n",
      "wasabi                            0.9.1               \r\n",
      "wcwidth                           0.2.5               \r\n",
      "webencodings                      0.5.1               \r\n",
      "wheel                             0.34.2              \r\n",
      "whichcraft                        0.6.1               \r\n",
      "xkit                              0.0.0               \r\n",
      "zipp                              3.8.0               \r\n",
      "zope.event                        4.5.0               \r\n",
      "zope.interface                    5.4.0               \r\n"
     ]
    },
    {
     "name": "stdout",
     "output_type": "stream",
     "text": [
      "Note: you may need to restart the kernel to use updated packages.\n"
     ]
    }
   ],
   "source": [
    "pip list"
   ]
  },
  {
   "cell_type": "code",
   "execution_count": 3,
   "id": "27b678bc",
   "metadata": {},
   "outputs": [
    {
     "name": "stdout",
     "output_type": "stream",
     "text": [
      "1.22.4\n"
     ]
    }
   ],
   "source": [
    "# NumPy install comand -> pip install numpy\n",
    "import numpy as np\n",
    "# NumPy is usually imported under the np alias.\n",
    "\n",
    "print(np.__version__) # Checking NumPy Version"
   ]
  },
  {
   "cell_type": "code",
   "execution_count": 8,
   "id": "af6c08c8",
   "metadata": {},
   "outputs": [
    {
     "name": "stdout",
     "output_type": "stream",
     "text": [
      "[1, 2, 3, 4, 5]\n",
      "<class 'list'>\n",
      "[1 2 3 4 5]\n"
     ]
    },
    {
     "data": {
      "text/plain": [
       "numpy.ndarray"
      ]
     },
     "execution_count": 8,
     "metadata": {},
     "output_type": "execute_result"
    }
   ],
   "source": [
    "# Create a NumPy ndarray Object\n",
    "# NumPy is used to work with arrays. The array object in NumPy is called ndarray.\n",
    "# We can create a NumPy ndarray object by using the array() function.\n",
    "\n",
    "# general python list\n",
    "l = [1,2,3,4,5] \n",
    "print(l) # [1, 2, 3, 4, 5] # here list is comma seperated view\n",
    "print(type(l)) # <class 'list'>\n",
    "\n",
    "arr = np.array([1,2,3,4,5]) \n",
    "print(arr) # [1 2 3 4 5]  # here list is space seperated view\n",
    "type(arr) # numpy.ndarray"
   ]
  },
  {
   "cell_type": "code",
   "execution_count": 15,
   "id": "474f1cd7",
   "metadata": {},
   "outputs": [
    {
     "name": "stdout",
     "output_type": "stream",
     "text": [
      "10\n",
      "-------------------\n",
      "[1 2 3 4]\n",
      "-------------------\n",
      "[[1 2 3 4]\n",
      " [5 6 7 8]]\n",
      "-------------------\n",
      "[[[ 1  2  3  4]\n",
      "  [ 5  6  7  8]]\n",
      "\n",
      " [[ 9 10 11 12]\n",
      "  [13 14 15 16]]]\n"
     ]
    }
   ],
   "source": [
    "# Dimensions in NumPy Arrays \n",
    "# To create an ndarray, we can pass a list, tuple or any array-like object into the array() method, and it will be converted into an ndarray:\n",
    "zero_d = np.array(10)\n",
    "print(zero_d)\n",
    "print('-------------------')\n",
    "\n",
    "\n",
    "one_d = np.array([1,2,3,4])\n",
    "print(one_d)\n",
    "print('-------------------')\n",
    "\n",
    "\n",
    "two_d = np.array([[1,2,3,4], [5,6,7,8]])\n",
    "print(two_d)\n",
    "print('-------------------')\n",
    "\n",
    "\n",
    "three_d = np.array([[[1,2,3,4], [5,6,7,8]], [[9,10,11,12], [13,14,15,16]]])\n",
    "print(three_d)"
   ]
  },
  {
   "cell_type": "code",
   "execution_count": 19,
   "id": "4194bf10",
   "metadata": {},
   "outputs": [
    {
     "name": "stdout",
     "output_type": "stream",
     "text": [
      "0\n",
      "1\n",
      "2\n",
      "3\n",
      "[[[[[[[[[[1 2 3 4]]]]]]]]]]\n"
     ]
    }
   ],
   "source": [
    "# Check Number of Dimensions\n",
    "# NumPy Arrays provides the ndim attribute that returns an integer that tells us how many dimensions the array have.\n",
    "print(zero_d.ndim)\n",
    "print(one_d.ndim)\n",
    "print(two_d.ndim)\n",
    "print(three_d.ndim)\n",
    "\n",
    "# Higher Dimensional Arrays\n",
    "# An array can have any number of dimensions.\n",
    "# When the array is created, you can define the number of dimensions by using the ndmin argument.\n",
    "arr = np.array([1,2,3,4], ndmin = 10)\n",
    "print(arr)"
   ]
  },
  {
   "cell_type": "code",
   "execution_count": 30,
   "id": "9b459590",
   "metadata": {},
   "outputs": [
    {
     "name": "stdout",
     "output_type": "stream",
     "text": [
      "280 µs ± 2.19 µs per loop (mean ± std. dev. of 7 runs, 1,000 loops each)\n"
     ]
    }
   ],
   "source": [
    "# Speed test different between NumPy array and python list\n",
    "%timeit [i**2 for i in range(1,1000)]"
   ]
  },
  {
   "cell_type": "code",
   "execution_count": 32,
   "id": "33174b2c",
   "metadata": {},
   "outputs": [
    {
     "name": "stdout",
     "output_type": "stream",
     "text": [
      "21.9 µs ± 292 ns per loop (mean ± std. dev. of 7 runs, 10,000 loops each)\n"
     ]
    }
   ],
   "source": [
    "%timeit np.arange(1,1000)**2"
   ]
  },
  {
   "cell_type": "code",
   "execution_count": null,
   "id": "1fdfaf76",
   "metadata": {},
   "outputs": [],
   "source": []
  }
 ],
 "metadata": {
  "kernelspec": {
   "display_name": "Python 3 (ipykernel)",
   "language": "python",
   "name": "python3"
  },
  "language_info": {
   "codemirror_mode": {
    "name": "ipython",
    "version": 3
   },
   "file_extension": ".py",
   "mimetype": "text/x-python",
   "name": "python",
   "nbconvert_exporter": "python",
   "pygments_lexer": "ipython3",
   "version": "3.8.10"
  },
  "varInspector": {
   "cols": {
    "lenName": 16,
    "lenType": 16,
    "lenVar": 40
   },
   "kernels_config": {
    "python": {
     "delete_cmd_postfix": "",
     "delete_cmd_prefix": "del ",
     "library": "var_list.py",
     "varRefreshCmd": "print(var_dic_list())"
    },
    "r": {
     "delete_cmd_postfix": ") ",
     "delete_cmd_prefix": "rm(",
     "library": "var_list.r",
     "varRefreshCmd": "cat(var_dic_list()) "
    }
   },
   "types_to_exclude": [
    "module",
    "function",
    "builtin_function_or_method",
    "instance",
    "_Feature"
   ],
   "window_display": false
  }
 },
 "nbformat": 4,
 "nbformat_minor": 5
}
