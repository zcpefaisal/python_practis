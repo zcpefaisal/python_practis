{
 "cells": [
  {
   "cell_type": "code",
   "execution_count": 1,
   "id": "e505feb4",
   "metadata": {},
   "outputs": [],
   "source": [
    "# You could use arithmetic operators + - * / directly between NumPy arrays, \n",
    "# but this section discusses an extension of the same where we have functions that can take any array \n",
    "# like objects e.g. lists, tuples etc. and perform arithmetic conditionally.\n",
    "# Arithmetic Conditionally: means that we can define conditions where the arithmetic operation should happen.\n",
    "import numpy as np"
   ]
  },
  {
   "cell_type": "code",
   "execution_count": 2,
   "id": "3bb696fd",
   "metadata": {},
   "outputs": [
    {
     "name": "stdout",
     "output_type": "stream",
     "text": [
      "[6 7 8 9]\n"
     ]
    }
   ],
   "source": [
    "var = np.array([1,2,3,4])\n",
    "addvar = var + 5\n",
    "print(addvar)"
   ]
  },
  {
   "cell_type": "code",
   "execution_count": 15,
   "id": "4fd6fb73",
   "metadata": {},
   "outputs": [
    {
     "name": "stdout",
     "output_type": "stream",
     "text": [
      "[2 4 6 8]\n",
      "[2 4 6 8]\n",
      "[-1  0  1  2]\n",
      "[-1  0  1  2]\n",
      "[2 4 6 8]\n",
      "[2 4 6 8]\n",
      "[0.5 1.  1.5 2. ]\n",
      "[0.5 1.  1.5 2. ]\n",
      "[1 0 1 0]\n",
      "[1 0 1 0]\n",
      "[ 1  4  9 16]\n",
      "[1 0 0 0]\n"
     ]
    }
   ],
   "source": [
    "var1 = np.array([1,2,3,4])\n",
    "var2 = np.array([1,2,3,4])\n",
    "print(var1 + var2) # direct addation\n",
    "print(np.add(var1, var2)) # add()\n",
    "\n",
    "print(var1 - 2)\n",
    "print(np.subtract(var1, 2)) # subtract()\n",
    "print(var1 * 2)\n",
    "print(np.multiply(var1, 2)) # add()\n",
    "print(var1 / 2)\n",
    "print(np.divide(var1, 2)) # add()\n",
    "print(var1 % 2)\n",
    "print(np.mod(var1, 2)) # add()\n",
    "print(np.power(var1, 2)) # add()\n",
    "print(np.reciprocal(var1)) # add()"
   ]
  },
  {
   "cell_type": "code",
   "execution_count": 14,
   "id": "79d9984c",
   "metadata": {},
   "outputs": [
    {
     "name": "stdout",
     "output_type": "stream",
     "text": [
      "[[ 2  4  6  8]\n",
      " [ 8 10 12 14]]\n"
     ]
    }
   ],
   "source": [
    "var3 = np.array([[1,2,3,4], [4,5,6,7]])\n",
    "var4 = np.array([[1,2,3,4], [4,5,6,7]])\n",
    "print(np.add(var3, var4))\n"
   ]
  },
  {
   "cell_type": "code",
   "execution_count": 17,
   "id": "71e7eeee",
   "metadata": {},
   "outputs": [
    {
     "name": "stdout",
     "output_type": "stream",
     "text": [
      "[1 2 1 2 3 4]\n"
     ]
    }
   ],
   "source": [
    "Absolute Values\n",
    "# Both the absolute() and the abs() functions functions do the same absolute operation element-wise \n",
    "# but we should use absolute() to avoid confusion with python's inbuilt math.abs()\n",
    "arr = np.array([-1, -2, 1, 2, 3, -4])\n",
    "print(np.absolute(arr))"
   ]
  },
  {
   "cell_type": "code",
   "execution_count": null,
   "id": "7c04f78a",
   "metadata": {},
   "outputs": [],
   "source": []
  }
 ],
 "metadata": {
  "kernelspec": {
   "display_name": "Python 3 (ipykernel)",
   "language": "python",
   "name": "python3"
  },
  "language_info": {
   "codemirror_mode": {
    "name": "ipython",
    "version": 3
   },
   "file_extension": ".py",
   "mimetype": "text/x-python",
   "name": "python",
   "nbconvert_exporter": "python",
   "pygments_lexer": "ipython3",
   "version": "3.8.10"
  },
  "varInspector": {
   "cols": {
    "lenName": 16,
    "lenType": 16,
    "lenVar": 40
   },
   "kernels_config": {
    "python": {
     "delete_cmd_postfix": "",
     "delete_cmd_prefix": "del ",
     "library": "var_list.py",
     "varRefreshCmd": "print(var_dic_list())"
    },
    "r": {
     "delete_cmd_postfix": ") ",
     "delete_cmd_prefix": "rm(",
     "library": "var_list.r",
     "varRefreshCmd": "cat(var_dic_list()) "
    }
   },
   "types_to_exclude": [
    "module",
    "function",
    "builtin_function_or_method",
    "instance",
    "_Feature"
   ],
   "window_display": false
  }
 },
 "nbformat": 4,
 "nbformat_minor": 5
}
