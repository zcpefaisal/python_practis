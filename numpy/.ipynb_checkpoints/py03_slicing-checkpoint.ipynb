{
 "cells": [
  {
   "cell_type": "code",
   "execution_count": 8,
   "id": "9e5ec020",
   "metadata": {},
   "outputs": [
    {
     "name": "stdout",
     "output_type": "stream",
     "text": [
      "[3 4 5]\n",
      "[4 5 6 7]\n",
      "[1 2 3 4 5]\n",
      "[5 6]\n",
      "[2 4 6]\n",
      "[1 3 5 7]\n"
     ]
    }
   ],
   "source": [
    "# NumPy Array Slicing\n",
    "# We pass slice instead of index like this: [start:end].\n",
    "# We can also define the step, like this: [start:end:step].\n",
    "# If we don't pass start its considered 0\n",
    "# If we don't pass end its considered length of array in that dimension\n",
    "# If we don't pass step its considered 1\n",
    "\n",
    "import numpy as np\n",
    "\n",
    "arr = np.array([1, 2, 3, 4, 5, 6, 7]) \n",
    "print(arr[2:5]) # Slice elements from index 2 to index 4\n",
    "print(arr[3:]) # Slice elements from index 3 to the end of the array\n",
    "print(arr[:5]) # Slice elements from the beginning to index 4, (5 not included):\n",
    "\n",
    "# Negative Slicing\n",
    "print(arr[-3:-1]) # Slice from the index 3 from the end to index 1 from the end, (-1 not included):\n",
    "\n",
    "# STEP\n",
    "print(arr[1:6:2]) # Return every other element from index 1 to index 6:\n",
    "print(arr[::2]) # Return every other element from the entire array:\n"
   ]
  },
  {
   "cell_type": "code",
   "execution_count": 13,
   "id": "965c8f6e",
   "metadata": {},
   "outputs": [
    {
     "name": "stdout",
     "output_type": "stream",
     "text": [
      "[7 8 9]\n",
      "[3 8]\n",
      "[[2 3 4]\n",
      " [7 8 9]]\n"
     ]
    }
   ],
   "source": [
    "# Slicing 2-D Arrays\n",
    "arr = np.array([[1, 2, 3, 4, 5], [6, 7, 8, 9, 10]])\n",
    "print(arr[1, 1:4]) # From the second element, slice elements from index 1 to index 4 (not included):\n",
    "\n",
    "print(arr[0:2, 2]) # From both elements, return index 2:\n",
    "\n",
    "# arr[row number, column number]\n",
    "print(arr[0:2, 1:4]) # From both elements, slice index 1 to index 4 (not included), this will return a 2-D array:\n"
   ]
  },
  {
   "cell_type": "code",
   "execution_count": null,
   "id": "e4e21ca0",
   "metadata": {},
   "outputs": [],
   "source": []
  }
 ],
 "metadata": {
  "kernelspec": {
   "display_name": "Python 3 (ipykernel)",
   "language": "python",
   "name": "python3"
  },
  "language_info": {
   "codemirror_mode": {
    "name": "ipython",
    "version": 3
   },
   "file_extension": ".py",
   "mimetype": "text/x-python",
   "name": "python",
   "nbconvert_exporter": "python",
   "pygments_lexer": "ipython3",
   "version": "3.8.10"
  },
  "varInspector": {
   "cols": {
    "lenName": 16,
    "lenType": 16,
    "lenVar": 40
   },
   "kernels_config": {
    "python": {
     "delete_cmd_postfix": "",
     "delete_cmd_prefix": "del ",
     "library": "var_list.py",
     "varRefreshCmd": "print(var_dic_list())"
    },
    "r": {
     "delete_cmd_postfix": ") ",
     "delete_cmd_prefix": "rm(",
     "library": "var_list.r",
     "varRefreshCmd": "cat(var_dic_list()) "
    }
   },
   "types_to_exclude": [
    "module",
    "function",
    "builtin_function_or_method",
    "instance",
    "_Feature"
   ],
   "window_display": false
  }
 },
 "nbformat": 4,
 "nbformat_minor": 5
}
